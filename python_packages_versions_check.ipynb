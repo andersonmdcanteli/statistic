{
  "nbformat": 4,
  "nbformat_minor": 0,
  "metadata": {
    "colab": {
      "provenance": [],
      "include_colab_link": true
    },
    "kernelspec": {
      "name": "python3",
      "display_name": "Python 3"
    },
    "language_info": {
      "name": "python"
    }
  },
  "cells": [
    {
      "cell_type": "markdown",
      "metadata": {
        "id": "view-in-github",
        "colab_type": "text"
      },
      "source": [
        "<a href=\"https://colab.research.google.com/github/andersonmdcanteli/statistic/blob/master/python_packages_versions_check.ipynb\" target=\"_parent\"><img src=\"https://colab.research.google.com/assets/colab-badge.svg\" alt=\"Open In Colab\"/></a>"
      ]
    },
    {
      "cell_type": "markdown",
      "source": [
        "# About\n",
        "\n",
        "Notebook reserved for checking the version of Python and the main libraries in the standard Google Colab environment\n",
        "\n",
        "## Packages\n",
        "\n",
        "* matplotlib;\n",
        "* NumPy;\n",
        "* openpyxl;\n",
        "* Pandas;\n",
        "* Plotly;\n",
        "* SciPy;\n",
        "* Seaborn;\n",
        "* Statsmodels;\n",
        "\n",
        "## Last update\n",
        "\n",
        "June 26, 2023"
      ],
      "metadata": {
        "id": "kvBDUok_uOrZ"
      }
    },
    {
      "cell_type": "code",
      "source": [
        "import platform\n",
        "print(\"Python's version\", platform.python_version())"
      ],
      "metadata": {
        "colab": {
          "base_uri": "https://localhost:8080/"
        },
        "id": "qJTdbBC0qp4w",
        "outputId": "bab93e70-671d-4302-972e-e0b30f17c57b"
      },
      "execution_count": 1,
      "outputs": [
        {
          "output_type": "stream",
          "name": "stdout",
          "text": [
            "Python's version 3.10.12\n"
          ]
        }
      ]
    },
    {
      "cell_type": "code",
      "source": [
        "import matplotlib\n",
        "print(\"matplotlib's version\", matplotlib.__version__)"
      ],
      "metadata": {
        "colab": {
          "base_uri": "https://localhost:8080/"
        },
        "id": "1czHJ9IRr0ew",
        "outputId": "6563fb6a-fd17-4dd3-d569-3e0cdc3e5b3b"
      },
      "execution_count": 2,
      "outputs": [
        {
          "output_type": "stream",
          "name": "stdout",
          "text": [
            "matplotlib's version 3.7.1\n"
          ]
        }
      ]
    },
    {
      "cell_type": "code",
      "source": [
        "import numpy\n",
        "print(\"NumPy's version\", numpy.__version__)"
      ],
      "metadata": {
        "colab": {
          "base_uri": "https://localhost:8080/"
        },
        "id": "KWW4lGbSrblO",
        "outputId": "9081ca7e-042e-481e-ccfd-1ecef8329604"
      },
      "execution_count": 3,
      "outputs": [
        {
          "output_type": "stream",
          "name": "stdout",
          "text": [
            "NumPy's version 1.22.4\n"
          ]
        }
      ]
    },
    {
      "cell_type": "code",
      "source": [
        "import openpyxl\n",
        "print(\"openpyxl's version\", openpyxl.__version__)"
      ],
      "metadata": {
        "colab": {
          "base_uri": "https://localhost:8080/"
        },
        "id": "w5szGUFmr7t2",
        "outputId": "f2421d0c-ca6c-4646-a27f-6e658faa042a"
      },
      "execution_count": 4,
      "outputs": [
        {
          "output_type": "stream",
          "name": "stdout",
          "text": [
            "openpyxl's version 3.0.10\n"
          ]
        }
      ]
    },
    {
      "cell_type": "code",
      "source": [
        "import pandas\n",
        "print(\"Pandas's version\", pandas.__version__)"
      ],
      "metadata": {
        "colab": {
          "base_uri": "https://localhost:8080/"
        },
        "id": "aJULlxddruHH",
        "outputId": "7ee76e95-a196-43c4-e49c-c671d134034f"
      },
      "execution_count": 5,
      "outputs": [
        {
          "output_type": "stream",
          "name": "stdout",
          "text": [
            "Pandas's version 1.5.3\n"
          ]
        }
      ]
    },
    {
      "cell_type": "code",
      "source": [
        "import plotly\n",
        "print(\"Plotly's version\", plotly.__version__)"
      ],
      "metadata": {
        "colab": {
          "base_uri": "https://localhost:8080/"
        },
        "id": "RVqxR_JZtIYF",
        "outputId": "b60131de-28fb-401c-b1e0-bbf74b39a936"
      },
      "execution_count": 6,
      "outputs": [
        {
          "output_type": "stream",
          "name": "stdout",
          "text": [
            "Plotly's version 5.13.1\n"
          ]
        }
      ]
    },
    {
      "cell_type": "code",
      "source": [
        "import scipy\n",
        "print(\"SciPy's version\", scipy.__version__)"
      ],
      "metadata": {
        "colab": {
          "base_uri": "https://localhost:8080/"
        },
        "id": "yZhkriaerlKv",
        "outputId": "e49f28b9-dc84-4973-ff04-329344b3f4cb"
      },
      "execution_count": 7,
      "outputs": [
        {
          "output_type": "stream",
          "name": "stdout",
          "text": [
            "SciPy's version 1.10.1\n"
          ]
        }
      ]
    },
    {
      "cell_type": "code",
      "source": [
        "import seaborn\n",
        "print(\"seaborn's version\", seaborn.__version__)"
      ],
      "metadata": {
        "colab": {
          "base_uri": "https://localhost:8080/"
        },
        "id": "zzPnGwvctAr3",
        "outputId": "d1f88e43-adca-4bd0-ab64-4f70af29732b"
      },
      "execution_count": 8,
      "outputs": [
        {
          "output_type": "stream",
          "name": "stdout",
          "text": [
            "seaborn's version 0.12.2\n"
          ]
        }
      ]
    },
    {
      "cell_type": "code",
      "source": [
        "import statsmodels\n",
        "print(\"statsmodels's version\", statsmodels.__version__)"
      ],
      "metadata": {
        "colab": {
          "base_uri": "https://localhost:8080/"
        },
        "id": "pYhbuignrY9Y",
        "outputId": "e13bdca7-01e0-4863-df9f-cc871089cc8c"
      },
      "execution_count": 9,
      "outputs": [
        {
          "output_type": "stream",
          "name": "stdout",
          "text": [
            "statsmodels's version 0.13.5\n"
          ]
        }
      ]
    }
  ]
}