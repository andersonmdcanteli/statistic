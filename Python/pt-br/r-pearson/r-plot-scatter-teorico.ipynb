{
 "cells": [
  {
   "cell_type": "markdown",
   "id": "b858c9de",
   "metadata": {},
   "source": [
    "# Criando gráficos para exemplificar o coeficiente de Pearson\n",
    "\n",
    "Este notebook contém script para criar gráficos que compara o dataset com o intervalo de confiança do coeficiente de person variando o tamanho amostral do dataset.\n",
    "\n",
    "Ele gera:\n",
    "\n",
    "- Uma imagem em png para cada tamanho amostral do dataset ($n>4$);\n",
    "\n",
    "![alt text](https://raw.githubusercontent.com/andersonmdcanteli/statistic/master/Python/pt-br/r-pearson/r-plot/1.png \"Exemplo do gráfico de correlação de Pearson\").\n",
    "\n",
    "\n",
    "- Um video em .mp4 com todos os gráficos gerados;\n",
    "\n",
    "\n",
    "- Um gif com todos os gráficos gerados;\n",
    "\n",
    "\n",
    "![alt text](https://raw.githubusercontent.com/andersonmdcanteli/statistic/master/Python/pt-br/r-pearson/gif.gif \"gif gerado com os gráficos de Pearson\")\n",
    "\n",
    "\n"
   ]
  },
  {
   "cell_type": "markdown",
   "id": "2bac9748",
   "metadata": {},
   "source": [
    "## Importações\n",
    "\n",
    "> pip install -r /path/to/requirements.txt"
   ]
  },
  {
   "cell_type": "code",
   "execution_count": 1,
   "id": "6415d0e9",
   "metadata": {},
   "outputs": [],
   "source": [
    "import numpy as np\n",
    "from scipy import stats\n",
    "import matplotlib.pyplot as plt\n",
    "import os\n",
    "import cv2\n",
    "from moviepy.editor import VideoFileClip\n",
    "import random"
   ]
  },
  {
   "cell_type": "markdown",
   "id": "57c9c0a3",
   "metadata": {},
   "source": [
    "## Configurações"
   ]
  },
  {
   "cell_type": "code",
   "execution_count": 2,
   "id": "c903235d",
   "metadata": {},
   "outputs": [],
   "source": [
    "plt.rcParams[\"font.family\"] = \"Arial\"\n",
    "plt.rcParams[\"font.size\"] = 11\n",
    "\n",
    "video_name = \"r-plot-scatter-teoretical\"\n",
    "gif_name = \"r-plot-scatter-teoretical\"\n",
    "directory = 'r-plot-scatter-teoretical' # directory to save the figures"
   ]
  },
  {
   "cell_type": "markdown",
   "id": "dba0c898",
   "metadata": {},
   "source": [
    "### Criando a pasta para salvar as figuras"
   ]
  },
  {
   "cell_type": "code",
   "execution_count": 3,
   "id": "0a60897f",
   "metadata": {},
   "outputs": [],
   "source": [
    "current_directory = os.getcwd()\n",
    "path = current_directory + \"\\\\\" + directory\n",
    "os.makedirs(path)"
   ]
  },
  {
   "cell_type": "markdown",
   "id": "f24004c0",
   "metadata": {},
   "source": [
    "## Dataset"
   ]
  },
  {
   "cell_type": "code",
   "execution_count": 4,
   "id": "9b98505f",
   "metadata": {},
   "outputs": [],
   "source": [
    "nasal_length = np.array([609, 629, 620, 564, 645, 493, 606, 660, 630, 672, 778, 616, 727, 810, 778, 823, 755, 710, 701,\n",
    "                803, 855, 838, 830, 864, 635, 565, 562, 580, 596, 597, 636, 559, 615, 740, 677, 675, 629, 692,\n",
    "                710, 730, 763, 686, 717, 737, 816])\n",
    "\n",
    "nasal_width = np.array([241, 222, 233, 207, 247, 189, 226, 240, 215, 231, 263, 220, 271, 284, 279, 272, 268, 278, 238,\n",
    "               255, 308, 281, 288, 306, 236, 204, 216, 225, 220, 219, 201, 213, 228, 234, 237, 217, 211, 238,\n",
    "               221, 281, 292, 251, 231, 275, 275])\n",
    "\n",
    "alpha=0.05"
   ]
  },
  {
   "cell_type": "markdown",
   "id": "bd8ae591",
   "metadata": {},
   "source": [
    "## Função"
   ]
  },
  {
   "cell_type": "code",
   "execution_count": 5,
   "id": "a8833377",
   "metadata": {},
   "outputs": [],
   "source": [
    "def pearson_interval(x, y, alpha=0.05):\n",
    "    z_critical = stats.norm.ppf(1 - alpha/2)\n",
    "    r_pearson, _ = stats.pearsonr(x, y)\n",
    "    r_pearson_z_scale = np.arctanh(r_pearson)\n",
    "    ic_z_scale = z_critical/np.sqrt(len(x)-3)\n",
    "    ic_lower_z_scale = r_pearson_z_scale - ic_z_scale\n",
    "    ic_upper_z_scale = r_pearson_z_scale + ic_z_scale\n",
    "    ic_lower = np.tanh(ic_lower_z_scale)\n",
    "    ic_upper = np.tanh(ic_upper_z_scale)    \n",
    "    \n",
    "    return ic_lower, r_pearson, ic_upper, alpha"
   ]
  },
  {
   "cell_type": "markdown",
   "id": "d4c54664",
   "metadata": {},
   "source": [
    "## Criando os gráficos"
   ]
  },
  {
   "cell_type": "code",
   "execution_count": 8,
   "id": "1254e2e7",
   "metadata": {},
   "outputs": [],
   "source": [
    "aux = 0\n",
    "\n",
    "# criando valores teóricos\n",
    "r_values = np.linspace(-0.999, .999, 1000)\n",
    "r_values_z_scale = np.arctanh(r_values)\n",
    "\n",
    "\n",
    "# criando o último gráfico para obter os limites do eixos e ticks para padronizar\n",
    "fig, (ax1, ax2) = plt.subplots(1, 2, figsize=(12,4))\n",
    "ax1.scatter(nasal_length, nasal_width, label=\"Dados\")\n",
    "ax1.set_xlabel(\"Comprimento do nariz ($mm$)\")\n",
    "ax1.set_ylabel(\"Largura do nariz ($mm$)\")\n",
    "ax1.legend(loc=2)\n",
    "\n",
    "ymin_1, ymax_1 = ax1.get_ylim()\n",
    "yticks_1 = ax1.get_yticks()\n",
    "xmin_1, xmax_1 = ax1.get_xlim()\n",
    "xticks_1 = ax1.get_xticks()\n",
    "\n",
    "ic_lower, r_pearson, ic_upper, alpha = pearson_interval(nasal_length, nasal_width, alpha=0.05)\n",
    "ax2.plot(r_values, r_values_z_scale, label=\"Teórico\", c=\"k\", zorder=-1)\n",
    "ax2.scatter(r_pearson, np.arctanh(r_pearson), label=\"$r_{pearson}$\", c=\"r\")\n",
    "ax2.axvline(x=ic_lower, ymin=0, ymax=1, c=\"lightblue\", ls=\"--\", label=\"Limites de confiança \", )\n",
    "ax2.axvline(x=ic_upper, ymin=0, ymax=1, c=\"lightblue\", ls=\"--\")\n",
    "ax2.set_ylabel(\"$r_{pearson}$ transformado ($Z$)\")\n",
    "ax2.set_xlabel(\"$r_{pearson}$\")\n",
    "ax2.legend(loc=2)\n",
    "\n",
    "ymin_2, ymax_2 = ax2.get_ylim()\n",
    "yticks_2 = ax2.get_yticks()\n",
    "xmin_2, xmax_2 = ax2.get_xlim()\n",
    "xticks_2 = ax2.get_xticks()\n",
    "\n",
    "plt.close()\n",
    "\n",
    "\n",
    "\n",
    "# criando um gráfico para cada n maior do que 4\n",
    "for i in range(5, len(nasal_length) + 1):\n",
    "    aux = aux + 1\n",
    "    fig, (ax1, ax2) = plt.subplots(1, 2, figsize=(12,4))\n",
    "    ax1.scatter(nasal_length[:i], nasal_width[:i], label=\"Dados\")\n",
    "    ax1.set_xlabel(\"Comprimento do nariz ($mm$)\")\n",
    "    ax1.set_ylabel(\"Largura do nariz ($mm$)\")\n",
    "    ax1.set_xticks(xticks_1)\n",
    "    ax1.set_xlim(xmin_1, xmax_1)\n",
    "    ax1.set_yticks(yticks_1)\n",
    "    ax1.set_ylim(ymin_1, ymax_1)\n",
    "    ax1.legend(loc=2)\n",
    "\n",
    "    ic_lower, r_pearson, ic_upper, alpha = pearson_interval(nasal_length[:i], nasal_width[:i], alpha=0.05)\n",
    "\n",
    "    ax2.plot(r_values, r_values_z_scale, label=\"Teórico\", c=\"k\", zorder=-1)\n",
    "    ax2.scatter(r_pearson, np.arctanh(r_pearson), label=\"$r_{pearson}$\", c=\"r\")\n",
    "    ax2.axvline(x=ic_lower, ymin=0, ymax=1, c=\"lightblue\", ls=\"--\", label=\"Limites de confiança \", )\n",
    "    ax2.axvline(x=ic_upper, ymin=0, ymax=1, c=\"lightblue\", ls=\"--\")\n",
    "    ax2.set_ylabel(\"$r_{pearson}$ transformado ($Z$)\")\n",
    "    ax2.set_xlabel(\"$r_{pearson}$\")\n",
    "    \n",
    "    ax2.set_xticks(xticks_2)\n",
    "    ax2.set_xlim(xmin_2, xmax_2)\n",
    "    ax2.set_yticks(yticks_2)\n",
    "    ax2.set_ylim(ymin_2, ymax_2)\n",
    "    ax2.legend(loc=2)\n",
    "    plt.savefig(f\"{directory}/{aux}.png\", dpi=100, bbox_inches='tight')\n",
    "#     plt.show()\n",
    "    plt.close()\n"
   ]
  },
  {
   "cell_type": "markdown",
   "id": "1e1436c9",
   "metadata": {},
   "source": [
    "## Criando o video"
   ]
  },
  {
   "cell_type": "code",
   "execution_count": 9,
   "id": "eeae25e5",
   "metadata": {},
   "outputs": [],
   "source": [
    "img_names = []\n",
    "for i in range(1,aux+1):\n",
    "    img_names.append(f\"{i}.png\")\n",
    "    \n",
    "frame = cv2.imread(os.path.join(path, img_names[0]))\n",
    "height, width, layers = frame.shape\n",
    "\n",
    "video = cv2.VideoWriter(f'{video_name}.mp4', 0, 1, (width,height))\n",
    "\n",
    "for image in img_names:\n",
    "    video.write(cv2.imread(os.path.join(directory, image)))\n",
    "\n",
    "cv2.destroyAllWindows()\n",
    "video.release()"
   ]
  },
  {
   "cell_type": "markdown",
   "id": "741e4431",
   "metadata": {},
   "source": [
    "## Criando o gif"
   ]
  },
  {
   "cell_type": "code",
   "execution_count": 10,
   "id": "05d6c0de",
   "metadata": {},
   "outputs": [
    {
     "name": "stdout",
     "output_type": "stream",
     "text": [
      "MoviePy - Building file r-plot-scatter-teoretical.gif with imageio.\n"
     ]
    },
    {
     "name": "stderr",
     "output_type": "stream",
     "text": [
      "                                                                                                                       \r"
     ]
    },
    {
     "ename": "NotImplementedError",
     "evalue": "closing the clip by brute force, since .close() is not working properly",
     "output_type": "error",
     "traceback": [
      "\u001b[1;31m---------------------------------------------------------------------------\u001b[0m",
      "\u001b[1;31mNotImplementedError\u001b[0m                       Traceback (most recent call last)",
      "Cell \u001b[1;32mIn [10], line 7\u001b[0m\n\u001b[0;32m      4\u001b[0m clip\u001b[38;5;241m.\u001b[39mwrite_gif(\u001b[38;5;124mf\u001b[39m\u001b[38;5;124m\"\u001b[39m\u001b[38;5;132;01m{\u001b[39;00mgif_name\u001b[38;5;132;01m}\u001b[39;00m\u001b[38;5;124m.gif\u001b[39m\u001b[38;5;124m\"\u001b[39m)\n\u001b[0;32m      5\u001b[0m clip\u001b[38;5;241m.\u001b[39mclose()\n\u001b[1;32m----> 7\u001b[0m \u001b[38;5;28;01mraise\u001b[39;00m \u001b[38;5;167;01mNotImplementedError\u001b[39;00m(\u001b[38;5;124m\"\u001b[39m\u001b[38;5;124mclosing the clip by brute force, since .close() is not working properly\u001b[39m\u001b[38;5;124m\"\u001b[39m)\n",
      "\u001b[1;31mNotImplementedError\u001b[0m: closing the clip by brute force, since .close() is not working properly"
     ]
    }
   ],
   "source": [
    "# adapted from https://www.freecodecamp.org/news/how-to-convert-video-files-to-gif-in-python/\n",
    "\n",
    "with VideoFileClip(f'{video_name}.mp4') as clip:\n",
    "    clip.write_gif(f\"{gif_name}.gif\")\n",
    "    clip.close()\n",
    "    \n",
    "    raise NotImplementedError(\"closing the clip by brute force, since .close() is not working properly\")\n"
   ]
  },
  {
   "cell_type": "code",
   "execution_count": null,
   "id": "888a0320",
   "metadata": {},
   "outputs": [],
   "source": []
  }
 ],
 "metadata": {
  "kernelspec": {
   "display_name": "Python 3 (ipykernel)",
   "language": "python",
   "name": "python3"
  },
  "language_info": {
   "codemirror_mode": {
    "name": "ipython",
    "version": 3
   },
   "file_extension": ".py",
   "mimetype": "text/x-python",
   "name": "python",
   "nbconvert_exporter": "python",
   "pygments_lexer": "ipython3",
   "version": "3.9.10"
  }
 },
 "nbformat": 4,
 "nbformat_minor": 5
}
