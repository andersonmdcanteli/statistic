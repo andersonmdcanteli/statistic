{
 "cells": [
  {
   "attachments": {},
   "cell_type": "markdown",
   "id": "b858c9de",
   "metadata": {},
   "source": [
    "# Criando gráficos para exemplificar o coeficiente de Pearson\n",
    "\n",
    "Este notebook contém script para criar gráficos com diversos valores do coeficiente de Pearson.\n",
    "\n",
    "- Uma imagem em png para cada valor de r de Pearson estabelecido;\n",
    "\n",
    "![alt text](https://raw.githubusercontent.com/andersonmdcanteli/statistic/master/Python/pt-br/r-pearson/r-plot/1.png \"Exemplo do gráfico de correlação de Pearson\").\n",
    "\n",
    "\n",
    "- Um video em .avi com todos os gráficos gerados;\n",
    "\n",
    "\n",
    "[![](https://markdown-videos.deta.dev/youtube/txPRcb68j7A)](https://youtu.be/txPRcb68j7A)\n",
    "\n",
    "\n",
    "\n",
    "- Um gif com todos os gráficos gerados;\n",
    "\n",
    "\n",
    "![alt text](https://raw.githubusercontent.com/andersonmdcanteli/statistic/master/Python/pt-br/r-pearson/gif.gif \"gif gerado com os gráficos de Pearson\")\n",
    "\n",
    "\n",
    "\n",
    "\n",
    "> Os dados são gerados aleatoriamente\n"
   ]
  },
  {
   "cell_type": "markdown",
   "id": "2bac9748",
   "metadata": {},
   "source": [
    "## Importações\n",
    "\n",
    "> pip install -r /path/to/requirements.txt"
   ]
  },
  {
   "cell_type": "code",
   "execution_count": 1,
   "id": "6415d0e9",
   "metadata": {},
   "outputs": [],
   "source": [
    "import numpy as np\n",
    "from scipy import stats\n",
    "import matplotlib.pyplot as plt\n",
    "import os\n",
    "import cv2\n",
    "from moviepy.editor import VideoFileClip"
   ]
  },
  {
   "cell_type": "markdown",
   "id": "57c9c0a3",
   "metadata": {},
   "source": [
    "## Configurações"
   ]
  },
  {
   "cell_type": "code",
   "execution_count": 2,
   "id": "c903235d",
   "metadata": {},
   "outputs": [],
   "source": [
    "plt.rcParams[\"font.family\"] = \"Arial\"\n",
    "plt.rcParams[\"font.size\"] = 11\n",
    "reg_name = \"Regressão linear\" # legend label\n",
    "num_samples = 100 # the number of dots in each frame\n",
    "tol = 0.00001 # The maximum tolerance for the real Pearson coefficient\n",
    "video_name = \"video\"\n",
    "gif_name = \"gif\"\n",
    "directory = 'r-plot' # directory to save the figures"
   ]
  },
  {
   "cell_type": "markdown",
   "id": "dba0c898",
   "metadata": {},
   "source": [
    "### Criando a pasta para salvar as figuras"
   ]
  },
  {
   "cell_type": "code",
   "execution_count": 3,
   "id": "0a60897f",
   "metadata": {},
   "outputs": [],
   "source": [
    "current_directory = os.getcwd()\n",
    "path = current_directory + \"\\\\\" + directory\n",
    "os.makedirs(path)"
   ]
  },
  {
   "cell_type": "markdown",
   "id": "f24004c0",
   "metadata": {},
   "source": [
    "### Lista com os valores de r de Pearson\n",
    "\n",
    "> O video e o gif serão criados na ordem especificada na lista"
   ]
  },
  {
   "cell_type": "code",
   "execution_count": 4,
   "id": "9b98505f",
   "metadata": {},
   "outputs": [],
   "source": [
    "r_data = [0.999999, 0.9999, 0.999, 0.99, 0.98, 0.97, 0.96, 0.95, 0.90, 0.85, 0.8, 0.75, 0.70, 0.65,\n",
    "          0.60, 0.55, 0.50, 0.45, 0.40, 0.35, 0.30, 0.25, 0.20, 0.15, 0.10, 0.05, 0, -0.05, -0.10, \n",
    "          -0.15, -0.20, -0.25, -0.30, -0.35, -0.40, -0.45, -0.50, -0.55, -0.60, -0.65, -0.70,\n",
    "          -0.75, -0.8, -0.85, -0.90, -0.95, -0.96, -0.97, -0.98, -0.99, -0.999, -0.9999, -0.999999\n",
    "         ]"
   ]
  },
  {
   "cell_type": "markdown",
   "id": "d4c54664",
   "metadata": {},
   "source": [
    "## Criando os gráficos"
   ]
  },
  {
   "cell_type": "code",
   "execution_count": 5,
   "id": "1254e2e7",
   "metadata": {},
   "outputs": [],
   "source": [
    "# adapted from https://stackoverflow.com/a/16025584/17872198\n",
    "linalg = np.linalg\n",
    "\n",
    "num_variables = 2\n",
    "aux = 0\n",
    "for r in r_data:\n",
    "    aux += 1\n",
    "    cov = [[1, r], [r, 1]]\n",
    "    L = linalg.cholesky(cov)\n",
    "    r_aux = False\n",
    "    while r_aux is False:\n",
    "        uncorrelated = np.random.standard_normal((num_variables, num_samples))\n",
    "        mean = [0, 0]\n",
    "        correlated = np.dot(L, uncorrelated) + np.array(mean).reshape(2, 1)\n",
    "        reg = stats.linregress(correlated[0, :], correlated[1, :])\n",
    "\n",
    "        if r - np.abs(tol) <= reg[2] <= r + np.abs(tol):\n",
    "            r_aux = True\n",
    "\n",
    "    plt.figure()\n",
    "    plt.scatter(correlated[0, :], correlated[1, :], facecolors='none', edgecolors='k', label=f'$r = {round(reg[2],4)}$')\n",
    "    x_pred = np.array([np.min(correlated[0, :]), np.max(correlated[0, :])])\n",
    "    y_pred = reg[1] + reg[0]*x_pred\n",
    "    plt.plot(x_pred, y_pred, c='r', label=reg_name)\n",
    "    plt.legend(loc=2)\n",
    "    plt.xlim(left=-5, right=5)\n",
    "    plt.ylim(bottom=-5, top=5)\n",
    "\n",
    "    plt.savefig(f\"{directory}/{aux}.png\", dpi=100, bbox_inches='tight')\n",
    "#     plt.show()\n",
    "    plt.close()\n"
   ]
  },
  {
   "cell_type": "markdown",
   "id": "1e1436c9",
   "metadata": {},
   "source": [
    "## Criando o video"
   ]
  },
  {
   "cell_type": "code",
   "execution_count": 6,
   "id": "eeae25e5",
   "metadata": {},
   "outputs": [],
   "source": [
    "img_names = []\n",
    "for i in range(1,aux+1):\n",
    "    img_names.append(f\"{i}.png\")\n",
    "    \n",
    "frame = cv2.imread(os.path.join(path, img_names[0]))\n",
    "height, width, layers = frame.shape\n",
    "\n",
    "video = cv2.VideoWriter(f'{video_name}.avi', 0, 2, (width,height))\n",
    "\n",
    "for image in img_names:\n",
    "    video.write(cv2.imread(os.path.join(directory, image)))\n",
    "\n",
    "cv2.destroyAllWindows()\n",
    "video.release()"
   ]
  },
  {
   "cell_type": "markdown",
   "id": "741e4431",
   "metadata": {},
   "source": [
    "## Criando o gif"
   ]
  },
  {
   "cell_type": "code",
   "execution_count": 7,
   "id": "05d6c0de",
   "metadata": {},
   "outputs": [
    {
     "name": "stdout",
     "output_type": "stream",
     "text": [
      "MoviePy - Building file gif.gif with imageio.\n"
     ]
    },
    {
     "name": "stderr",
     "output_type": "stream",
     "text": [
      "                                                                                                                       \r"
     ]
    },
    {
     "ename": "NotImplementedError",
     "evalue": "closing the clip by brute force, since .close() is not working properly",
     "output_type": "error",
     "traceback": [
      "\u001b[1;31m---------------------------------------------------------------------------\u001b[0m",
      "\u001b[1;31mNotImplementedError\u001b[0m                       Traceback (most recent call last)",
      "Cell \u001b[1;32mIn [7], line 7\u001b[0m\n\u001b[0;32m      4\u001b[0m clip\u001b[38;5;241m.\u001b[39mwrite_gif(\u001b[38;5;124mf\u001b[39m\u001b[38;5;124m\"\u001b[39m\u001b[38;5;132;01m{\u001b[39;00mgif_name\u001b[38;5;132;01m}\u001b[39;00m\u001b[38;5;124m.gif\u001b[39m\u001b[38;5;124m\"\u001b[39m)\n\u001b[0;32m      5\u001b[0m clip\u001b[38;5;241m.\u001b[39mclose()\n\u001b[1;32m----> 7\u001b[0m \u001b[38;5;28;01mraise\u001b[39;00m \u001b[38;5;167;01mNotImplementedError\u001b[39;00m(\u001b[38;5;124m\"\u001b[39m\u001b[38;5;124mclosing the clip by brute force, since .close() is not working properly\u001b[39m\u001b[38;5;124m\"\u001b[39m)\n",
      "\u001b[1;31mNotImplementedError\u001b[0m: closing the clip by brute force, since .close() is not working properly"
     ]
    }
   ],
   "source": [
    "# adapted from https://www.freecodecamp.org/news/how-to-convert-video-files-to-gif-in-python/\n",
    "\n",
    "with VideoFileClip(f'{video_name}.avi') as clip:\n",
    "    clip.write_gif(f\"{gif_name}.gif\")\n",
    "    clip.close()\n",
    "    \n",
    "    raise NotImplementedError(\"closing the clip by brute force, since .close() is not working properly\")\n"
   ]
  },
  {
   "cell_type": "code",
   "execution_count": null,
   "id": "888a0320",
   "metadata": {},
   "outputs": [],
   "source": []
  }
 ],
 "metadata": {
  "kernelspec": {
   "display_name": "Python 3 (ipykernel)",
   "language": "python",
   "name": "python3"
  },
  "language_info": {
   "codemirror_mode": {
    "name": "ipython",
    "version": 3
   },
   "file_extension": ".py",
   "mimetype": "text/x-python",
   "name": "python",
   "nbconvert_exporter": "python",
   "pygments_lexer": "ipython3",
   "version": "3.9.10"
  }
 },
 "nbformat": 4,
 "nbformat_minor": 5
}
