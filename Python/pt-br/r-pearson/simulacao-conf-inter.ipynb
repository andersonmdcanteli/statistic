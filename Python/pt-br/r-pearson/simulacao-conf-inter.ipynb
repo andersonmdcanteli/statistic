{
 "cells": [
  {
   "cell_type": "markdown",
   "id": "9d67844c",
   "metadata": {},
   "source": [
    "# Simulação do intervalo de confiança do coeficiente de correlação ( $r_{pearson}$ )\n",
    "\n",
    "\n",
    "\n",
    "[![](https://markdown-videos.deta.dev/youtube/gc4f-Wrx4zw)](https://youtu.be/gc4f-Wrx4zw)\n",
    "\n",
    "\n",
    "***O vídeo esta acelerado em 16 vezes.***\n",
    "\n",
    "O vídeo acima demonstra o comportamento do coeficiente de correlação em relação ao tamanho da amostra e considerando o intervalo de confiança. Ele foi desenvolvido para ser utilizado em aulas para exemplificar o comportamento do coeficiente.\n",
    "\n",
    "\n",
    "## Considerações\n",
    "\n",
    "- Admite-se que os dados sejam normais, mesmo as amostras com tamanho amostral pequeno;\n",
    "- Os dados são amostrados de um único conjunto de dados;\n",
    "- Cada amostragem é aleatória e é sempre obtida do conjunto de dados original;\n",
    "- Não é possível repetir exatamente os mesmos resultados devido à randomização;\n",
    "\n",
    "\n",
    "> Com a configuração padrão, são gerados 4100 gráficos e 1 vídeo, que juntos ocupam quase 1 GB de memória\n",
    "\n",
    "\n",
    "Para mais detalhes sobre os cálculos, conjunto de dados e detalhes, [loading...]()."
   ]
  },
  {
   "cell_type": "markdown",
   "id": "5fa2fac6",
   "metadata": {},
   "source": [
    "## Imports"
   ]
  },
  {
   "cell_type": "code",
   "execution_count": null,
   "id": "ca254a8d",
   "metadata": {},
   "outputs": [],
   "source": [
    "import numpy as np\n",
    "from scipy import stats\n",
    "import matplotlib.pyplot as plt\n",
    "import os\n",
    "import cv2\n",
    "from sklearn.model_selection import train_test_split"
   ]
  },
  {
   "cell_type": "markdown",
   "id": "4419ce72",
   "metadata": {},
   "source": [
    "## Dataset"
   ]
  },
  {
   "cell_type": "code",
   "execution_count": null,
   "id": "1c7e4493",
   "metadata": {},
   "outputs": [],
   "source": [
    "nasal_length = np.array([609, 629, 620, 564, 645, 493, 606, 660, 630, 672, 778, 616, 727, 810, 778, 823, 755, 710, 701,\n",
    "                         803, 855, 838, 830, 864, 635, 565, 562, 580, 596, 597, 636, 559, 615, 740, 677, 675, 629, 692,\n",
    "                         710, 730, 763, 686, 717, 737, 816])\n",
    "\n",
    "nasal_width = np.array([241, 222, 233, 207, 247, 189, 226, 240, 215, 231, 263, 220, 271, 284, 279, 272, 268, 278, 238,\n",
    "                        255, 308, 281, 288, 306, 236, 204, 216, 225, 220, 219, 201, 213, 228, 234, 237, 217, 211, 238,\n",
    "                        221, 281, 292, 251, 231, 275, 275])"
   ]
  },
  {
   "cell_type": "markdown",
   "id": "922b63fd",
   "metadata": {},
   "source": [
    "## Options"
   ]
  },
  {
   "cell_type": "markdown",
   "id": "c76831ad",
   "metadata": {},
   "source": [
    "### Plot"
   ]
  },
  {
   "cell_type": "code",
   "execution_count": null,
   "id": "56b96251",
   "metadata": {},
   "outputs": [],
   "source": [
    "plt.rcParams[\"font.family\"] = \"Arial\" \n",
    "plt.rcParams[\"font.size\"] = 11\n",
    "box_text = \"Aleatorização\"\n",
    "x_label = \"Tamanho amostral ($n$)\"\n",
    "y_label = \"Coeficiente de correlação ($r_{pearson}$)\""
   ]
  },
  {
   "cell_type": "markdown",
   "id": "528e0c69",
   "metadata": {},
   "source": [
    "### Graph and Video"
   ]
  },
  {
   "cell_type": "code",
   "execution_count": null,
   "id": "06159116",
   "metadata": {},
   "outputs": [],
   "source": [
    "video_name = \"video-interval\" # name of the video file that will be generated\n",
    "directory = 'r-interval-images' # directory to save the figures"
   ]
  },
  {
   "cell_type": "markdown",
   "id": "9f019313",
   "metadata": {},
   "source": [
    "### Other"
   ]
  },
  {
   "cell_type": "code",
   "execution_count": null,
   "id": "4ec4d677",
   "metadata": {},
   "outputs": [],
   "source": [
    "alpha = 0.05 # level of significance\n",
    "N_FULL_ITERATIONS = 100 # Number of iterations performed by varying the sample size --> must be int"
   ]
  },
  {
   "cell_type": "markdown",
   "id": "775258bd",
   "metadata": {},
   "source": [
    "## Functions"
   ]
  },
  {
   "cell_type": "code",
   "execution_count": null,
   "id": "046088af",
   "metadata": {},
   "outputs": [],
   "source": [
    "def pearson_interval(x, y, alpha=0.05):\n",
    "    z_critical = stats.norm.ppf(1 - alpha/2)\n",
    "    r_pearson, _ = stats.pearsonr(x, y)\n",
    "    r_pearson_z_scale = np.arctanh(r_pearson)\n",
    "    ic_z_scale = z_critical/np.sqrt(len(x)-3)\n",
    "    ic_lower_z_scale = r_pearson_z_scale - ic_z_scale\n",
    "    ic_upper_z_scale = r_pearson_z_scale + ic_z_scale\n",
    "    ic_lower = np.tanh(ic_lower_z_scale)\n",
    "    ic_upper = np.tanh(ic_upper_z_scale)    \n",
    "    \n",
    "    return ic_lower, r_pearson, ic_upper, alpha"
   ]
  },
  {
   "cell_type": "markdown",
   "id": "172eda66",
   "metadata": {},
   "source": [
    "## Setting up"
   ]
  },
  {
   "cell_type": "code",
   "execution_count": null,
   "id": "74023175",
   "metadata": {},
   "outputs": [],
   "source": [
    "current_directory = os.getcwd()\n",
    "path_images = current_directory + \"\\\\\" + directory\n",
    "os.makedirs(path_images)"
   ]
  },
  {
   "cell_type": "markdown",
   "id": "b269a528",
   "metadata": {},
   "source": [
    "## Creating the charts"
   ]
  },
  {
   "cell_type": "code",
   "execution_count": null,
   "id": "57e26bfb",
   "metadata": {},
   "outputs": [],
   "source": [
    "# lists to append every lower, r and upper value\n",
    "lower_full = []\n",
    "upper_full = []\n",
    "center_full = []\n",
    "\n",
    "# initializing variable to order the graphics\n",
    "aux = 0\n",
    "\n",
    "# iterating through j times the entire range of data\n",
    "for j in range(N_FULL_ITERATIONS):\n",
    "    # lists to append lower, r, and upper values for each j \n",
    "    lower = []\n",
    "    center = []\n",
    "    upper = []\n",
    "\n",
    "    # defining the minimum number of points to be used\n",
    "    n_min = 5\n",
    "\n",
    "    # creating a list with size varying between n_min and the size of the dataset\n",
    "    data = list(range(n_min, nasal_length.size + 1))\n",
    "\n",
    "    # iterating on every n\n",
    "    for i in data:       \n",
    "        aux = aux + 1 \n",
    "        ## getting n_min samples\n",
    "        \n",
    "        # if i is equal to the total number of samples, do not sample and calculate r with all data\n",
    "        if i == nasal_length.size:\n",
    "            ic_lower, r_pearson, ic_upper, alpha = pearson_interval(x=nasal_length, y=nasal_width)\n",
    "        \n",
    "        # if i is less than the total number of samples, separate a random sample with i samples\n",
    "        else:\n",
    "            x_data, _, y_data, _ = train_test_split(nasal_length, nasal_width, train_size=i)\n",
    "            ic_lower, r_pearson, ic_upper, alpha = pearson_interval(x=x_data, y=y_data)\n",
    "        \n",
    "        # appending the results to the intermediate list\n",
    "        lower.append(ic_lower)\n",
    "        center.append(r_pearson)\n",
    "        upper.append(ic_upper)\n",
    "        \n",
    "        ## plotting the graph\n",
    "        # If it is the first point, plot only one scatter plot\n",
    "        if i == data[0]:\n",
    "            # creating the canvas\n",
    "            plt.figure(figsize=(16,6))\n",
    "            # checking if a complete iteration has already been done.\n",
    "            if len(lower_full) == 0:\n",
    "                # If not, do nothing (keeping it just for readability)\n",
    "                pass\n",
    "            else:\n",
    "                 # Otherwise, plot the traces already made\n",
    "                for l, c, u in zip(lower_full, center_full, upper_full):\n",
    "                    # line\n",
    "                    plt.plot(range(5, 5 + len(l)), c, color='k', alpha=0.05)\n",
    "                    # area\n",
    "                    plt.fill_between(range(5, 5 + len(l)), l, u, alpha=0.05, color='r', edgecolor='none')\n",
    "            \n",
    "            # adding the first point\n",
    "            plt.scatter(i, center, marker=\".\", color='k', alpha=0.05, label=\"$r_pearson$\")\n",
    "            plt.scatter(i, upper, marker=\".\", color='r', alpha=0.05, label=\"Intervalo de confiança\")\n",
    "            plt.scatter(i, lower, marker=\".\", color='r', alpha=0.05)\n",
    "            \n",
    "            # some adjustments and export the plot\n",
    "            plt.xticks(np.linspace(0,50,11))\n",
    "            plt.xlim(0,50)\n",
    "            plt.ylim(-1.1,1.1)\n",
    "            plt.ylabel(y_label)\n",
    "            plt.xlabel(x_label)            \n",
    "            plt.annotate(f\"{box_text}: {aux}\", xy=(30, -0.85), bbox=dict(boxstyle='square,pad=1', fc=\"w\"), size=20)            \n",
    "            plt.savefig(f\"{directory}/{aux}.png\", dpi=100,)\n",
    "            plt.show() \n",
    "        else:\n",
    "            # If it is not the first, plot the line and fill\n",
    "            # creating the canvas\n",
    "            plt.figure(figsize=(16,6))\n",
    "            # checking if a complete iteration has already been done.            \n",
    "            if len(lower_full) == 0:\n",
    "                # If not, do nothing (keeping it just for readability)              \n",
    "                pass\n",
    "            else:\n",
    "                 # Otherwise, plot the traces already made               \n",
    "                for l, c, u in zip(lower_full, center_full, upper_full):\n",
    "                    # line\n",
    "                    plt.plot(range(5, 5 + len(l)), c, color='k', alpha=0.05)\n",
    "                    # area\n",
    "                    plt.fill_between(range(5, 5 + len(l)), l, u, alpha=0.05, color='r', edgecolor='none')            \n",
    "            \n",
    "            # adding the new points\n",
    "            plt.fill_between(data[:i-n_min+1], lower, upper, alpha=0.05, color='r', edgecolor='none', label=\"Intervalo de confiança\")\n",
    "            plt.plot(data[:i-n_min+1], center, color='k', alpha=0.05, label=\"$r_pearson$\")\n",
    "\n",
    "            # some adjustments and export the plot\n",
    "            plt.xticks(np.linspace(0,50,11))\n",
    "            plt.xlim(0,50)\n",
    "            plt.ylim(-1.1,1.1)\n",
    "            plt.ylabel(y_label\")\n",
    "            plt.xlabel(x_label)    \n",
    "            plt.annotate(f\"{box_text}: {aux}\", xy=(30, -0.85), bbox=dict(boxstyle='square,pad=1', fc=\"w\"), size=20)            \n",
    "            plt.savefig(f\"{directory}/{aux}.png\", dpi=100,)\n",
    "            plt.close()  \n",
    "    \n",
    "    # appending to the outer list\n",
    "    lower_full.append(lower)\n",
    "    upper_full.append(upper)\n",
    "    center_full.append(center)"
   ]
  },
  {
   "cell_type": "markdown",
   "id": "44249b4d",
   "metadata": {},
   "source": [
    "## Creating the video with the generated graphics"
   ]
  },
  {
   "cell_type": "code",
   "execution_count": null,
   "id": "a0d846f6",
   "metadata": {},
   "outputs": [],
   "source": [
    "# creating an ordered list with file names\n",
    "img_names = []\n",
    "for i in range(1,aux+1):\n",
    "    img_names.append(f\"{i}.png\")\n",
    "    \n",
    "# reading the first image to get information\n",
    "frame = cv2.imread(os.path.join(path_images, img_names[0]))\n",
    "height, width, layers = frame.shape\n",
    "\n",
    "# created the video instance\n",
    "video = cv2.VideoWriter(f'{video_name}.mp4', 0, 2, (width,height))\n",
    "\n",
    "# making the video\n",
    "for image in img_names:\n",
    "    video.write(cv2.imread(os.path.join(directory, image)))\n",
    "\n",
    "# Finishing\n",
    "cv2.destroyAllWindows()\n",
    "video.release()"
   ]
  }
 ],
 "metadata": {
  "kernelspec": {
   "display_name": "Python 3 (ipykernel)",
   "language": "python",
   "name": "python3"
  },
  "language_info": {
   "codemirror_mode": {
    "name": "ipython",
    "version": 3
   },
   "file_extension": ".py",
   "mimetype": "text/x-python",
   "name": "python",
   "nbconvert_exporter": "python",
   "pygments_lexer": "ipython3",
   "version": "3.9.10"
  }
 },
 "nbformat": 4,
 "nbformat_minor": 5
}
