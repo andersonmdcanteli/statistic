{
 "cells": [
  {
   "cell_type": "markdown",
   "id": "0e2e7cf0-d5e5-4b12-9fe7-6b15c3188d33",
   "metadata": {},
   "source": [
    "# Avaliando o coeficiente de correlação (r de Pearson)\n",
    "\n",
    "Este notebook contém diversas formas de avaliar o coeficiente de Pearson utilizando Python\n",
    "\n",
    "- Estimação do coeficiente;\n",
    "- Significância do coeficiente (bilateral);\n",
    "- Intervalo de confiança do coeficiente;\n",
    "- Gráfico com a estimativa do intervalo de confiança;\n",
    "\n",
    "\n",
    "![gif on r pearson](https://raw.githubusercontent.com/andersonmdcanteli/statistic/master/Python/pt-br/r-pearson/gif.gif \"gif gerado com os gráficos de Pearson\")\n",
    "\n",
    "\n",
    "\n",
    "## Descrição do coeficiente\n",
    "\n",
    "O coeficiente de correlação de Pearson é uma medida de associação linear entre duas variáveis quantitativas. Ele foi desenvolvido pelo matemático inglês Karl Pearson no final do século XIX e é amplamente utilizado na estatística e na análise de dados.\n",
    "\n",
    "O cálculo do coeficiente de correlação de Pearson envolve a determinação da covariância das variáveis em questão e da variância de cada uma delas. O resultado é um número que varia entre -1 e 1, onde -1 indica uma correlação negativa perfeita, 1 indica uma correlação positiva perfeita e valores próximos a zero indicam ausência de correlação linear.\n",
    "\n",
    "O coeficiente de correlação de Pearson é amplamente utilizado na análise de dados para avaliar a força e a direção da associação linear entre duas variáveis. Ele é amplamente utilizado em diversas áreas, incluindo biologia, economia, psicologia e outras áreas da ciência.\n",
    "\n",
    "O coeficiente de Pearson ($r_{perason})$ é estimado da seguinte forma:\n",
    "\n",
    "\n",
    "$$r_{pearson} = \\frac{\\sum_{i=1}^n (x_i - \\overline{x}) (y_i - \\overline{y})}{\\sqrt{\\sum_{i=1}^n ((x_i - \\overline{x})^2 \\sum_{i=1}^n ((y_i - \\overline{y})^2}}$$\n",
    "\n",
    "onde\n",
    "- $x_i$ é a i-ésima observação da variável independente;\n",
    "- $\\overline{x}$ é a média da variável independente;\n",
    "- $y_i$ é a i-ésima observação da variável dependente;\n",
    "- $\\overline{y}$ é a média da variável dependente;\n",
    "- $n$ é o número total de observações;\n",
    "\n"
   ]
  },
  {
   "cell_type": "markdown",
   "id": "0720c30e-d969-4c70-82b5-a8a557f9f86e",
   "metadata": {},
   "source": [
    "## Importações"
   ]
  },
  {
   "cell_type": "code",
   "execution_count": 1,
   "id": "c5f6019f-8f23-461c-ad42-8cd586de4e4c",
   "metadata": {
    "tags": []
   },
   "outputs": [],
   "source": [
    "import numpy as np\n",
    "from scipy import stats\n",
    "import matplotlib.pyplot as plt\n",
    "plt.rcParams[\"font.family\"] = \"Arial\"\n",
    "plt.rcParams[\"font.size\"] = 10"
   ]
  },
  {
   "cell_type": "markdown",
   "id": "15f93986-96d8-49a3-ab9b-a4c4ab5eb8c5",
   "metadata": {},
   "source": [
    "## Entrada de dados"
   ]
  },
  {
   "cell_type": "code",
   "execution_count": 2,
   "id": "f24130f1-2c45-49f1-9fbb-d779137a2ab8",
   "metadata": {
    "tags": []
   },
   "outputs": [],
   "source": [
    "# 5 primeiras observações do comprimento das sépalas da flor de Iris setosa\n",
    "x = np.array([5.1, 4.9, 4.7, 4.6, 5])\n",
    "x_label = \"Comprimento das sépalas ($cm$)\"\n",
    "# 5 primeiras observações da largura das sépalas da flor de Iris setosa\n",
    "y = np.array([3.5, 3, 3.2, 3.1, 3.6])\n",
    "y_label = \"Largura das sépalas ($cm$)\"\n",
    "# Nível de significância\n",
    "alfa = 0.05\n",
    "# Tamanho amostral\n",
    "n_size = x.size"
   ]
  },
  {
   "cell_type": "markdown",
   "id": "72f723ea-4dc8-49f4-b5dd-2ea6323e018c",
   "metadata": {
    "tags": []
   },
   "source": [
    "## Visualização dos dados"
   ]
  },
  {
   "cell_type": "code",
   "execution_count": 3,
   "id": "dca3752a-a725-4b9e-bc90-9af8719d144f",
   "metadata": {
    "tags": []
   },
   "outputs": [
    {
     "data": {
      "image/png": "[encoded data removed]",
      "text/plain": [
       "<Figure size 400x300 with 1 Axes>"
      ]
     },
     "metadata": {},
     "output_type": "display_data"
    }
   ],
   "source": [
    "plt.figure(figsize=(4,3))\n",
    "plt.scatter(x,y, label=\"Dados\")\n",
    "plt.xlabel(x_label)\n",
    "plt.ylabel(y_label)\n",
    "plt.show()"
   ]
  },
  {
   "cell_type": "markdown",
   "id": "b0a9e4e5-7ab9-4815-9de9-f97150de3099",
   "metadata": {},
   "source": [
    "## Estimação do valor do $r_{pearson}$\n",
    "\n",
    "O coeficiente de correlação pode ser estimado utilizando a função [stats.pearsonr](https://docs.scipy.org/doc/scipy/reference/generated/scipy.stats.pearsonr.html) da biblioteca `scipy`. Basta apenas passar o dados de $x$ e $y$ como argumentos:"
   ]
  },
  {
   "cell_type": "code",
   "execution_count": 4,
   "id": "e7d27678-e6d5-42be-9f3a-6d3ec3de846c",
   "metadata": {
    "tags": []
   },
   "outputs": [
    {
     "name": "stdout",
     "output_type": "stream",
     "text": [
      "r pearson =  0.68\n"
     ]
    }
   ],
   "source": [
    "r_pearson, p_pearson = stats.pearsonr(x,y)\n",
    "print(\"r pearson = \", round(r_pearson, 4))"
   ]
  },
  {
   "cell_type": "markdown",
   "id": "31557416-dc13-473a-9166-9aca50b958c4",
   "metadata": {
    "tags": []
   },
   "source": [
    "### Interpretação\n",
    "\n",
    "De forma geral, podemos classificar a correlação linear entre $x$ e $y$ da seguinte forma:\n",
    "\n",
    "\n",
    "| Intervalo de $r_{pearson}$ | Interpretação |\n",
    "| :-: | :-: |\n",
    "| 0.90 $< r \\le$ 1 | Forte correlação positiva |\n",
    "| 0.70 $< r \\le$ 0.90 | Correlação positiva |\n",
    "| 0.50 $< r \\le$ 0.70 | Correlação moderadamente positiva |\n",
    "| 0.30 $< r \\le$ 0.50 | Baixa correlação positiva |\n",
    "| -0.30 $\\le r \\le$ 0.30 | Ausência de correlação |\n",
    "| -0.50 $\\le r <$ -0.30 | Baixa correlação negativa |\n",
    "| -0.70 $\\le r <$ -0.50 | Correlação moderadamente negativa |\n",
    "| -0.90 $\\le r <$ -0.70 | Correlação negativa |\n",
    "| -1 $\\le r <$ -0.90 | Forte correlação negativa |"
   ]
  },
  {
   "cell_type": "code",
   "execution_count": 5,
   "id": "edfd6711-3aec-4a1d-9135-b1be3a68614a",
   "metadata": {
    "tags": []
   },
   "outputs": [
    {
     "data": {
      "text/plain": [
       "'Correlação linear moderadamente positiva (r_pearson = 0.68)'"
      ]
     },
     "execution_count": 5,
     "metadata": {},
     "output_type": "execute_result"
    }
   ],
   "source": [
    "if r_pearson > .9:\n",
    "    text = \"Forte correlação linear positiva\"\n",
    "elif r_pearson > .7:\n",
    "    text = \"Correlação linear positiva\"\n",
    "elif r_pearson > .5:\n",
    "    text = \"Correlação linear moderadamente positiva\"\n",
    "elif r_pearson > .3:\n",
    "    text = \"Baixa correlação linear positiva\"    \n",
    "elif -0.3 <= r_pearson <= 0.3:\n",
    "    text = \"Ausência de correlação linear\"\n",
    "elif r_pearson >= -0.5:\n",
    "    text = \"Baixa correlação linear negativa\"    \n",
    "elif r_pearson >= -0.7:\n",
    "    text = \"Correlação linear moderadamente negativa\"        \n",
    "elif r_pearson >= -0.9:\n",
    "    text = \"Correlação linear negativa\"            \n",
    "else:\n",
    "    text = \"Forte correlação linear negativa\"                \n",
    "\n",
    "text = text + f\" (r_pearson = {round(r_pearson, 4)})\"\n",
    "text"
   ]
  },
  {
   "cell_type": "markdown",
   "id": "14ad7688-f3a6-4ede-8646-fbe440d2ab74",
   "metadata": {},
   "source": [
    "## Verificando a significância do coeficiente de Pearson\n",
    "\n",
    "Em alguns casos é útil um teste de hipótese para verificar se o coeficiente de correlação é significativo. Partimos do pressuposto que o coeficiente de correlação ($\\rho $, que é adotado para denotar o valor populacional) é igual a 0, e procuramos por evidências para falsear esta hipótese. Ou seja:\n",
    "\n",
    "> $H_0$: $\\rho =0$;\n",
    "\n",
    "> $H_1$: $\\rho  \\neq 0$;\n",
    "\n",
    "A estatística do teste é estimada da seguinte forma:\n",
    "\n",
    "$$ t_0 = \\frac{r_{pearson}\\sqrt{n-2}}{\\sqrt{1-r_{pearson}^2}}$$\n",
    "\n",
    "que segue a distribuição *t-Student* com $n-2$ graus de liberdade ***SE*** a hipótese nula for verdadeira. Neste caso, o valor crítico é obtido através da distribuição *t-Student* e a conclusão do teste é:\n",
    "\n",
    "> Se $|t_0| > t_{\\left(1-\\alpha /2, n-2 \\right)}$ ou ($p-valor < \\alpha$), temos evidências para rejeitar a hipótese nula, e $\\rho \\neq 0 $;\n",
    "\n",
    "> Se $|t_0| \\leq t_{\\left( 1-\\alpha /2, n-2\\right)}$ ou ($p-valor \\geq \\alpha$), não temos evidências para rejeitar a hipótese nula, e $\\rho = 0 $;\n",
    "\n"
   ]
  },
  {
   "cell_type": "markdown",
   "id": "3d76a2f4-9aaa-4166-a12a-6ffdba3f8d85",
   "metadata": {},
   "source": [
    "### Calculando a estatística do teste"
   ]
  },
  {
   "cell_type": "code",
   "execution_count": 6,
   "id": "2d73556c-a931-4c96-901c-5a6c876f217f",
   "metadata": {
    "tags": []
   },
   "outputs": [
    {
     "name": "stdout",
     "output_type": "stream",
     "text": [
      "t0 =  1.6064\n"
     ]
    }
   ],
   "source": [
    "t_calc_pearson = r_pearson*np.sqrt(n_size - 2)/np.sqrt(1-np.square(r_pearson))\n",
    "print(\"t0 = \", round(t_calc_pearson, 4))"
   ]
  },
  {
   "cell_type": "markdown",
   "id": "6c0856fd-8e61-4194-a7b5-ee703827f51b",
   "metadata": {},
   "source": [
    "### Obtendo o valor crítico da distribuição t de Student"
   ]
  },
  {
   "cell_type": "code",
   "execution_count": 7,
   "id": "57ffdda0-7abc-42b3-9880-f8f341e09caf",
   "metadata": {
    "tags": []
   },
   "outputs": [
    {
     "name": "stdout",
     "output_type": "stream",
     "text": [
      "t critico =  3.1824\n"
     ]
    }
   ],
   "source": [
    "t_critico_pearson = stats.t.ppf(1 - alfa/2, n_size - 2)\n",
    "print(\"t critico = \", round(t_critico_pearson, 4))"
   ]
  },
  {
   "cell_type": "markdown",
   "id": "2211f155-9a25-4db9-9734-1f256c622c5d",
   "metadata": {},
   "source": [
    "### Concluindo o teste"
   ]
  },
  {
   "cell_type": "code",
   "execution_count": 8,
   "id": "f94c1449-7c22-45bf-9115-25002b603776",
   "metadata": {
    "tags": []
   },
   "outputs": [
    {
     "name": "stdout",
     "output_type": "stream",
     "text": [
      "Falha em rejeitar H0, e o coeficiente de Pearson é igual a zero (com 95.0% de confiança).\n"
     ]
    }
   ],
   "source": [
    "if t_calc_pearson > t_critico_pearson:\n",
    "    print(f\"Rejeita H0, e o coeficiente de Pearson é diferente de zero (com {100*(1-alfa)}% de confiança).\")\n",
    "else:\n",
    "    print(f\"Falha em rejeitar H0, e o coeficiente de Pearson é igual a zero (com {100*(1-alfa)}% de confiança).\")"
   ]
  },
  {
   "cell_type": "markdown",
   "id": "5129e0ba-ba84-426a-96df-9476ac973991",
   "metadata": {},
   "source": [
    "O $p-valor$ deste teste é o segundo valor retornado por `stats.pearsonr(x,y)`. Contudo, este p-valor é valido apenas para o caso da hipótese nula não ter sido rejeitada."
   ]
  },
  {
   "cell_type": "code",
   "execution_count": 9,
   "id": "6cbe7074-e306-4e4d-b522-c84632110050",
   "metadata": {
    "tags": []
   },
   "outputs": [
    {
     "name": "stdout",
     "output_type": "stream",
     "text": [
      "p-valor =  0.2065\n"
     ]
    }
   ],
   "source": [
    "print(\"p-valor = \", round(p_pearson, 4))"
   ]
  },
  {
   "cell_type": "markdown",
   "id": "15be8ddc-c8bb-410c-b19c-f614db5b5868",
   "metadata": {},
   "source": [
    "> NOTA: o resultado acima é igual ao obtido ao verificar a significância do coeficiente angular quando se ajusta a equação da reta."
   ]
  },
  {
   "cell_type": "markdown",
   "id": "877e9cda-6251-497c-bb1e-626466dd335e",
   "metadata": {},
   "source": [
    "## Para os casos onde $\\rho \\neq 0$\n",
    "\n",
    "Quando o coeficiente de correlação é diferente de 0, não podemos utilizar a distribuição t-Student pois a distribuição do r de Pearson não é Normal; é *skewed*. Por exemplo, r = 0.90, a correlação real da população não poderia ser maior que 1.0, mas poderia ser substancialmente menor do que 0.90.\n",
    "\n",
    "Isto é contornado transformando o coeficiente de Pearson utilizando a transformação [r-para-Z de Fisher](https://en.wikipedia.org/wiki/Fisher_transformation), que é uma função tangente hiperbolica inversa cuja distribuição é aproximadamente normalmente distribuída, com variância estável sobre diferentes valores de r.\n",
    "\n",
    "Esta distribuição Z tem média:\n",
    "\n",
    "$$ \\mu_Z = arctanh \\; r_{pearson} = \\frac{1}{2} \\ln{\\frac{1 + r_{pearson}}{1 - r_{pearson}}} $$\n",
    "\n",
    "E devio padrão igual a:\n",
    "\n",
    "$$ \\sigma_Z = \\sqrt{\\frac{1}{n-3}} $$\n",
    "\n",
    "A estatística do teste pode ser formulada da seguinte forma:\n",
    "\n",
    "$$ Z_0 = \\left(arctanh \\; \\left(r \\right) -arctanh \\; \\left(\\rho_0\\right)\\right) \\sqrt{n-3} $$\n",
    "\n",
    "onde $\\rho_0$ é o valor esperado para o coeficiente de correlação. As hipóteses para este caso são:\n",
    "\n",
    "\n",
    "> $H_0$: $\\rho = \\rho_0$;\n",
    "\n",
    "> $H_1$: $\\rho  \\neq \\rho_0$;\n",
    "\n",
    "Os valores críticos são obtidos da distribuição Normal padrão bilateral ($Z_{\\left(1-\\alpha/2 \\right)}$). Podemos então concluir o teste da seguinte forma:\n",
    "\n",
    "> Se $|Z_0| > Z_{\\left(1-\\alpha/2 \\right)}$ (ou $p-valor < \\alpha$), temos evidências para rejeitar a hipótese nula, e $\\rho \\neq \\rho_0 $;\n",
    "\n",
    "> Se $|Z_0| \\leq Z_{\\left(1-\\alpha/2 \\right)}$ (ou $p-valor \\geq \\alpha$), não temos evidências para rejeitar a hipótese nula, e $\\rho = \\rho_0 $;\n",
    "\n",
    "Para exemplificar, vamos verificar se o coeficiente de Pearson do conjunto de dados é igual a 0.99."
   ]
  },
  {
   "cell_type": "code",
   "execution_count": 10,
   "id": "1af2b3ea-bea0-422c-9b57-c6d6ac1103a7",
   "metadata": {
    "tags": []
   },
   "outputs": [],
   "source": [
    "target = 0.99"
   ]
  },
  {
   "cell_type": "markdown",
   "id": "1e261dc8-89b2-4486-a8d7-0a8937e1b9e0",
   "metadata": {},
   "source": [
    "Inicialmente, calculamos a estatística do teste:"
   ]
  },
  {
   "cell_type": "code",
   "execution_count": 11,
   "id": "13776017-06fa-4273-b524-d384ca623af2",
   "metadata": {
    "tags": []
   },
   "outputs": [
    {
     "data": {
      "text/plain": [
       "-2.570336661278802"
      ]
     },
     "execution_count": 11,
     "metadata": {},
     "output_type": "execute_result"
    }
   ],
   "source": [
    "Z_0 = (np.arctanh(r_pearson) - np.arctanh(target))*np.sqrt((n_size - 3))\n",
    "Z_0"
   ]
  },
  {
   "cell_type": "markdown",
   "id": "03177376-56e4-4175-a56a-0888987ce7a9",
   "metadata": {},
   "source": [
    "Agora é preciso obter o valor crítico do teste"
   ]
  },
  {
   "cell_type": "code",
   "execution_count": 12,
   "id": "f66bc4d4-6214-416d-a627-7d90936b6d29",
   "metadata": {
    "tags": []
   },
   "outputs": [
    {
     "data": {
      "text/plain": [
       "1.959963984540054"
      ]
     },
     "execution_count": 12,
     "metadata": {},
     "output_type": "execute_result"
    }
   ],
   "source": [
    "z_critical = stats.norm.ppf(1 - alfa/2)\n",
    "z_critical"
   ]
  },
  {
   "cell_type": "markdown",
   "id": "0f29e336-486c-4c49-9d5d-68e5986f85ca",
   "metadata": {},
   "source": [
    "Basta então comparar a estatística do teste com o valor crítico:"
   ]
  },
  {
   "cell_type": "code",
   "execution_count": 13,
   "id": "ee498b26-c48a-409b-a785-05e62fed5931",
   "metadata": {
    "tags": []
   },
   "outputs": [
    {
     "name": "stdout",
     "output_type": "stream",
     "text": [
      "Rejeita H0, e o coeficiente de Pearson é diferente de 0.99 (com 95.0% de confiança).\n"
     ]
    }
   ],
   "source": [
    "if np.abs(Z_0) > z_critical:\n",
    "    print(f\"Rejeita H0, e o coeficiente de Pearson é diferente de {target} (com {100*(1-alfa)}% de confiança).\")\n",
    "else:\n",
    "    print(f\"Falhar em rejeitar H0, e o coeficiente de Pearson é igual a {target} (com {100*(1-alfa)}% de confiança).\")"
   ]
  },
  {
   "cell_type": "markdown",
   "id": "85eba6f2-3c05-41e2-b30f-ed44b6da3685",
   "metadata": {},
   "source": [
    "Podemos estimar o $p-valor$ para $Z_{0}$:"
   ]
  },
  {
   "cell_type": "code",
   "execution_count": 14,
   "id": "939bbcd9-2276-4eec-9184-fae3bfb3c021",
   "metadata": {
    "tags": []
   },
   "outputs": [
    {
     "data": {
      "text/plain": [
       "0.01015997257626955"
      ]
     },
     "execution_count": 14,
     "metadata": {},
     "output_type": "execute_result"
    }
   ],
   "source": [
    "(1 - stats.norm.cdf(np.abs(Z_0)))*2"
   ]
  },
  {
   "cell_type": "markdown",
   "id": "834f243a-6177-4f17-b5a0-70ba7b55116a",
   "metadata": {},
   "source": [
    "> Note que já sabiamos que o coeficiente de Pearson era igual a 0 (através do teste t de Student). O teste acima foi feito apenas para ter um exemplo numérico."
   ]
  },
  {
   "cell_type": "markdown",
   "id": "965be6c0-f6ac-4505-9dbc-f9171b1ddef2",
   "metadata": {},
   "source": [
    "## Intervalo de confiança do Coeficiente de Pearson\n",
    "\n",
    "Para estimar o intervalo de confinça do $r_{pearson}$, basta estimar os limites inferior e superior utilizando a transformação r-para-Z de Fisher. \n",
    "\n",
    "O limite inferior é estimado através da relação:\n",
    "\n",
    "$$ LI_{pearson} = \\tanh{\\left(arctahnh \\; \\left(r_{pearson}\\right) - \\frac{Z_{\\left(1-\\alpha/2 \\right)}}{\\sqrt{n-3}}\\right)} $$\n",
    "\n",
    "e o limite superior:\n",
    "\n",
    "$$ LS_{pearson} = \\tanh{\\left(arctahnh \\; \\left(r_{pearson}\\right) + \\frac{Z_{\\left(1-\\alpha/2 \\right)}}{\\sqrt{n-3}}\\right)} $$\n",
    "\n",
    "Observe que estamos transformando o coeficiente de pearson para a escala proposta por Fisher, estimando o intervalo de confinça, e retornando a escala original.\n",
    "\n",
    "> Note que o intervalo de confiança não será simétrico na escala original\n",
    "\n",
    "Inicialmente, transformamos o coeficiente de pearson para a escala Z"
   ]
  },
  {
   "cell_type": "code",
   "execution_count": 16,
   "id": "e1947447-699a-4d8e-be1c-ccdcbd5d4aad",
   "metadata": {
    "tags": []
   },
   "outputs": [
    {
     "data": {
      "text/plain": [
       "0.8291499292396147"
      ]
     },
     "execution_count": 16,
     "metadata": {},
     "output_type": "execute_result"
    }
   ],
   "source": [
    "# obtendo a média do r-pearson na escala transformada\n",
    "r_pearson_z_scale = np.arctanh(r_pearson)\n",
    "r_pearson_z_scale"
   ]
  },
  {
   "cell_type": "markdown",
   "id": "eb19b941-0873-4b81-b5fc-0567599c4c76",
   "metadata": {},
   "source": [
    "Em seguida estimamos o intervalo de confiança baseado na distribuição Normal"
   ]
  },
  {
   "cell_type": "code",
   "execution_count": 17,
   "id": "4fd44898-064f-4787-88fd-58d9a956ddf9",
   "metadata": {
    "tags": []
   },
   "outputs": [
    {
     "data": {
      "text/plain": [
       "1.3859038243496777"
      ]
     },
     "execution_count": 17,
     "metadata": {},
     "output_type": "execute_result"
    }
   ],
   "source": [
    "# obtendo o intervalo de confiança baseado na distribuição Normal\n",
    "ic_z_scale = z_critical/np.sqrt(n_size-3)\n",
    "ic_z_scale"
   ]
  },
  {
   "cell_type": "markdown",
   "id": "0c7a0564-9a66-4b4d-a6b2-2daa6896daf3",
   "metadata": {},
   "source": [
    "Agora, estimamos os limites inferior e superior, fazendo o valor de r de pearson transformado mais ou menos o intervalo de confiança estimado:"
   ]
  },
  {
   "cell_type": "code",
   "execution_count": 18,
   "id": "8bc6887f-3a20-46a3-bed4-c5b502d5c592",
   "metadata": {
    "tags": []
   },
   "outputs": [
    {
     "data": {
      "text/plain": [
       "-0.556753895110063"
      ]
     },
     "execution_count": 18,
     "metadata": {},
     "output_type": "execute_result"
    }
   ],
   "source": [
    "# calculando o limite inferior\n",
    "ic_lower_z_scale = r_pearson_z_scale - ic_z_scale\n",
    "ic_lower_z_scale"
   ]
  },
  {
   "cell_type": "code",
   "execution_count": 19,
   "id": "bb819a0a-27c5-42b2-9bf3-1ea0a26b34c9",
   "metadata": {
    "tags": []
   },
   "outputs": [
    {
     "data": {
      "text/plain": [
       "2.2150537535892925"
      ]
     },
     "execution_count": 19,
     "metadata": {},
     "output_type": "execute_result"
    }
   ],
   "source": [
    "# calculando o limite superior\n",
    "ic_upper_z_scale = r_pearson_z_scale + ic_z_scale\n",
    "ic_upper_z_scale"
   ]
  },
  {
   "cell_type": "markdown",
   "id": "b833b51e-43bc-488f-abcb-213107472af3",
   "metadata": {},
   "source": [
    "Agora é necessário transformar os limites para a escala original, o que é feito com a função `np.tanh`:"
   ]
  },
  {
   "cell_type": "code",
   "execution_count": 20,
   "id": "fed0f18d-04f8-4b17-ab1b-3d9f1d28be73",
   "metadata": {
    "tags": []
   },
   "outputs": [
    {
     "data": {
      "text/plain": [
       "-0.5055649868700101"
      ]
     },
     "execution_count": 20,
     "metadata": {},
     "output_type": "execute_result"
    }
   ],
   "source": [
    "# transformando para a escala original\n",
    "ic_lower = np.tanh(ic_lower_z_scale)\n",
    "ic_lower"
   ]
  },
  {
   "cell_type": "code",
   "execution_count": 21,
   "id": "16f1b9f5-ae0b-4871-a8b8-ea0700e392fb",
   "metadata": {
    "tags": []
   },
   "outputs": [
    {
     "data": {
      "text/plain": [
       "0.9764540896505784"
      ]
     },
     "execution_count": 21,
     "metadata": {},
     "output_type": "execute_result"
    }
   ],
   "source": [
    "ic_upper = np.tanh(ic_upper_z_scale)\n",
    "ic_upper"
   ]
  },
  {
   "cell_type": "markdown",
   "id": "ee4280bb-183c-4718-887b-99d8082391d1",
   "metadata": {
    "tags": []
   },
   "source": [
    "### Intervalo de confiança\n",
    "\n",
    "Então construímos o intervalo de confiança do coeficiente de correlação. Note que ele ***não é simétrico***."
   ]
  },
  {
   "cell_type": "code",
   "execution_count": 22,
   "id": "8d184a72-ce33-4381-9884-2021249f1e70",
   "metadata": {
    "tags": []
   },
   "outputs": [
    {
     "data": {
      "text/plain": [
       "'-0.5056 <= 0.68 <= 0.9765 (com 95.0% de confiança).'"
      ]
     },
     "execution_count": 22,
     "metadata": {},
     "output_type": "execute_result"
    }
   ],
   "source": [
    "f\"{round(ic_lower, 4)} <= {round(r_pearson, 4)} <= {round(ic_upper, 4)} (com {100*(1-alfa)}% de confiança).\""
   ]
  },
  {
   "cell_type": "markdown",
   "id": "eeff5726-60b1-4895-bf66-137ce1e3a9cf",
   "metadata": {},
   "source": [
    "## Visualização gráfica\n",
    "\n",
    "Podemos gerar um gráfico indicando os limites inferior e superior do coeficiente de Pearson, juntamente com a distribuição teórica, de forma a relacionar o coeficiente transformado com o coeficiente na escala original. \n",
    "\n",
    "Inicialmente, vamos criar o intervalo teórico para a função hiperbólica inversa:"
   ]
  },
  {
   "cell_type": "code",
   "execution_count": 23,
   "id": "2d3ba55b-db23-40a9-8cd8-49a7d30c4ab1",
   "metadata": {
    "tags": []
   },
   "outputs": [],
   "source": [
    "r_values = np.linspace(-0.999, .999, 1000)\n",
    "r_values_z_scale = np.arctanh(r_values)"
   ]
  },
  {
   "cell_type": "markdown",
   "id": "4618d669-3570-426c-aa8f-bd7e46d4b2ec",
   "metadata": {},
   "source": [
    "> Note que a função `arctanh` aceita apenas valores entre -1 e 1, com intervalo *aberto*"
   ]
  },
  {
   "cell_type": "code",
   "execution_count": 24,
   "id": "af408066-12f4-4c53-8008-0a01393b047e",
   "metadata": {
    "tags": []
   },
   "outputs": [
    {
     "data": {
      "image/png": "[encoded data removed]",
      "text/plain": [
       "<Figure size 400x300 with 1 Axes>"
      ]
     },
     "metadata": {},
     "output_type": "display_data"
    }
   ],
   "source": [
    "plt.figure(figsize=(4,3))\n",
    "plt.plot(r_values, r_values_z_scale, label=\"Teórico\", c=\"k\")\n",
    "plt.ylabel(\"$r_{pearson}$ transformado ($Z$)\")\n",
    "plt.xlabel(\"$r_{pearson}$\")\n",
    "plt.legend()\n",
    "plt.show()"
   ]
  },
  {
   "cell_type": "markdown",
   "id": "96ea58c0-97ce-4ecc-9053-4738c794f5ac",
   "metadata": {},
   "source": [
    "Agora podemos adicionar o valor obtido para o coeficiente de pearson, relacionando o valor transformado com o valor real:"
   ]
  },
  {
   "cell_type": "code",
   "execution_count": 25,
   "id": "6ba7de72-7702-4e61-a155-1c9c9b62d7ce",
   "metadata": {
    "tags": []
   },
   "outputs": [
    {
     "data": {
      "image/png": "[encoded data removed]",
      "text/plain": [
       "<Figure size 400x300 with 1 Axes>"
      ]
     },
     "metadata": {},
     "output_type": "display_data"
    }
   ],
   "source": [
    "plt.figure(figsize=(4,3))\n",
    "plt.plot(r_values, r_values_z_scale, label=\"Teórico\", c=\"k\")\n",
    "plt.scatter(r_pearson, r_pearson_z_scale, label=\"$r_{pearson}$\", c=\"r\")\n",
    "plt.ylabel(\"$r_{pearson}$ transformado ($Z$)\")\n",
    "plt.xlabel(\"$r_{pearson}$\")\n",
    "plt.legend()\n",
    "plt.show()"
   ]
  },
  {
   "cell_type": "markdown",
   "id": "12f936cd-d05d-44b6-b906-7d0ad6c710f7",
   "metadata": {},
   "source": [
    "E então adicionamos os limites inferior e superior:"
   ]
  },
  {
   "cell_type": "code",
   "execution_count": 26,
   "id": "0de9dede-1026-4e90-9ddb-e8704f21322a",
   "metadata": {
    "tags": []
   },
   "outputs": [
    {
     "data": {
      "image/png": "[encoded data removed]",
      "text/plain": [
       "<Figure size 400x300 with 1 Axes>"
      ]
     },
     "metadata": {},
     "output_type": "display_data"
    }
   ],
   "source": [
    "plt.figure(figsize=(4,3))\n",
    "plt.plot(r_values, r_values_z_scale, label=\"Teórico\", c=\"k\")\n",
    "plt.scatter(r_pearson, r_pearson_z_scale, label=\"$r_{pearson}$\", c=\"r\")\n",
    "plt.scatter(ic_lower, ic_lower_z_scale, label=\"Limite inferior\", c=\"b\")\n",
    "plt.scatter(ic_upper, ic_upper_z_scale, label=\"Limite superior\", c=\"y\")\n",
    "plt.ylabel(\"$r_{pearson}$ transformado ($Z$)\")\n",
    "plt.xlabel(\"$r_{pearson}$\")\n",
    "plt.legend()\n",
    "plt.show()"
   ]
  },
  {
   "cell_type": "markdown",
   "id": "bd3fbdcb-edef-4a88-8763-48d8672a3609",
   "metadata": {},
   "source": [
    "Uma edição mais adequada do gráfico resulta em"
   ]
  },
  {
   "cell_type": "code",
   "execution_count": 27,
   "id": "5d8f242a-334a-495f-a9a3-e18f3c2e432e",
   "metadata": {
    "tags": []
   },
   "outputs": [
    {
     "data": {
      "image/png": "[encoded data removed]",
      "text/plain": [
       "<Figure size 800x600 with 1 Axes>"
      ]
     },
     "metadata": {},
     "output_type": "display_data"
    }
   ],
   "source": [
    "plt.figure(figsize=(8,6))\n",
    "plt.plot(r_values, r_values_z_scale, label=\"Teórico\", c=\"k\", zorder=-1)\n",
    "plt.scatter(r_pearson, r_pearson_z_scale, label=\"$r_{pearson}$\", c=\"r\")\n",
    "plt.axvline(x=ic_lower, ymin=0, ymax=1, c=\"lightblue\", ls=\"--\", label=\"Limites de confiança \", )\n",
    "plt.axvline(x=ic_upper, ymin=0, ymax=1, c=\"lightblue\", ls=\"--\")\n",
    "plt.ylabel(\"$r_{pearson}$ transformado ($Z$)\")\n",
    "plt.xlabel(\"$r_{pearson}$\")\n",
    "plt.legend()\n",
    "plt.show()"
   ]
  },
  {
   "cell_type": "markdown",
   "id": "929d4a56-0faa-4ca5-b086-4cbe82e5308e",
   "metadata": {},
   "source": [
    "## Comentários\n",
    "\n",
    "Apesar da baixa aplicabilidade, a estatística do coeficiente de Pearson e os testes de hipótese são uma excelente forma de demonstrar através de um conceito simples (o coeficiente de correlação), a importancia da forma da distribuição. \n",
    "\n",
    "Um ponto relevante a ser discutido é o uso da distribuição Normal para obter os valores críticos. No exemplo utilizado, temos apenas 5 observações, o que não é suficiente para adotar a distribuição Normal. Talvez o uso da distribuição t de Student seja mais adequada para conjuntos de dados pequenos ($n < 30$), de forma a \"punir\" o intervalo de confiança devido ao baixo tamanho amostral. \n",
    "\n",
    "Devido a baixo tamanho amostral, é muito provavel que o intervalo do coeficiente de Person esta sub-estimado."
   ]
  },
  {
   "cell_type": "markdown",
   "id": "5cf9d2bb-aece-4911-ba61-7c729f7e53bd",
   "metadata": {},
   "source": [
    "## Outros recursos sobre o Coeficiente de Correlação de Pearson\n",
    "\n",
    "### Recursos de aprendizado\n",
    "\n",
    "- Um salto para ir além: O coeficiente de correlação de Pearson [link](https://github.com/andersonmdcanteli/statistic/blob/master/Python/pt-br/r-pearson/Um-salto-para-ir-alem.ipynb)\n",
    "\n",
    "### Recursos para uso\n",
    "\n",
    "- Script com funções criadas para avaliar o coeficiente de Pearson: [link](https://github.com/andersonmdcanteli/statistic/blob/master/Python/pt-br/r-pearson/functions.py)\n",
    "\n",
    "### Recursos para ensino\n",
    "\n",
    "- Script para criar gráficos, gif, e vídeos para exemplificar o coeficiente de correlação: [link](https://github.com/andersonmdcanteli/statistic/blob/master/Python/pt-br/r-pearson/r-plot.ipynb);\n",
    "\n",
    "- Script para gerar gráfico do intervalo de confiança do coeficiente de Pearson variando o nível de significância ($\\alpha$): [link](https://github.com/andersonmdcanteli/statistic/blob/master/Python/pt-br/r-pearson/r_pearson-intervalo-confianca-variando-alfa.ipynb);\n",
    "\n",
    "- Script para gerar gráfico do intervalo de confiança do coeficiente de Pearson variando o tamanho amostral: [link](https://github.com/andersonmdcanteli/statistic/blob/master/Python/pt-br/r-pearson/r_pearson-intervalo-confianca-variando-tamanho-amostral.ipynb)"
   ]
  },
  {
   "cell_type": "markdown",
   "id": "9e5b4c49-523e-4aeb-b7e7-84c11b55699f",
   "metadata": {},
   "source": [
    "## Referências\n",
    "\n",
    "- Wikipedia contributors. (2023, January 29). Fisher transformation. Wikipedia. https://en.wikipedia.org/wiki/Fisher_transformation. Acesso em 04/02/2023.\n",
    "\n",
    "- Dou, S. (2018, May 30). How to compute confidence interval for Pearson’s r? A brief guide. Medium. https://shandou.medium.com/how-to-compute-confidence-interval-for-pearsons-r-a-brief-guide-951445b9cb2d. Acesso em 04/02/2023.\n",
    "\n",
    "- Re: Loftus, G. R. & Loftus, E. F. (1988). Essence of Statistics (2ª Edition). New York: McGraw Hill. Disponível em <https://faculty.washington.edu/gloftus/P317-318/Useful_Information/r_to_z/PearsonrCIs.pdf>.\n",
    "\n",
    "- Montgomery, D. C.; Peck, L. A.; Vining G. G. (2012). Introduction to Linear Regression Analysis (5ª Edição). JOHN WILEY & SONS, INC.\n"
   ]
  }
 ],
 "metadata": {
  "kernelspec": {
   "display_name": "Python 3 (ipykernel)",
   "language": "python",
   "name": "python3"
  },
  "language_info": {
   "codemirror_mode": {
    "name": "ipython",
    "version": 3
   },
   "file_extension": ".py",
   "mimetype": "text/x-python",
   "name": "python",
   "nbconvert_exporter": "python",
   "pygments_lexer": "ipython3",
   "version": "3.9.10"
  }
 },
 "nbformat": 4,
 "nbformat_minor": 5
}
