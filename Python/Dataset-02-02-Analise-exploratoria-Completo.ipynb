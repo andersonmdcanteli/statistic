{
 "cells": [
  {
   "cell_type": "markdown",
   "id": "f5aa8386",
   "metadata": {},
   "source": [
    "# Notebook desenvolvido para Análise Exploratória dos dados do dataset 2: **Espectros de massa por infusão Direta - Orbitrap**\n",
    "\n",
    "**Requirements**:\n",
    "\n",
    "`Python == 3.9.10`\n",
    "\n",
    "`jupyter == 1.0.0`\n",
    "\n",
    "`matplotlib == 3.6.0`\n",
    "\n",
    "`numpy == 1.23.3`\n",
    "\n",
    "`pandas == 1.5.0`\n",
    "\n",
    "`plotly == 5.10.0`\n",
    "\n",
    "`scikit-learn == 1.1.2`\n",
    "\n",
    "`scipy == 1.9.1`\n",
    "\n",
    "`seaborn == 0.12.0`\n",
    "\n",
    "> pip install pip -r /path/to/requirements.txt\n",
    "\n",
    "> Atenção: executar todas as células deste notebook faz com que este arquivo ocupe mais de 150 MB. Os gráficos interativos podem não ser renderizados de forma adequada. \n",
    "\n",
    "> Tempo total de execução total: 0.77 minutos"
   ]
  },
  {
   "cell_type": "markdown",
   "id": "dc32b2dd",
   "metadata": {},
   "source": [
    "# Resumo\n",
    "\n",
    "Este arquivo conta com toda a análise exploratória dos dados do dataset 02. Contudo, e especialmente devido aos gráficos interativos, o arquivo final fica muito pesado, o que pode comprometer a usabilidade deste arquivo. Por este motivo, optei por separa-lo em 5 partes. O conteúdo é similar.\n",
    "\n",
    "A análise exploratória de dados é uma das etapas mais importantes de análise multivariada. É um momento utilizado para compreender melhor os resultados obtidos, decidir quais caminhos trilhar (mesmo que seja seguir em frente, ou repensar algumas decisões já tomadas), procurar por pontos suspeitos, além de tirar conclusões.\n",
    "\n",
    "De forma geral, esta análise me auxiliou a decidir quais variáveis utilizar nos testes de ML que vão seguir. O pouco conhecimento da técnica, e especialmente do equipamento que foi utilizado para obter os dados, foram as variáveis mais significativas na minha dificuldade em decidir quais variáveis fazem parte do conjunto de dados, e quais fazem parte de escolhas do pesquisador. Contudo, isto não me preocupa, pois em um ambiente real, eu terei contato com os pesquisadores que efetuaram a análise, e será possível determinar de fato as variáveis mais importantes.\n",
    "\n",
    "Além disto, esta análise me chamou atenção para 2 pontos específicos: os Scans 26 e 34 para a amostra de `25.63` ppm. São pontos muito distintos do restante dos dados e que talvez sejam outliers. As amostras de `4.10` e `36.41` ppm também apresentam variações mais acentuadas, mas me parece apenas variabilidade. \n",
    "\n",
    "Caso encontre este tipo de situação, minha decisão seria ir discutir estes pontos com outras pessoas, para tentar descobrir o motivo destes pontos tão diferentes. Com o auxílio dos demais, dai sim seria possível tomar uma decisão adequada.\n",
    "\n",
    "Cada parte de arquivo conta com um resumo. Você consegue navegar através deste resumo no índice abaixo, ou diretamente do resumo de cada parte.\n",
    "\n",
    "Estou a disposição para eventuais dúvidas.\n"
   ]
  },
  {
   "cell_type": "markdown",
   "id": "dc31ba95",
   "metadata": {},
   "source": [
    "# Índice\n",
    "\n",
    "\n",
    "- <a href='#importacoes'>Importações</a>\n",
    "\n",
    "- <a href='#loading'>Carregando os dados</a>\n",
    "\n",
    "- <a href='#analise-exploratoria'>Análise exploratória dos dados</a>\n",
    "\n",
    "    - <a href='#df-info'>Análise dos dados gerais</a>\n",
    "\n",
    "    - <a href='#df-data-info'>Análise dos dados do ScanHeader</a>\n",
    "\n",
    "        - <a href='#df-data-info-ScanHeader'>ScanHeader</a>\n",
    "\n",
    "        - <a href='#df-data-info-start_time'>start_time</a>\n",
    "\n",
    "        - <a href='#df-data-info-num_readings'>num_readings</a>\n",
    "\n",
    "        - <a href='#df-data-info-integ_intens'>integ_intens</a>\n",
    "\n",
    "        - <a href='#df-data-info-datapacketpos'>datapacketpos</a>\n",
    "\n",
    "        - <a href='#df-data-info-PeakIntensity'>PeakIntensity</a>\n",
    "\n",
    "        - <a href='#df-data-info-PeakMass'>PeakMass</a>\n",
    "        \n",
    "        - <a href='#df-data-info-resumo'>Resumo</a>\n",
    "\n",
    "    - <a href='#df-data'>Análise dos dados do Packet</a>\n",
    "\n",
    "        - <a href='#packet'>Packet</a>\n",
    "    \n",
    "            - <a href='#packet-0-5'>0.5 ppm</a>\n",
    "\n",
    "            - <a href='#packet-4-10'>4.10 ppm</a>\n",
    "\n",
    "            - <a href='#packet-7-68'>7.68 ppm</a>\n",
    "\n",
    "            - <a href='#packet-11-27'>11.27 ppm</a>\n",
    "\n",
    "            - <a href='#packet-14-86'>14.86 ppm</a>\n",
    "\n",
    "            - <a href='#packet-22-05'>22.05 ppm</a>\n",
    "\n",
    "            - <a href='#packet-25-63'>25.63 ppm</a>\n",
    "\n",
    "            - <a href='#packet-29-23'>29.23 ppm</a>\n",
    "\n",
    "            - <a href='#packet-32-82'>32.82 ppm</a>\n",
    "\n",
    "            - <a href='#packet-36-41'>36.41 ppm</a>\n",
    "\n",
    "            - <a href='#packet-40-00'>40.00 ppm</a>\n",
    "\n",
    "            - <a href='#packet-resumo'>Resumo</a>\n",
    "\n",
    "        - <a href='#intensity'>Intensity</a>\n",
    "\n",
    "            - <a href='#intensity-0-5'>0.5 ppm</a>\n",
    "\n",
    "            - <a href='#intensity-4-10'>4.10 ppm</a>\n",
    "\n",
    "            - <a href='#intensity-7-68'>7.68 ppm</a>\n",
    "\n",
    "            - <a href='#intensity-11-27'>11.27 ppm</a>\n",
    "\n",
    "            - <a href='#intensity-14-86'>14.86 ppm</a>\n",
    "\n",
    "            - <a href='#intensity-18-45'>18.45 ppm</a>\n",
    "\n",
    "            - <a href='#intensity-22-05'>22.05 ppm</a>\n",
    "\n",
    "            - <a href='#intensity-25-63'>25.63 ppm</a>\n",
    "\n",
    "            - <a href='#intensity-29-23'>29.23 ppm</a>\n",
    "\n",
    "            - <a href='#intensity-32-82'>32.82 ppm</a>\n",
    "\n",
    "            - <a href='#intensity-36-41'>36.41 ppm</a>\n",
    "\n",
    "            - <a href='#intensity-40-00'>40.00 ppm</a>\n",
    "\n",
    "            - <a href='#intensity-resumo'>Resumo</a>\n",
    "\n",
    "        - <a href='#mass-position'>Mass position</a>\n",
    "\n",
    "            - <a href='#mass-position-0-5'>0.5 ppm</a>\n",
    "\n",
    "            - <a href='#mass-position-4-10'>4.10 ppm</a>\n",
    "\n",
    "            - <a href='#mass-position-7-68'>7.68 ppm</a>\n",
    "\n",
    "            - <a href='#mass-position-11-27'>11.27 ppm</a>\n",
    "\n",
    "            - <a href='#mass-position-14-86'>14.86 ppm</a>\n",
    "\n",
    "            - <a href='#mass-position-18-45'>18.45 ppm</a>\n",
    "\n",
    "            - <a href='#mass-position-22-05'>22.05 ppm</a>\n",
    "\n",
    "            - <a href='#mass-position-25-63'>25.63 ppm</a>\n",
    "\n",
    "            - <a href='#mass-position-29-23'>29.23 ppm</a>\n",
    "\n",
    "            - <a href='#mass-position-32-82'>32.82 ppm</a>\n",
    "\n",
    "            - <a href='#mass-position-36-41'>36.41 ppm</a>\n",
    "\n",
    "            - <a href='#mass-position-40-00'>40.00 ppm</a>\n",
    "\n",
    "            - <a href='#mass-position-resumo'>Resumo</a>\n",
    "\n",
    "        - <a href='#mass-position-intensity'>mass_position versus intensity</a>\n",
    "\n",
    "            - <a href='#mass-position-intensity-0-5'>0.5 ppm</a>\n",
    "\n",
    "            - <a href='#mass-position-intensity-4-10'>4.10 ppm</a>\n",
    "\n",
    "            - <a href='#mass-position-intensity-7-68'>7.68 ppm</a>\n",
    "\n",
    "            - <a href='#mass-position-intensity-11-27'>11.27 ppm</a>\n",
    "\n",
    "            - <a href='#mass-position-intensity-14-86'>14.86 ppm</a>\n",
    "\n",
    "            - <a href='#mass-position-intensity-18-45'>18.45 ppm</a>\n",
    "\n",
    "            - <a href='#mass-position-intensity-22-05'>22.05 ppm</a>\n",
    "\n",
    "            - <a href='#mass-position-intensity-25-63'>25.63 ppm</a>\n",
    "\n",
    "            - <a href='#mass-position-intensity-29-23'>29.23 ppm</a>\n",
    "\n",
    "            - <a href='#mass-position-intensity-32-82'>32.82 ppm</a>\n",
    "\n",
    "            - <a href='#mass-position-intensity-36-41'>36.41 ppm</a>\n",
    "\n",
    "            - <a href='#mass-position-intensity-40-00'>40.00 ppm</a>\n",
    "\n",
    "        - <a href='#mass-position-intensity-out'>mass_position versus intensity - entre concentrações</a>\n",
    "\n",
    "            - <a href='#mass-position-intensity-out-22'>ScanHeader 22</a>\n",
    "\n",
    "            - <a href='#mass-position-intensity-out-36'>ScanHeader 36</a>\n",
    "\n",
    "            - <a href='#mass-position-intensity-out-2'>ScanHeader 2</a>\n",
    "\n",
    "            - <a href='#mass-position-intensity-out-3'>ScanHeader 3</a>\n",
    "\n",
    "            - <a href='#mass-position-intensity-out-3'>ScanHeader 3</a>\n",
    "\n",
    "            - <a href='#mass-position-intensity-out-42'>ScanHeader 42</a>\n",
    "\n",
    "            - <a href='#mass-position-intensity-out-7'>ScanHeader 7</a>\n",
    "\n",
    "            - <a href='#mass-position-intensity-resumo'>Resumo</a>\n",
    "\n",
    "\n"
   ]
  },
  {
   "cell_type": "markdown",
   "id": "d17c90fe",
   "metadata": {},
   "source": [
    "<a id='importacoes'></a>\n",
    "# Importações"
   ]
  },
  {
   "cell_type": "code",
   "execution_count": null,
   "id": "249e1380",
   "metadata": {},
   "outputs": [],
   "source": [
    "import matplotlib.pyplot as plt\n",
    "import numpy as np\n",
    "import pandas as pd\n",
    "import plotly.express as px\n",
    "import seaborn as sns\n",
    "from scipy import stats\n",
    "import time\n",
    " \n",
    "pd.set_option('display.expand_frame_repr', False)\n",
    "start_time = time.time()"
   ]
  },
  {
   "cell_type": "markdown",
   "id": "6064553d",
   "metadata": {},
   "source": [
    "<a id='loading'></a>\n",
    "## Carregando os dados"
   ]
  },
  {
   "cell_type": "code",
   "execution_count": null,
   "id": "99a047c4",
   "metadata": {
    "scrolled": true
   },
   "outputs": [],
   "source": [
    "df_data = pd.read_csv('df_dataset_2.csv')\n",
    "df_data = df_data.sort_values(by =['compound_concentration', 'ScanHeader'])\n",
    "df_data.head()"
   ]
  },
  {
   "cell_type": "code",
   "execution_count": null,
   "id": "0e2d9fcb",
   "metadata": {},
   "outputs": [],
   "source": [
    "df_data.shape"
   ]
  },
  {
   "cell_type": "markdown",
   "id": "660197f8",
   "metadata": {},
   "source": [
    "<a id='analise-exploratoria'></a>\n",
    "# Análise exploratória dos dados\n",
    "\n"
   ]
  },
  {
   "cell_type": "markdown",
   "id": "5c901a31",
   "metadata": {},
   "source": [
    "<a id='df-info'></a>\n",
    "## Análise dos dados gerais\n",
    "\n",
    "Vou começar a análise com os dados gerais obtidos, que estão contidos nas colunas `'SpectrumPosition', 'max_integ_intensity', 'compound_concentration'`. Para isto, vou criar um novo dataframe com apenas estas colunas. Como temos muitos dados repetidos nestas colunas, vou remove-lo e ficar apenas com valores únicos. Para facilitar, também vou resetar o index:"
   ]
  },
  {
   "cell_type": "code",
   "execution_count": null,
   "id": "1fe5a576",
   "metadata": {},
   "outputs": [],
   "source": [
    "df_aux = df_data[['SpectrumPosition', 'max_integ_intensity', 'compound_concentration']].copy()\n",
    "df_aux = df_aux.drop_duplicates()\n",
    "df_aux.reset_index(inplace=True, drop=True)"
   ]
  },
  {
   "cell_type": "markdown",
   "id": "5c33dc55",
   "metadata": {},
   "source": [
    "A variavel independente do conjunto de dados é a concentração do composto. Então, vamos observar os comportamento das outras medidas em relação a `compound_concentration` através de um gráfico de dispersão:"
   ]
  },
  {
   "cell_type": "code",
   "execution_count": null,
   "id": "c481f63e",
   "metadata": {},
   "outputs": [],
   "source": [
    "df_aux[['SpectrumPosition']].describe().transpose()"
   ]
  },
  {
   "cell_type": "code",
   "execution_count": null,
   "id": "7398049a",
   "metadata": {},
   "outputs": [],
   "source": [
    "plt.figure(figsize=(10,4))\n",
    "plt.scatter(df_aux['compound_concentration'], df_aux['SpectrumPosition'])\n",
    "plt.plot(df_aux['compound_concentration'], df_aux['SpectrumPosition'])\n",
    "plt.xlabel('compound_concentration')\n",
    "plt.ylabel('SpectrumPosition')\n",
    "plt.ylim(bottom=0)\n",
    "plt.show()"
   ]
  },
  {
   "cell_type": "markdown",
   "id": "cb25c598",
   "metadata": {},
   "source": [
    "Como posso observar, existe uma tendência nos dados: após 3 medidas de concentração com aumento do `SpectrumPosition`, a próxima concentração tem uma redução no seu valor. Em seguida, novamente 3 aumentos, e outra redução. Contudo, "
   ]
  },
  {
   "cell_type": "code",
   "execution_count": null,
   "id": "ab749e5e",
   "metadata": {},
   "outputs": [],
   "source": [
    "lin_regres = stats.linregress(df_aux['compound_concentration'], df_aux['SpectrumPosition'])\n",
    "print(f\"r pearson = {round(lin_regres.rvalue,4)}\")\n",
    "print(f\"p-valor = {round(lin_regres.pvalue,3)}\")\n",
    "ax = sns.regplot(x=\"compound_concentration\", y=\"SpectrumPosition\", data=df_aux)\n",
    "plt.show()"
   ]
  },
  {
   "cell_type": "markdown",
   "id": "e9407c6b",
   "metadata": {},
   "source": [
    "a correlação linear não é singnificativa (`p >  0.05`) e, portanto, a variação da concentração do composto não interfere no `SpectrumPosition` significativamente. É importante salientar que eu não tenho a ordem de aquisição deste dados, o que seria uma informação importante para chegar a esta conclusão.\n",
    "\n",
    "Estes dados me levam a acreditar que o `SpectrumPosition` é apenas um valor de posição física do equipamento, que é ajustada pelo instrumentista ou automaticamente pelo software do equiapamento. Entretanto, esta talvez seja uma medida relevante como dados categóricos.\n",
    "\n",
    "O comportamento da `max_integ_intensity` em relação a concentração é, de alguma forma, similar ao `SpectrumPosition`. Contudo...."
   ]
  },
  {
   "cell_type": "code",
   "execution_count": null,
   "id": "c060ec0c",
   "metadata": {},
   "outputs": [],
   "source": [
    "df_aux[['SpectrumPosition']].describe().transpose()"
   ]
  },
  {
   "cell_type": "code",
   "execution_count": null,
   "id": "06636821",
   "metadata": {
    "scrolled": true
   },
   "outputs": [],
   "source": [
    "plt.figure(figsize=(10,4))\n",
    "plt.scatter(df_aux['compound_concentration'], df_aux['max_integ_intensity'])\n",
    "plt.xlabel('compound_concentration')\n",
    "plt.ylabel('max_integ_intensity')\n",
    "plt.ylim(bottom=0)\n",
    "plt.show() "
   ]
  },
  {
   "cell_type": "code",
   "execution_count": null,
   "id": "a5223b1a",
   "metadata": {},
   "outputs": [],
   "source": [
    "lin_regres = stats.linregress(df_aux['compound_concentration'], df_aux['max_integ_intensity'])\n",
    "print(f\"r pearson = {round(lin_regres.rvalue,4)}\")\n",
    "print(f\"p-valor = {round(lin_regres.pvalue,3)}\")\n",
    "ax = sns.regplot(x=\"compound_concentration\", y=\"max_integ_intensity\", data=df_aux)\n",
    "plt.show()"
   ]
  },
  {
   "cell_type": "markdown",
   "id": "fbf083b1",
   "metadata": {},
   "source": [
    "a correlação linear não é singificativa (`p > 0.05`). Isto me leva a pensar que esta medida também é algo mais relacionado ao equipamento do que ao composto que esta sendo avaliado.\n",
    "\n",
    "Podemos alocar estas três medidas em um único gráfico, para facilitar a obervação:"
   ]
  },
  {
   "cell_type": "code",
   "execution_count": null,
   "id": "569e8ba1",
   "metadata": {},
   "outputs": [],
   "source": [
    "df_aux['compound_concentration'] = df_aux['compound_concentration'].astype(str)\n",
    "plt.figure(figsize=(6,4)) \n",
    "plt.scatter(df_aux['SpectrumPosition'], df_aux['max_integ_intensity'])\n",
    "plt.xlabel('SpectrumPosition')\n",
    "plt.ylabel('max_integ_intensity')\n",
    "for i in range(df_aux.shape[0]):\n",
    "     plt.text(df_aux['SpectrumPosition'][i], df_aux['max_integ_intensity'][i], df_aux['compound_concentration'][i])\n",
    "plt.ylim(bottom=0)\n",
    "plt.show()"
   ]
  },
  {
   "cell_type": "markdown",
   "id": "a5410101",
   "metadata": {},
   "source": [
    "A correlação linear não é significativa. Assim, ou estes valores devem ser descartados, ou utilizados como variáveis categóricas."
   ]
  },
  {
   "cell_type": "code",
   "execution_count": null,
   "id": "05c7f17a",
   "metadata": {},
   "outputs": [],
   "source": [
    "lin_regres = stats.linregress(df_aux['SpectrumPosition'], df_aux['max_integ_intensity'])\n",
    "print(f\"r pearson = {round(lin_regres.rvalue,4)}\")\n",
    "print(f\"p-valor = {round(lin_regres.pvalue,3)}\")\n",
    "ax = sns.regplot(x=\"SpectrumPosition\", y=\"max_integ_intensity\", data=df_aux)\n",
    "plt.show()"
   ]
  },
  {
   "cell_type": "markdown",
   "id": "45df645e",
   "metadata": {},
   "source": [
    "<a id='df-data-info'></a>\n",
    "## Análise dos dados do ScanHeader\n",
    "\n",
    "Agora vou avaliar os dados provenientes de ScanHeader. Primeiramente, vou filtrar os dados para obter apenas as colunas desta fonte de dados:"
   ]
  },
  {
   "cell_type": "code",
   "execution_count": null,
   "id": "89949f10",
   "metadata": {},
   "outputs": [],
   "source": [
    "df_aux = df_data[['SpectrumPosition', 'max_integ_intensity', 'compound_concentration', 'ScanHeader', 'start_time',\n",
    "                  'num_readings', 'integ_intens', 'datapacketpos', 'PeakIntensity', 'PeakMass']].copy() \n",
    "df_aux = df_aux.drop_duplicates()\n",
    "df_aux.reset_index(inplace=True, drop=True)\n",
    "df_aux['concentration'] = df_aux['compound_concentration'].astype(str)\n",
    "df_aux.shape"
   ]
  },
  {
   "cell_type": "code",
   "execution_count": null,
   "id": "16ed1789",
   "metadata": {},
   "outputs": [],
   "source": [
    "df_aux.head()"
   ]
  },
  {
   "cell_type": "markdown",
   "id": "2cf9080e",
   "metadata": {},
   "source": [
    "Para facilitar os calculos das estatísticas por concentração, vou criar um novo dataframe utilizando o método describe; porém, vou agrupar os dados pela coluna `'compound_concentration'` préviamente. Isto irá gerar um dataframe com multiheaders com as estatísticas calculadas"
   ]
  },
  {
   "cell_type": "code",
   "execution_count": null,
   "id": "a480af17",
   "metadata": {},
   "outputs": [],
   "source": [
    "df_describe = df_aux.groupby('compound_concentration').describe()"
   ]
  },
  {
   "cell_type": "markdown",
   "id": "4cd43c53",
   "metadata": {},
   "source": [
    "Vamos verificar cada medida em relação a concentração do composto. "
   ]
  },
  {
   "cell_type": "markdown",
   "id": "e69eb33f",
   "metadata": {},
   "source": [
    "<a id='df-data-info-ScanHeader'></a>\n",
    "### ScanHeader"
   ]
  },
  {
   "cell_type": "code",
   "execution_count": null,
   "id": "0473eda7",
   "metadata": {},
   "outputs": [],
   "source": [
    "df_describe['ScanHeader']"
   ]
  },
  {
   "cell_type": "code",
   "execution_count": null,
   "id": "0e2121db",
   "metadata": {},
   "outputs": [],
   "source": [
    "plt.figure(figsize=(10,4))\n",
    "plt.scatter(df_aux['compound_concentration'], df_aux['ScanHeader'])\n",
    "plt.xlabel('compound_concentration')\n",
    "plt.ylabel('ScanHeader')\n",
    "plt.show()"
   ]
  },
  {
   "cell_type": "markdown",
   "id": "a3b2137b",
   "metadata": {},
   "source": [
    "Como podemos observar, todas das concentrações apresentam os mesmos valores para o `ScanHeader`. Provavelmente, esta é uma opção escolhida pelo instrumentista de quantas varreduras serão feitas, tendo sido escolhidas 50 varreduras para cada concentração do composto."
   ]
  },
  {
   "cell_type": "markdown",
   "id": "ffccc0fa",
   "metadata": {},
   "source": [
    "<a id='df-data-info-start_time'></a>\n",
    "### start_time"
   ]
  },
  {
   "cell_type": "code",
   "execution_count": null,
   "id": "714784d6",
   "metadata": {},
   "outputs": [],
   "source": [
    "plt.figure(figsize=(10,4))\n",
    "plt.scatter(df_aux['compound_concentration'], df_aux['start_time'])\n",
    "plt.xlabel('compound_concentration')\n",
    "plt.ylabel('start_time')\n",
    "plt.show()"
   ]
  },
  {
   "cell_type": "code",
   "execution_count": null,
   "id": "22e56a59",
   "metadata": {},
   "outputs": [],
   "source": [
    "df_describe['start_time']"
   ]
  },
  {
   "cell_type": "markdown",
   "id": "98a750e1",
   "metadata": {},
   "source": [
    "O `'start_time'` parece ser o tempo para iniciar a varredura. Contudo, existe um padrão de que quanto mais distante do médida de concentração, menor é este tempo. "
   ]
  },
  {
   "cell_type": "code",
   "execution_count": null,
   "id": "7b2f91f0",
   "metadata": {},
   "outputs": [],
   "source": [
    "plt.figure(figsize=(10,4))\n",
    "plt.scatter(df_describe['start_time'].index, df_describe['start_time']['mean'], label='média')\n",
    "plt.scatter(df_describe['start_time'].index, df_describe['start_time']['std'], label='desvio padrão')\n",
    "plt.xlabel('compound_concentration')\n",
    "plt.ylabel('start_time')\n",
    "plt.legend()\n",
    "# plt.ylim(bottom=0)\n",
    "plt.show()"
   ]
  },
  {
   "cell_type": "markdown",
   "id": "f164fbd4",
   "metadata": {},
   "source": [
    "<a id='df-data-info-num_readings'></a>\n",
    "### num_readings"
   ]
  },
  {
   "cell_type": "code",
   "execution_count": null,
   "id": "9406102f",
   "metadata": {},
   "outputs": [],
   "source": [
    "df_describe['num_readings']"
   ]
  },
  {
   "cell_type": "code",
   "execution_count": null,
   "id": "81173023",
   "metadata": {},
   "outputs": [],
   "source": [
    "lin_regres = stats.linregress(df_aux['compound_concentration'], df_aux['num_readings'])\n",
    "\n",
    "x_pred = np.array([df_aux['compound_concentration'].min(), df_aux['compound_concentration'].max()])\n",
    "y_pred = lin_regres.slope*x_pred + lin_regres.intercept\n",
    "\n",
    "\n",
    "fig, ax = plt.subplots(figsize=(8,4))\n",
    "\n",
    "ax.plot(x_pred, y_pred)\n",
    "ax.scatter(df_aux['compound_concentration'], y=df_aux['num_readings'])\n",
    "\n",
    "plt.show()\n",
    "\n",
    "print(f\"r pearson = {round(lin_regres.rvalue,4)}\")\n",
    "print(f\"p-valor = {round(lin_regres.pvalue,3)}\")"
   ]
  },
  {
   "cell_type": "markdown",
   "id": "87ce08f2",
   "metadata": {},
   "source": [
    "Como podemos observar acima, o `num_readings`, provavelmente número de leituras, tem uma variação bastante acentuada. Isto fica mais evidente ao obervar o gráfico de erros abaixo.\n",
    "\n",
    "As cocentrações de `4.10, 25.63 e 36.41` ppm tem uma variância muito maior do que as demais. `num_readings` talvez seja o número de espécies identificadas."
   ]
  },
  {
   "cell_type": "code",
   "execution_count": null,
   "id": "a22253bd",
   "metadata": {},
   "outputs": [],
   "source": [
    "plt.figure(figsize=(10,4))\n",
    "plt.errorbar(df_describe['num_readings'].index, df_describe['num_readings']['mean'], yerr=df_describe['num_readings']['std'],\n",
    "            capsize=10, linestyle=\"none\", marker='o', barsabove=True,)\n",
    "plt.xlabel('compound_concentration')\n",
    "plt.ylabel('num_readings')\n",
    "plt.show()"
   ]
  },
  {
   "cell_type": "markdown",
   "id": "a93241b6",
   "metadata": {},
   "source": [
    "<a id='df-data-info-integ_intens'></a>\n",
    " ### integ_intens"
   ]
  },
  {
   "cell_type": "code",
   "execution_count": null,
   "id": "cafda06b",
   "metadata": {},
   "outputs": [],
   "source": [
    "df_describe['integ_intens']"
   ]
  },
  {
   "cell_type": "code",
   "execution_count": null,
   "id": "cfd1b047",
   "metadata": {},
   "outputs": [],
   "source": [
    "plt.figure(figsize=(10,4))\n",
    "plt.scatter(df_aux['compound_concentration'], df_aux['integ_intens'])\n",
    "plt.xlabel('compound_concentration')\n",
    "plt.ylabel('integ_intens')\n",
    "plt.show()"
   ]
  },
  {
   "cell_type": "code",
   "execution_count": null,
   "id": "5c74a167",
   "metadata": {},
   "outputs": [],
   "source": [
    "plt.figure(figsize=(10,4))\n",
    "plt.errorbar(df_describe['integ_intens'].index, df_describe['integ_intens']['mean'], yerr=df_describe['integ_intens']['std'],\n",
    "            capsize=10, linestyle=\"none\", marker='o', barsabove=True,)\n",
    "plt.xlabel('compound_concentration')\n",
    "plt.ylabel('integ_intens')\n",
    "plt.show()"
   ]
  },
  {
   "cell_type": "markdown",
   "id": "c7ba81de",
   "metadata": {},
   "source": [
    "Em relação as medidas de `integ_intens`, chama atenção a concentração de `25.63` ppmm que tem a maior variância,  e os pontos `14.86 e 22.05` ppm que tem uma variância muito menor do que os demais."
   ]
  },
  {
   "cell_type": "code",
   "execution_count": null,
   "id": "1f0be3ec",
   "metadata": {},
   "outputs": [],
   "source": [
    "100*df_describe['integ_intens']['std']/df_describe['integ_intens']['mean']"
   ]
  },
  {
   "cell_type": "code",
   "execution_count": null,
   "id": "4842354d",
   "metadata": {},
   "outputs": [],
   "source": [
    "plt.figure(figsize=(10,4))\n",
    "plt.scatter(df_describe['integ_intens'].index,\n",
    "           100*df_describe['integ_intens']['std']/df_describe['integ_intens']['mean'], label=\"Coeficiente de variação\")\n",
    "plt.legend()\n",
    "plt.xlabel('compound_concentration')\n",
    "plt.ylabel('integ_intens - coeficiente de variação (%)')\n",
    "plt.show()"
   ]
  },
  {
   "cell_type": "markdown",
   "id": "ce56460a",
   "metadata": {},
   "source": [
    "Contudo, ao observar o coeficiente de variação, apenas a medida de `25.63` tem uma valor muito distante dos demais, com mais de `72%` de variação."
   ]
  },
  {
   "cell_type": "markdown",
   "id": "b52fa259",
   "metadata": {},
   "source": [
    "<a id='df-data-info-datapacketpos'></a>\n",
    "### datapacketpos"
   ]
  },
  {
   "cell_type": "code",
   "execution_count": null,
   "id": "0628e487",
   "metadata": {},
   "outputs": [],
   "source": [
    "df_describe['integ_intens']"
   ]
  },
  {
   "cell_type": "code",
   "execution_count": null,
   "id": "69f57c50",
   "metadata": {},
   "outputs": [],
   "source": [
    "plt.figure(figsize=(10,4))\n",
    "plt.scatter(df_aux['compound_concentration'], df_aux['datapacketpos'])\n",
    "plt.xlabel('compound_concentration')\n",
    "plt.ylabel('datapacketpos')\n",
    "plt.show()"
   ]
  },
  {
   "cell_type": "markdown",
   "id": "9e8d9313",
   "metadata": {},
   "source": [
    "Aparentemente, esta medida esta relacionada com o `ScanHeader`:"
   ]
  },
  {
   "cell_type": "code",
   "execution_count": null,
   "id": "951449a8",
   "metadata": {},
   "outputs": [],
   "source": [
    "ax = sns.scatterplot(data=df_aux, x='ScanHeader', y='datapacketpos', \n",
    "                     hue=df_aux['compound_concentration'].astype(str), palette=\"tab10\")\n",
    "sns.move_legend(ax, \"upper left\", bbox_to_anchor=(1, 1))\n",
    "plt.show()"
   ]
  },
  {
   "cell_type": "markdown",
   "id": "3d62465f",
   "metadata": {},
   "source": [
    "<a id='df-data-info-PeakIntensity'></a>\n",
    "### PeakIntensity"
   ]
  },
  {
   "cell_type": "code",
   "execution_count": null,
   "id": "dc4eb345",
   "metadata": {},
   "outputs": [],
   "source": [
    "df_describe['PeakIntensity']"
   ]
  },
  {
   "cell_type": "code",
   "execution_count": null,
   "id": "ab3e18f5",
   "metadata": {},
   "outputs": [],
   "source": [
    "plt.figure(figsize=(10,4))\n",
    "plt.scatter(df_aux['compound_concentration'], df_aux['PeakIntensity'])\n",
    "plt.xlabel('compound_concentration')\n",
    "plt.ylabel('PeakIntensity')\n",
    "plt.show()"
   ]
  },
  {
   "cell_type": "markdown",
   "id": "6451c5b4",
   "metadata": {},
   "source": [
    "Novamente, temos bastante variância no ponto `25.63`. "
   ]
  },
  {
   "cell_type": "code",
   "execution_count": null,
   "id": "37489bdf",
   "metadata": {},
   "outputs": [],
   "source": [
    "plt.figure(figsize=(10,4))\n",
    "plt.errorbar(df_describe['PeakIntensity'].index, df_describe['PeakIntensity']['mean'], yerr=df_describe['PeakIntensity']['std'],\n",
    "            capsize=10, linestyle=\"none\", marker='o', barsabove=True,)\n",
    "plt.xlabel('compound_concentration')\n",
    "plt.ylabel('PeakIntensity')\n",
    "plt.show()"
   ]
  },
  {
   "cell_type": "markdown",
   "id": "4e96aa23",
   "metadata": {},
   "source": [
    "O comportamento apresentado pelo `PeakIntensity` é muito semelhante ao observado com `integ_intens`. Vamos comparar os gráficos lado a lado:"
   ]
  },
  {
   "cell_type": "code",
   "execution_count": null,
   "id": "651e7626",
   "metadata": {},
   "outputs": [],
   "source": [
    "fig, (ax1, ax2) = plt.subplots(1,2, figsize=(12,4))\n",
    "ax1.errorbar(df_describe['PeakIntensity'].index, df_describe['PeakIntensity']['mean'], yerr=df_describe['PeakIntensity']['std'],\n",
    "            capsize=10, linestyle=\"none\", marker='o', barsabove=True,)\n",
    "ax1.set_xlabel('compound_concentration')\n",
    "ax1.set_ylabel('PeakIntensity')\n",
    "\n",
    "ax2.errorbar(df_describe['integ_intens'].index, df_describe['integ_intens']['mean'], yerr=df_describe['integ_intens']['std'],\n",
    "            capsize=10, linestyle=\"none\", marker='o', barsabove=True,)\n",
    "ax2.set_xlabel('compound_concentration')\n",
    "ax2.set_ylabel('integ_intens')\n",
    "\n",
    "plt.show()"
   ]
  },
  {
   "cell_type": "markdown",
   "id": "59dff3e2",
   "metadata": {},
   "source": [
    "Parecem iguais, com diferença apenas nos valores de y (valores proporcionalmente iguais). Vamos observar de outra forma:"
   ]
  },
  {
   "cell_type": "code",
   "execution_count": null,
   "id": "4fc14d53",
   "metadata": {},
   "outputs": [],
   "source": [
    "fig, ax1 = plt.subplots(figsize=(10,4))\n",
    "ax1.errorbar(df_describe['PeakIntensity'].index, df_describe['PeakIntensity']['mean'], yerr=df_describe['PeakIntensity']['std'],\n",
    "            capsize=10, linestyle=\"none\", marker='o', barsabove=True,)\n",
    "ax1.set_xlabel('compound_concentration')\n",
    "ax1.set_ylabel('PeakIntensity')\n",
    "\n",
    "ax2 = ax1.twinx() \n",
    "\n",
    "ax2.errorbar(df_describe['integ_intens'].index, df_describe['integ_intens']['mean'], yerr=df_describe['integ_intens']['std'],\n",
    "            capsize=10, linestyle=\"none\", marker='o', barsabove=True, c='r')\n",
    "ax2.set_xlabel('compound_concentration')\n",
    "ax2.set_ylabel('integ_intens')\n",
    "\n",
    "plt.show()"
   ]
  },
  {
   "cell_type": "markdown",
   "id": "383e3b08",
   "metadata": {},
   "source": [
    "Existe diferença entre as medidas, porém ela é intensificada com o aumento do `PeakIntensity`"
   ]
  },
  {
   "cell_type": "code",
   "execution_count": null,
   "id": "71342a8b",
   "metadata": {},
   "outputs": [],
   "source": [
    "df_comp = pd.DataFrame({\n",
    "    'CV_integ_intens': 100*df_describe['integ_intens']['std']/df_describe['integ_intens']['mean'],\n",
    "    'CV_PeakIntensity': 100*df_describe['PeakIntensity']['std']/df_describe['PeakIntensity']['mean'],\n",
    "})\n",
    "df_comp['Desvio'] = df_comp['CV_integ_intens'] - df_comp['CV_PeakIntensity']\n",
    "df_comp"
   ]
  },
  {
   "cell_type": "markdown",
   "id": "03142b14",
   "metadata": {},
   "source": [
    "Com a análise acima, podemos dizer que os valores não são iguais, porém tem variância muito semelhante e provavelmente são correlacionados"
   ]
  },
  {
   "cell_type": "code",
   "execution_count": null,
   "id": "d3e0c216",
   "metadata": {},
   "outputs": [],
   "source": [
    "lin_regres = stats.linregress(df_aux['integ_intens'], df_aux['PeakIntensity'])\n",
    "\n",
    "x_pred = np.array([df_aux['integ_intens'].min(), df_aux['integ_intens'].max()])\n",
    "y_pred = lin_regres.slope*x_pred + lin_regres.intercept\n",
    "\n",
    "\n",
    "fig, ax = plt.subplots(figsize=(8,4))\n",
    "\n",
    "ax.plot(x_pred, y_pred)\n",
    "ax = sns.scatterplot(data=df_aux, x='integ_intens', y='PeakIntensity', \n",
    "                     hue=df_aux['compound_concentration'].astype(str), palette=\"tab10\")\n",
    "sns.move_legend(ax, \"upper left\", bbox_to_anchor=(1, 1))\n",
    "plt.show()\n",
    "print(f\"r pearson = {round(lin_regres.rvalue,4)}\")\n",
    "print(f\"p-valor = {round(lin_regres.pvalue,3)}\")"
   ]
  },
  {
   "cell_type": "markdown",
   "id": "154f74f5",
   "metadata": {},
   "source": [
    "Como podemos verificar, existe uma forte correlação entre `'integ_intens' e 'PeakIntensity'` (`p-valor<0.05`). O principal ponto destoante é o ponto:"
   ]
  },
  {
   "cell_type": "code",
   "execution_count": null,
   "id": "8559e7ac",
   "metadata": {},
   "outputs": [],
   "source": [
    "df_aux[df_aux['integ_intens'] == df_aux['integ_intens'].max()]"
   ]
  },
  {
   "cell_type": "markdown",
   "id": "0047f0fb",
   "metadata": {},
   "source": [
    "Este ponto deve ser mantido sob investigação ao longo da análise."
   ]
  },
  {
   "cell_type": "markdown",
   "id": "1f247e0e",
   "metadata": {},
   "source": [
    "<a id='df-data-info-PeakMass'></a>\n",
    "### PeakMass"
   ]
  },
  {
   "cell_type": "code",
   "execution_count": null,
   "id": "eb40141f",
   "metadata": {},
   "outputs": [],
   "source": [
    "df_describe['PeakMass']"
   ]
  },
  {
   "cell_type": "code",
   "execution_count": null,
   "id": "800e67cd",
   "metadata": {},
   "outputs": [],
   "source": [
    "plt.figure(figsize=(10,4))\n",
    "plt.scatter(df_aux['compound_concentration'], df_aux['PeakMass'])\n",
    "plt.xlabel('compound_concentration')\n",
    "plt.ylabel('PeakMass')\n",
    "plt.ylim(bottom=0)\n",
    "plt.show()"
   ]
  },
  {
   "cell_type": "markdown",
   "id": "e0eb6b89",
   "metadata": {},
   "source": [
    "Podemos observar que os valores de `PeakMass` são constantes para a maioria das concentrações; porém, `32.82, 29.23 e 25.63` ppm, apresentam variação nestes valores. Temos 5 concentrações que apresentam valores diferentes dos demais (acima de 150), que são as concentrações de `0.50, 25.63, 29.23, 32.82 e 36.41`. \n",
    "\n",
    "Vamos verificar quantas medidas apresentam valores de `PeakMass` acima de 150:"
   ]
  },
  {
   "cell_type": "code",
   "execution_count": null,
   "id": "054ed96e",
   "metadata": {},
   "outputs": [],
   "source": [
    "df_aux[df_aux['PeakMass'] > 150]"
   ]
  },
  {
   "cell_type": "code",
   "execution_count": null,
   "id": "e01f2189",
   "metadata": {},
   "outputs": [],
   "source": [
    "100*df_aux[df_aux['PeakMass'] > 150].shape[0]/df_aux.shape[0]"
   ]
  },
  {
   "cell_type": "markdown",
   "id": "1d6378f9",
   "metadata": {},
   "source": [
    "Temos quase 1/4 dos dados com valores de `PeakMass` diferentes dos demais. Mas é preciso saber quantos valores únicos temos nesta coluna:"
   ]
  },
  {
   "cell_type": "code",
   "execution_count": null,
   "id": "6387b095",
   "metadata": {},
   "outputs": [],
   "source": [
    "pd.value_counts(df_aux['PeakMass'])"
   ]
  },
  {
   "cell_type": "markdown",
   "id": "ad5a45dc",
   "metadata": {},
   "source": [
    "Portanto, das 600 observações, 408 apresentam valores diferentes, mesmo que a maioria seja próxima.\n",
    "\n",
    "O gráfico a seguir tenta trazer mais informações sobre a coluna `PeakMass`. Mantenha as colunas `0.50, 25.63, 29.23, 32.82 e 36.41` (clicando na legenda), e observe atentamente que a maioria dos pontos ainda permanece no menor valor de `PeakMass`"
   ]
  },
  {
   "cell_type": "code",
   "execution_count": null,
   "id": "b49c0807",
   "metadata": {},
   "outputs": [],
   "source": [
    "fig = px.scatter(df_aux, x ='PeakMass', y='PeakIntensity', color='concentration')\n",
    "\n",
    "fig.update_layout(template='simple_white', margin={\"r\":0,\"l\":0,\"b\":0, 't':30},\n",
    "            )\n",
    "fig.add_hline(y=0, line_width=1, line_color=\"black\")\n",
    "fig.add_vline(x=0, line_width=1, line_color=\"black\")\n",
    "fig.update_xaxes(showline=True, linewidth=1, linecolor='black', mirror=True) # adicionando linhas no eixo x do grafico\n",
    "fig.update_yaxes(showline=True, linewidth=1, linecolor='black', mirror=True) # adicionando linhas no eixo y do gráfico\n",
    "\n",
    "\n",
    "fig.show()"
   ]
  },
  {
   "cell_type": "markdown",
   "id": "4c0f7de9",
   "metadata": {},
   "source": [
    "É possível que, devido ao comportamento observado acima, a coluna `PeakMass` seja útil para auxiliar o modelo diferenciar as difentes amostras."
   ]
  },
  {
   "cell_type": "markdown",
   "id": "46b77fb4",
   "metadata": {},
   "source": [
    "<a id='df-data-info-resumo'></a>\n",
    "### Resumo\n",
    "\n",
    "Nesta parte da análise exploratória, fiz uma análise dos dados \"gerais\". Estes dados provavelmente não são muito úteis, pois eu tenho a impressão de que estes dados estão relacionados à medidas ajustadas pelo operador do equipamento, e não exatamente a aquisição dos dados. Entretanto, algumas informações importantes foram reunidas. \n",
    "\n",
    "Em relação aos dados gerais, temos 3 variáveis: `'SpectrumPosition', 'max_integ_intensity' e 'compound_concentration'`. Como estas variáveis são fixas para cada concentração, elas não irão causar impacto. A principal chance delas terem alguma importância, é se elas tiverem um papel *categórico* nos dados, auxiliando o algoritmo a escolher um melhor caminho.\n",
    "\n",
    "Já em relaçao aos dados do ScanHeader, foi possível observar que algumas variáveis não apresentam o comportamento esperado. Por exemplo, a variável `num_readings` não tem um padrão. Eu poderia imaginar que, soluções mais concentradas o a quantidade de leituras fosse maior do que em concentrações baixas. Também poderia imaginar que, em concentrações intermediárias mais leituras fosse feitas (ou menos), em uma espécie de parábola com concavidade para cima (ou para baixo). Não existe correlação linear significativa nestes dados. O que existe é uma variação muito grande dentro de algumas concentrações, como a 4.0, 25.63 e 36.4 ppm. Isto provavelmente é uma caractetística das soluções utilizadas; se for, isto será refletido em outras variáveis mais importantes.\n",
    "\n",
    "Também foi possível observar que as variáveis `integ_intens` e `PeakIntensity` tem praticamente o mesmo coeficiente de variação, o que me induz a pensar que não é necessário utilizar as duas variáveis no modelo. \n",
    "\n",
    "A variável `PeakMass` tem um comportamento diferente. Na maioria das concentrações, ela apresenta um único valor (valores muito próximos na verdade). Mas, para as concentrações `32.82, 29.23 e 25.63`, ela tem dois (ou três) valores bem distintos. Talvez esta seja uma característica que ajude alguns tipos de modelo.\n",
    "\n",
    "Depois da análise destes dados, das colunas `'SpectrumPosition', 'max_integ_intensity', 'compound_concentration', 'SpectrumPosition', 'max_integ_intensity', 'ScanHeader', 'start_time', 'num_readings', 'integ_intens', 'datapacketpos', 'PeakIntensity' e 'PeakMass'`, vou decidir por inicialmente manter apenas as colunas `PeakMass` e `PeakIntensity`, além das colunas de chave primária e estrangeira. \n",
    "\n",
    "Caso encontre dificuldades, eu pretendo tentar alocar as colunas `'SpectrumPosition' e 'max_integ_intensity'` como variáveis *categóricas*. \n",
    "\n",
    "> NOTA: em um projeto real, estas decisões seriam tomadas com suporte de informações coletadas dos pequisadores responsáveis pela aquisição dos dados, além de uma busca na literatura."
   ]
  },
  {
   "cell_type": "markdown",
   "id": "217eaed8",
   "metadata": {},
   "source": [
    "<a id='df-data'></a>\n",
    "## Análise dos dados do Packet\n",
    "\n",
    "Agora vamos analisar as colunas restantes. Para isto, vou criar uma cópia do dataframe com os dados:"
   ]
  },
  {
   "cell_type": "code",
   "execution_count": null,
   "id": "dd8f5076",
   "metadata": {},
   "outputs": [],
   "source": [
    "df_aux = df_data.copy()"
   ]
  },
  {
   "cell_type": "markdown",
   "id": "b81470f8",
   "metadata": {},
   "source": [
    "E calcular as estatísticas, separando os dados por `'compound_concentration' e 'ScanHeader'`:"
   ]
  },
  {
   "cell_type": "code",
   "execution_count": null,
   "id": "17ec8f5f",
   "metadata": {},
   "outputs": [],
   "source": [
    "df_describe = df_aux.groupby(['compound_concentration', 'ScanHeader']).describe()\n",
    "df_describe.head()"
   ]
  },
  {
   "cell_type": "markdown",
   "id": "4cbcf554",
   "metadata": {},
   "source": [
    "Como os dados agora de acordo com a concentração do composto, para cada coluna restante vou analisar os dados separados pela concentração."
   ]
  },
  {
   "cell_type": "markdown",
   "id": "677c07a2",
   "metadata": {},
   "source": [
    "<a id='packet'></a>\n",
    "### Packet\n",
    "\n",
    "Os Packet são números inteiros contínuos que provavelmente indicam o número de compostos identificados por varredura. Vamos dar uma geral entre as diferentes concentrações.\n",
    "\n"
   ]
  },
  {
   "cell_type": "markdown",
   "id": "8fcd7803",
   "metadata": {},
   "source": [
    "<a id='packet-0-5'></a>\n",
    "#### 0.5 ppm"
   ]
  },
  {
   "cell_type": "code",
   "execution_count": null,
   "id": "c7d6c2ef",
   "metadata": {},
   "outputs": [],
   "source": [
    "concentracao = 0.5\n",
    "df_describe_aux = df_describe.loc[[concentracao]]['Packet'].copy()\n",
    "df_describe_aux"
   ]
  },
  {
   "cell_type": "code",
   "execution_count": null,
   "id": "1eade28f",
   "metadata": {},
   "outputs": [],
   "source": [
    "plt.figure(figsize=(12,4))\n",
    "plt.bar(\n",
    "    df_describe_aux.index.get_level_values('ScanHeader'),\n",
    "    df_describe_aux['count']\n",
    "       )\n",
    "plt.xlabel('ScanHeader')\n",
    "plt.ylabel('Packet (soma)')\n",
    "plt.title(str(concentracao) + ' ppm')\n",
    "plt.show()"
   ]
  },
  {
   "cell_type": "markdown",
   "id": "c3062ca0",
   "metadata": {},
   "source": [
    "Como podemos observar, existe uma flutuação no quantidade de Packets por ScanHeader. Isto quer dizer que a cada varredura, informações diferentes são obtidas."
   ]
  },
  {
   "cell_type": "markdown",
   "id": "a8fd8875",
   "metadata": {},
   "source": [
    "<a id='packet-4-10'></a>\n",
    "#### 4.10 ppm"
   ]
  },
  {
   "cell_type": "code",
   "execution_count": null,
   "id": "68dababe",
   "metadata": {},
   "outputs": [],
   "source": [
    "concentracao = 4.10\n",
    "df_describe_aux = df_describe.loc[[concentracao]]['Packet'].copy()\n",
    "df_describe_aux"
   ]
  },
  {
   "cell_type": "code",
   "execution_count": null,
   "id": "035b9677",
   "metadata": {},
   "outputs": [],
   "source": [
    "plt.figure(figsize=(12,4))\n",
    "plt.bar(\n",
    "    df_describe_aux.index.get_level_values('ScanHeader'),\n",
    "    df_describe_aux['count']\n",
    "       )\n",
    "plt.xlabel('ScanHeader')\n",
    "plt.ylabel('Packet (soma)')\n",
    "plt.title(str(concentracao) + ' ppm')\n",
    "plt.show()"
   ]
  },
  {
   "cell_type": "markdown",
   "id": "b3a30fe6",
   "metadata": {},
   "source": [
    "Para `4.10` ppm, temos uma grande flutuação no total de Packets realizados. "
   ]
  },
  {
   "cell_type": "markdown",
   "id": "61275369",
   "metadata": {},
   "source": [
    "<a id='packet-7-68'></a>\n",
    "### 7.68 ppm"
   ]
  },
  {
   "cell_type": "code",
   "execution_count": null,
   "id": "67296a64",
   "metadata": {},
   "outputs": [],
   "source": [
    "concentracao = 7.68\n",
    "df_describe_aux = df_describe.loc[[concentracao]]['Packet'].copy()\n",
    "df_describe_aux"
   ]
  },
  {
   "cell_type": "code",
   "execution_count": null,
   "id": "e783ad26",
   "metadata": {},
   "outputs": [],
   "source": [
    "plt.figure(figsize=(12,4))\n",
    "plt.bar(\n",
    "    df_describe_aux.index.get_level_values('ScanHeader'),\n",
    "    df_describe_aux['count']\n",
    "       )\n",
    "plt.xlabel('ScanHeader')\n",
    "plt.ylabel('Packet (soma)')\n",
    "plt.title(str(concentracao) + ' ppm')\n",
    "plt.show()"
   ]
  },
  {
   "cell_type": "markdown",
   "id": "4d577ffc",
   "metadata": {},
   "source": [
    "Para `7.68` ppm, temos dados comportados."
   ]
  },
  {
   "cell_type": "markdown",
   "id": "553216fc",
   "metadata": {},
   "source": [
    "<a id='packet-11-27'></a>\n",
    "#### 11.27 ppm"
   ]
  },
  {
   "cell_type": "code",
   "execution_count": null,
   "id": "3f79a23b",
   "metadata": {},
   "outputs": [],
   "source": [
    "concentracao = 11.27\n",
    "df_describe_aux = df_describe.loc[[concentracao]]['Packet'].copy()\n",
    "df_describe_aux"
   ]
  },
  {
   "cell_type": "code",
   "execution_count": null,
   "id": "0c52b41a",
   "metadata": {},
   "outputs": [],
   "source": [
    "plt.figure(figsize=(12,4))\n",
    "plt.bar(\n",
    "    df_describe_aux.index.get_level_values('ScanHeader'),\n",
    "    df_describe_aux['count']\n",
    "       )\n",
    "plt.xlabel('ScanHeader')\n",
    "plt.ylabel('Packet (soma)')\n",
    "plt.title(str(concentracao) + ' ppm')\n",
    "plt.show()"
   ]
  },
  {
   "cell_type": "markdown",
   "id": "8d6b037e",
   "metadata": {},
   "source": [
    "Para `11.27` ppm, temos dados comportados."
   ]
  },
  {
   "cell_type": "markdown",
   "id": "342a00a9",
   "metadata": {},
   "source": [
    "<a id='packet-14-86'></a>\n",
    "#### 14.86 ppm"
   ]
  },
  {
   "cell_type": "code",
   "execution_count": null,
   "id": "0d883cb5",
   "metadata": {},
   "outputs": [],
   "source": [
    "concentracao = 14.86\n",
    "df_describe_aux = df_describe.loc[[concentracao]]['Packet'].copy()\n",
    "df_describe_aux"
   ]
  },
  {
   "cell_type": "code",
   "execution_count": null,
   "id": "9a5bcc1f",
   "metadata": {},
   "outputs": [],
   "source": [
    "plt.figure(figsize=(12,4))\n",
    "plt.bar(\n",
    "    df_describe_aux.index.get_level_values('ScanHeader'),\n",
    "    df_describe_aux['count']\n",
    "       )\n",
    "plt.xlabel('ScanHeader')\n",
    "plt.ylabel('Packet (soma)')\n",
    "plt.title(str(concentracao) + ' ppm')\n",
    "plt.show()"
   ]
  },
  {
   "cell_type": "markdown",
   "id": "0c224bd7",
   "metadata": {},
   "source": [
    "Para `14.86` ppm, temos dados comportados."
   ]
  },
  {
   "cell_type": "markdown",
   "id": "cd539317",
   "metadata": {},
   "source": [
    "<a id='packet-22-05'></a>\n",
    "#### 22.05 ppm"
   ]
  },
  {
   "cell_type": "code",
   "execution_count": null,
   "id": "9644e07d",
   "metadata": {},
   "outputs": [],
   "source": [
    "concentracao = 22.05\n",
    "df_describe_aux = df_describe.loc[[concentracao]]['Packet'].copy()\n",
    "df_describe_aux"
   ]
  },
  {
   "cell_type": "code",
   "execution_count": null,
   "id": "b5b003b5",
   "metadata": {},
   "outputs": [],
   "source": [
    "plt.figure(figsize=(12,4))\n",
    "plt.bar(\n",
    "    df_describe_aux.index.get_level_values('ScanHeader'),\n",
    "    df_describe_aux['count']\n",
    "       )\n",
    "plt.xlabel('ScanHeader')\n",
    "plt.ylabel('Packet (soma)')\n",
    "plt.title(str(concentracao) + \" ppm\")\n",
    "plt.show()"
   ]
  },
  {
   "cell_type": "markdown",
   "id": "087d75c1",
   "metadata": {},
   "source": [
    "Para `22.05` ppm, temos dados comportados."
   ]
  },
  {
   "cell_type": "markdown",
   "id": "e8ca4bf4",
   "metadata": {},
   "source": [
    "<a id='packet-25-63'></a>\n",
    "#### 25.63 ppm"
   ]
  },
  {
   "cell_type": "code",
   "execution_count": null,
   "id": "823b8e1c",
   "metadata": {},
   "outputs": [],
   "source": [
    "concentracao = 25.63\n",
    "df_describe_aux = df_describe.loc[[concentracao]]['Packet'].copy()\n",
    "df_describe_aux"
   ]
  },
  {
   "cell_type": "code",
   "execution_count": null,
   "id": "aa2608f8",
   "metadata": {},
   "outputs": [],
   "source": [
    "plt.figure(figsize=(12,4))\n",
    "plt.bar(\n",
    "    df_describe_aux.index.get_level_values('ScanHeader'),\n",
    "    df_describe_aux['count']\n",
    "       )\n",
    "plt.xlabel('ScanHeader')\n",
    "plt.ylabel('Packet (soma)')\n",
    "plt.title(str(concentracao) + \" ppm\")\n",
    "plt.show()"
   ]
  },
  {
   "cell_type": "markdown",
   "id": "357a16be",
   "metadata": {},
   "source": [
    "Para `25.63` ppm, temos dados com bastante variação na quantidade de packets."
   ]
  },
  {
   "cell_type": "markdown",
   "id": "14456119",
   "metadata": {},
   "source": [
    "<a id='packet-29-23'></a>\n",
    "#### 29.23 ppm"
   ]
  },
  {
   "cell_type": "code",
   "execution_count": null,
   "id": "7a272f70",
   "metadata": {},
   "outputs": [],
   "source": [
    "concentracao = 29.23\n",
    "df_describe_aux = df_describe.loc[[concentracao]]['Packet'].copy()\n",
    "df_describe_aux"
   ]
  },
  {
   "cell_type": "code",
   "execution_count": null,
   "id": "5ec13b36",
   "metadata": {},
   "outputs": [],
   "source": [
    "plt.figure(figsize=(12,4))\n",
    "plt.bar(\n",
    "    df_describe_aux.index.get_level_values('ScanHeader'),\n",
    "    df_describe_aux['count']\n",
    "       )\n",
    "plt.xlabel('ScanHeader')\n",
    "plt.ylabel('Packet (soma)')\n",
    "plt.title(str(concentracao) + \" ppm\")\n",
    "plt.show()"
   ]
  },
  {
   "cell_type": "markdown",
   "id": "08877a61",
   "metadata": {},
   "source": [
    "Para `29.23` ppm, temos dados com alguma variação na quantidade de packets."
   ]
  },
  {
   "cell_type": "markdown",
   "id": "c952a71e",
   "metadata": {},
   "source": [
    "<a id='packet-32-82'></a>\n",
    "#### 32.82 ppm"
   ]
  },
  {
   "cell_type": "code",
   "execution_count": null,
   "id": "6315f340",
   "metadata": {},
   "outputs": [],
   "source": [
    "concentracao = 32.82\n",
    "df_describe_aux = df_describe.loc[[concentracao]]['Packet'].copy()\n",
    "df_describe_aux"
   ]
  },
  {
   "cell_type": "code",
   "execution_count": null,
   "id": "6a551621",
   "metadata": {},
   "outputs": [],
   "source": [
    "plt.figure(figsize=(12,4))\n",
    "plt.bar(\n",
    "    df_describe_aux.index.get_level_values('ScanHeader'),\n",
    "    df_describe_aux['count']\n",
    "       )\n",
    "plt.xlabel('ScanHeader')\n",
    "plt.ylabel('Packet (soma)')\n",
    "plt.title(str(concentracao) + \" ppm\")\n",
    "plt.show()"
   ]
  },
  {
   "cell_type": "markdown",
   "id": "3860e39c",
   "metadata": {},
   "source": [
    "Para `32.82` ppm, temos dados comportados"
   ]
  },
  {
   "cell_type": "markdown",
   "id": "48df41a7",
   "metadata": {},
   "source": [
    "<a id='packet-36-41'></a>\n",
    "#### 36.41 ppm"
   ]
  },
  {
   "cell_type": "code",
   "execution_count": null,
   "id": "a250250b",
   "metadata": {},
   "outputs": [],
   "source": [
    "concentracao = 36.41\n",
    "df_describe_aux = df_describe.loc[[concentracao]]['Packet'].copy()\n",
    "df_describe_aux"
   ]
  },
  {
   "cell_type": "code",
   "execution_count": null,
   "id": "c0a649dd",
   "metadata": {},
   "outputs": [],
   "source": [
    "plt.figure(figsize=(12,4))\n",
    "plt.bar(\n",
    "    df_describe_aux.index.get_level_values('ScanHeader'),\n",
    "    df_describe_aux['count']\n",
    "       )\n",
    "plt.xlabel('ScanHeader')\n",
    "plt.ylabel('Packet (soma)')\n",
    "plt.title(str(concentracao) + \" ppm\")\n",
    "plt.show()\n"
   ]
  },
  {
   "cell_type": "markdown",
   "id": "86d40931",
   "metadata": {},
   "source": [
    "Para `36.41` ppm, temos dados com bastante variação"
   ]
  },
  {
   "cell_type": "markdown",
   "id": "620dbbd8",
   "metadata": {},
   "source": [
    "<a id='packet-40-00'></a>\n",
    "#### 40.00 ppm"
   ]
  },
  {
   "cell_type": "code",
   "execution_count": null,
   "id": "1d299846",
   "metadata": {},
   "outputs": [],
   "source": [
    "concentracao = 40.00\n",
    "df_describe_aux = df_describe.loc[[concentracao]]['Packet'].copy()\n",
    "df_describe_aux"
   ]
  },
  {
   "cell_type": "code",
   "execution_count": null,
   "id": "e78add01",
   "metadata": {},
   "outputs": [],
   "source": [
    "plt.figure(figsize=(12,4))\n",
    "plt.bar(\n",
    "    df_describe_aux.index.get_level_values('ScanHeader'),\n",
    "    df_describe_aux['count']\n",
    "       )\n",
    "plt.xlabel('ScanHeader')\n",
    "plt.ylabel('Packet (soma)')\n",
    "plt.title(str(concentracao) + \" ppm\")\n",
    "plt.show()"
   ]
  },
  {
   "cell_type": "markdown",
   "id": "fa01fc70",
   "metadata": {},
   "source": [
    "Para `40.00` ppm, temos dados comportados"
   ]
  },
  {
   "cell_type": "markdown",
   "id": "c0dc1168",
   "metadata": {},
   "source": [
    "<a id='packet-resumo'></a>\n",
    "#### Resumo\n",
    "\n",
    "De forma resumida, em geral temos dados bastante comportados, com contagem de Packet similar. Contudo, as amostras de `4.1, 25.63, 29.23 e 36.41` ppm apresentam flutuações interessantes. Para comparar melhor estes dados, vou concatena-los em um dataframe, e gerar um gráfico interativo de linhas ."
   ]
  },
  {
   "cell_type": "code",
   "execution_count": null,
   "id": "95c6e689",
   "metadata": {},
   "outputs": [],
   "source": [
    "lista_aux = []\n",
    "for conc in df_data['compound_concentration'].unique():\n",
    "    df_describe_aux = df_describe.loc[[conc]]['Packet'].copy()\n",
    "    lista_aux.append(\n",
    "        pd.DataFrame({\n",
    "            'Packet_count': np.array(df_describe_aux['count']),\n",
    "            'ScanHeader': np.array(df_describe_aux.index.get_level_values('ScanHeader')),\n",
    "            'concentration': [str(conc)]*df_describe_aux['count'].shape[0]\n",
    "        })\n",
    "    )\n",
    "df_aux = pd.concat(lista_aux)"
   ]
  },
  {
   "cell_type": "code",
   "execution_count": null,
   "id": "8dbce8ef",
   "metadata": {},
   "outputs": [],
   "source": [
    "fig = px.line(df_aux, x ='ScanHeader', y='Packet_count', color='concentration')\n",
    "\n",
    "fig.update_layout(template='simple_white', margin={\"r\":0,\"l\":0,\"b\":0, 't':30},\n",
    "            )\n",
    "fig.add_hline(y=0, line_width=1, line_color=\"black\")\n",
    "fig.add_vline(x=0, line_width=1, line_color=\"black\")\n",
    "fig.update_xaxes(showline=True, linewidth=1, linecolor='black', mirror=True) # adicionando linhas no eixo x do grafico\n",
    "fig.update_yaxes(showline=True, linewidth=1, linecolor='black', mirror=True) # adicionando linhas no eixo y do gráfico\n",
    "\n",
    "\n",
    "fig.show()"
   ]
  },
  {
   "cell_type": "markdown",
   "id": "40403e92",
   "metadata": {},
   "source": [
    "Neste arquivo esta resumido a análise dos dados referente ao Packet (que provavelmente é a mesma coisa que o position, que foi removido em uma etapa prelimiar).\n",
    "\n",
    "Foi possível observar que cada Scan não irá resultar em uma mesma quantidade de Packets. A maioria das concentrações apresenta uma quantidade normal de Packets, média de 10 +- 2 mil leituras, com distribuição aproximadamente Binomial (conclusões visuais apenas, sem aplicar um teste estatístico).  Contudo, algumas amostras são bastante complexas. \n",
    "\n",
    "As que mais se destacaram por apresentar grande variedade de quantidade de Packets foram as concentrações de `4.1, 25.6, e  36.41` ppm, especialmente a de `25.6` ppm. A heterogeneindade destas amostras certamente será um desafio a mais para obter modelos adequados para este dados. \n",
    "\n",
    "Entretanto, eu tenho dúvidas se esta coluna é importante para obter os resultados. Intuitivamente, esta coluna seria utilizada como variável independente, mas ela não é. Ela deve ser utilizada no eixo x para avaliar dados de intensidade, mas me parece que a medida mais adequda será a `mass_position`.\n",
    "\n",
    "> A variável será mantida no dataset. caso o modelo tenha dificuldade em se ajustar, repenso esta variável. "
   ]
  },
  {
   "cell_type": "markdown",
   "id": "a938a67b",
   "metadata": {},
   "source": [
    "<a id='intensity'></a>\n",
    "### Intensity\n",
    "\n",
    "O intensity deve ser a intensidade medida em cada Packet. Vamos dar uma geral entre as diferentes concentrações.\n",
    "\n"
   ]
  },
  {
   "cell_type": "markdown",
   "id": "18fe8e75",
   "metadata": {},
   "source": [
    "<a id='intensity-0-5'></a>\n",
    "#### 0.5 ppm"
   ]
  },
  {
   "cell_type": "code",
   "execution_count": null,
   "id": "faeae237",
   "metadata": {},
   "outputs": [],
   "source": [
    "concentracao = 0.5\n",
    "df_describe_aux = df_describe.loc[[concentracao]]['intensity'].copy()\n",
    "df_describe_aux"
   ]
  },
  {
   "cell_type": "markdown",
   "id": "c9801265",
   "metadata": {},
   "source": [
    "Temos uma grande variação nos valores obtidos, com desvio padrão maior do que a média em todos os scans. Vamos observar isto através de um gráfico de barras. "
   ]
  },
  {
   "cell_type": "code",
   "execution_count": null,
   "id": "1b5c8a56",
   "metadata": {},
   "outputs": [],
   "source": [
    "fig, (ax1, ax2) = plt.subplots(1, 2, figsize=(12,4))\n",
    "ax1.bar(df_describe_aux.index.get_level_values('ScanHeader'), df_describe_aux['mean'],)\n",
    "ax1.set_xlabel('ScanHeader')\n",
    "ax1.set_ylabel('Intensity mean')\n",
    "ax2.bar(df_describe_aux.index.get_level_values('ScanHeader'), df_describe_aux['std'],)    \n",
    "ax2.set_xlabel('ScanHeader')\n",
    "ax2.set_ylabel('Intensity std')\n",
    "plt.suptitle(f\"{concentracao} ppm\")\n",
    "plt.show()"
   ]
  },
  {
   "cell_type": "markdown",
   "id": "114e500c",
   "metadata": {},
   "source": [
    "Podemos observar uma tendência de queda na intensidade obtidada nos diversos scans, contudo, pouco pode ser observado. Vamos olhar para as intensidades em relação aos Packts. Como temos 50 Scans, e cada scan tem aproximadamente 10000 Packets, vou amostrar 5 e desenhar um gráfico interativo.\n",
    "\n",
    "Vou amostrar 5 valores de `range(50)` uma única vez, e utilizar estes 5 valores como índice em todas as comparações. Para fazer isto, vou criar este range, e utilizar a função `random.sample` para fazer a amostragem"
   ]
  },
  {
   "cell_type": "code",
   "execution_count": null,
   "id": "4c774c36",
   "metadata": {},
   "outputs": [],
   "source": [
    "import random"
   ]
  },
  {
   "cell_type": "code",
   "execution_count": null,
   "id": "0b47fdc7",
   "metadata": {},
   "outputs": [],
   "source": [
    "amostra = range(50)\n",
    "random.seed(42)\n",
    "amostra = random.sample(amostra, k=5)\n",
    "amostra"
   ]
  },
  {
   "cell_type": "markdown",
   "id": "ab6e52a3",
   "metadata": {},
   "source": [
    "Agora é preciso filtrar os dados baseado na concentração e na amostra:"
   ]
  },
  {
   "cell_type": "code",
   "execution_count": null,
   "id": "b54dd0a9",
   "metadata": {},
   "outputs": [],
   "source": [
    "df_aux = df_data[df_data['compound_concentration'] == concentracao].copy()\n",
    "\n",
    "df_aux = df_aux[df_aux['ScanHeader'].isin(amostra)]\n",
    "df_aux.reset_index(inplace=True, drop=True)\n",
    "df_aux['ScanHeader'] = df_aux['ScanHeader'].astype(str)\n",
    "df_aux.head(2)"
   ]
  },
  {
   "cell_type": "code",
   "execution_count": null,
   "id": "783d5ea6",
   "metadata": {},
   "outputs": [],
   "source": [
    "fig = px.line(df_aux, x ='Packet', y='intensity', color='ScanHeader', title=f\"{concentracao} ppm\" )\n",
    "\n",
    "fig.update_layout(template='simple_white', margin={\"r\":0,\"l\":0,\"b\":0, 't':30},\n",
    "                  title={'y':0.98,'x':0.5,'xanchor': 'center','yanchor': 'top'})                  \n",
    "                 \n",
    "fig.add_hline(y=0, line_width=1, line_color=\"black\")\n",
    "fig.add_vline(x=0, line_width=1, line_color=\"black\")\n",
    "fig.update_xaxes(showline=True, linewidth=1, linecolor='black', mirror=True) # adicionando linhas no eixo x do grafico\n",
    "fig.update_yaxes(showline=True, linewidth=1, linecolor='black', mirror=True) # adicionando linhas no eixo y do gráfico\n",
    "fig.show()"
   ]
  },
  {
   "cell_type": "markdown",
   "id": "e8487446",
   "metadata": {},
   "source": [
    "Podemos observar a presença de diversos picos, com grande variação para a mesma concentração. Imagino que este comportamento será padrão;"
   ]
  },
  {
   "cell_type": "markdown",
   "id": "37ececb3",
   "metadata": {},
   "source": [
    "<a id='intensity-4-10'></a>\n",
    "#### 4.10 ppm"
   ]
  },
  {
   "cell_type": "code",
   "execution_count": null,
   "id": "b785ec6e",
   "metadata": {},
   "outputs": [],
   "source": [
    "concentracao = 4.10\n",
    "df_describe_aux = df_describe.loc[[concentracao]]['intensity'].copy()\n",
    "df_describe_aux"
   ]
  },
  {
   "cell_type": "code",
   "execution_count": null,
   "id": "8fbd4e76",
   "metadata": {},
   "outputs": [],
   "source": [
    "fig, (ax1, ax2) = plt.subplots(1, 2, figsize=(12,4))\n",
    "ax1.bar(df_describe_aux.index.get_level_values('ScanHeader'), df_describe_aux['mean'],)\n",
    "ax1.set_xlabel('ScanHeader')\n",
    "ax1.set_ylabel('Intensity mean')\n",
    "ax2.bar(df_describe_aux.index.get_level_values('ScanHeader'), df_describe_aux['std'],)    \n",
    "ax2.set_xlabel('ScanHeader')\n",
    "ax2.set_ylabel('Intensity std')\n",
    "plt.suptitle(f\"{concentracao} ppm\")\n",
    "plt.show()"
   ]
  },
  {
   "cell_type": "markdown",
   "id": "23ba6332",
   "metadata": {},
   "source": [
    "Para `4.1` ppm observamos uma quantidade menor de picos nos primeiros scans, que tem um salto após 30 scans"
   ]
  },
  {
   "cell_type": "code",
   "execution_count": null,
   "id": "395e185a",
   "metadata": {},
   "outputs": [],
   "source": [
    "df_aux = df_data[df_data['compound_concentration'] == concentracao].copy()\n",
    "\n",
    "df_aux = df_aux[df_aux['ScanHeader'].isin(amostra)]\n",
    "df_aux.reset_index(inplace=True, drop=True)\n",
    "df_aux['ScanHeader'] = df_aux['ScanHeader'].astype(str)\n",
    "df_aux.head(2)"
   ]
  },
  {
   "cell_type": "code",
   "execution_count": null,
   "id": "e18ebe0a",
   "metadata": {},
   "outputs": [],
   "source": [
    "fig = px.line(df_aux, x ='Packet', y='intensity', color='ScanHeader', title=f\"{concentracao} ppm\" )\n",
    "\n",
    "fig.update_layout(template='simple_white', margin={\"r\":0,\"l\":0,\"b\":0, 't':30},\n",
    "                  title={'y':0.98,'x':0.5,'xanchor': 'center','yanchor': 'top'})                  \n",
    "                 \n",
    "fig.add_hline(y=0, line_width=1, line_color=\"black\")\n",
    "fig.add_vline(x=0, line_width=1, line_color=\"black\")\n",
    "fig.update_xaxes(showline=True, linewidth=1, linecolor='black', mirror=True) # adicionando linhas no eixo x do grafico\n",
    "fig.update_yaxes(showline=True, linewidth=1, linecolor='black', mirror=True) # adicionando linhas no eixo y do gráfico\n",
    "fig.show()"
   ]
  },
  {
   "cell_type": "markdown",
   "id": "96e4334e",
   "metadata": {},
   "source": [
    "<a id='intensity-7-68'></a>\n",
    "#### 7.68 ppm"
   ]
  },
  {
   "cell_type": "code",
   "execution_count": null,
   "id": "3d2a2d88",
   "metadata": {},
   "outputs": [],
   "source": [
    "concentracao = 7.68\n",
    "df_describe_aux = df_describe.loc[[concentracao]]['intensity'].copy()\n",
    "df_describe_aux"
   ]
  },
  {
   "cell_type": "code",
   "execution_count": null,
   "id": "e11f97bb",
   "metadata": {},
   "outputs": [],
   "source": [
    "fig, (ax1, ax2) = plt.subplots(1, 2, figsize=(12,4))\n",
    "ax1.bar(df_describe_aux.index.get_level_values('ScanHeader'), df_describe_aux['mean'],)\n",
    "ax1.set_xlabel('ScanHeader')\n",
    "ax1.set_ylabel('Intensity mean')\n",
    "ax2.bar(df_describe_aux.index.get_level_values('ScanHeader'), df_describe_aux['std'],)    \n",
    "ax2.set_xlabel('ScanHeader')\n",
    "ax2.set_ylabel('Intensity std')\n",
    "plt.suptitle(f\"{concentracao} ppm\")\n",
    "plt.show()"
   ]
  },
  {
   "cell_type": "markdown",
   "id": "466adb3a",
   "metadata": {},
   "source": [
    "Comportamento similar ao obtido com `0.5` ppm"
   ]
  },
  {
   "cell_type": "code",
   "execution_count": null,
   "id": "49705346",
   "metadata": {},
   "outputs": [],
   "source": [
    "df_aux = df_data[df_data['compound_concentration'] == concentracao].copy()\n",
    "\n",
    "df_aux = df_aux[df_aux['ScanHeader'].isin(amostra)]\n",
    "df_aux.reset_index(inplace=True, drop=True)\n",
    "df_aux['ScanHeader'] = df_aux['ScanHeader'].astype(str)\n",
    "df_aux.head(2)"
   ]
  },
  {
   "cell_type": "code",
   "execution_count": null,
   "id": "d6f5a55f",
   "metadata": {},
   "outputs": [],
   "source": [
    "fig = px.line(df_aux, x ='Packet', y='intensity', color='ScanHeader', title=f\"{concentracao} ppm\" )\n",
    "\n",
    "fig.update_layout(template='simple_white', margin={\"r\":0,\"l\":0,\"b\":0, 't':30},\n",
    "                  title={'y':0.98,'x':0.5,'xanchor': 'center','yanchor': 'top'})                  \n",
    "                 \n",
    "fig.add_hline(y=0, line_width=1, line_color=\"black\")\n",
    "fig.add_vline(x=0, line_width=1, line_color=\"black\")\n",
    "fig.update_xaxes(showline=True, linewidth=1, linecolor='black', mirror=True) # adicionando linhas no eixo x do grafico\n",
    "fig.update_yaxes(showline=True, linewidth=1, linecolor='black', mirror=True) # adicionando linhas no eixo y do gráfico\n",
    "fig.show()"
   ]
  },
  {
   "cell_type": "markdown",
   "id": "d9356fab",
   "metadata": {},
   "source": [
    "<a id='intensity-11-27'></a>\n",
    "#### 11.27 ppm"
   ]
  },
  {
   "cell_type": "code",
   "execution_count": null,
   "id": "7eb4a5e6",
   "metadata": {},
   "outputs": [],
   "source": [
    "concentracao = 11.27\n",
    "df_describe_aux = df_describe.loc[[concentracao]]['intensity'].copy()\n",
    "df_describe_aux"
   ]
  },
  {
   "cell_type": "code",
   "execution_count": null,
   "id": "0fce20f4",
   "metadata": {},
   "outputs": [],
   "source": [
    "fig, (ax1, ax2) = plt.subplots(1, 2, figsize=(12,4))\n",
    "ax1.bar(df_describe_aux.index.get_level_values('ScanHeader'), df_describe_aux['mean'],)\n",
    "ax1.set_xlabel('ScanHeader')\n",
    "ax1.set_ylabel('Intensity mean')\n",
    "ax2.bar(df_describe_aux.index.get_level_values('ScanHeader'), df_describe_aux['std'],)    \n",
    "ax2.set_xlabel('ScanHeader')\n",
    "ax2.set_ylabel('Intensity std')\n",
    "plt.suptitle(f\"{concentracao} ppm\")\n",
    "plt.show()"
   ]
  },
  {
   "cell_type": "code",
   "execution_count": null,
   "id": "baea2a01",
   "metadata": {},
   "outputs": [],
   "source": [
    "df_aux = df_data[df_data['compound_concentration'] == concentracao].copy()\n",
    "\n",
    "df_aux = df_aux[df_aux['ScanHeader'].isin(amostra)]\n",
    "df_aux.reset_index(inplace=True, drop=True)\n",
    "df_aux['ScanHeader'] = df_aux['ScanHeader'].astype(str)\n",
    "df_aux.head(2)"
   ]
  },
  {
   "cell_type": "code",
   "execution_count": null,
   "id": "9cedd799",
   "metadata": {},
   "outputs": [],
   "source": [
    "fig = px.line(df_aux, x ='Packet', y='intensity', color='ScanHeader', title=f\"{concentracao} ppm\" )\n",
    "\n",
    "fig.update_layout(template='simple_white', margin={\"r\":0,\"l\":0,\"b\":0, 't':30},\n",
    "                  title={'y':0.98,'x':0.5,'xanchor': 'center','yanchor': 'top'})                  \n",
    "                 \n",
    "fig.add_hline(y=0, line_width=1, line_color=\"black\")\n",
    "fig.add_vline(x=0, line_width=1, line_color=\"black\")\n",
    "fig.update_xaxes(showline=True, linewidth=1, linecolor='black', mirror=True) # adicionando linhas no eixo x do grafico\n",
    "fig.update_yaxes(showline=True, linewidth=1, linecolor='black', mirror=True) # adicionando linhas no eixo y do gráfico\n",
    "fig.show()"
   ]
  },
  {
   "cell_type": "markdown",
   "id": "c15b7c32",
   "metadata": {},
   "source": [
    "<a id='intensity-14-86'></a>\n",
    "#### 14.86 ppm"
   ]
  },
  {
   "cell_type": "code",
   "execution_count": null,
   "id": "88f59ba0",
   "metadata": {},
   "outputs": [],
   "source": [
    "concentracao = 14.86\n",
    "df_describe_aux = df_describe.loc[[concentracao]]['intensity'].copy()\n",
    "df_describe_aux"
   ]
  },
  {
   "cell_type": "code",
   "execution_count": null,
   "id": "c9101476",
   "metadata": {},
   "outputs": [],
   "source": [
    "fig, (ax1, ax2) = plt.subplots(1, 2, figsize=(12,4))\n",
    "ax1.bar(df_describe_aux.index.get_level_values('ScanHeader'), df_describe_aux['mean'],)\n",
    "ax1.set_xlabel('ScanHeader')\n",
    "ax1.set_ylabel('Intensity mean')\n",
    "ax2.bar(df_describe_aux.index.get_level_values('ScanHeader'), df_describe_aux['std'],)    \n",
    "ax2.set_xlabel('ScanHeader')\n",
    "ax2.set_ylabel('Intensity std')\n",
    "plt.suptitle(f\"{concentracao} ppm\")\n",
    "plt.show()"
   ]
  },
  {
   "cell_type": "code",
   "execution_count": null,
   "id": "c1822b57",
   "metadata": {},
   "outputs": [],
   "source": [
    "df_aux = df_data[df_data['compound_concentration'] == concentracao].copy()\n",
    "\n",
    "df_aux = df_aux[df_aux['ScanHeader'].isin(amostra)]\n",
    "df_aux.reset_index(inplace=True, drop=True)\n",
    "df_aux['ScanHeader'] = df_aux['ScanHeader'].astype(str)\n",
    "df_aux.head(2)"
   ]
  },
  {
   "cell_type": "code",
   "execution_count": null,
   "id": "def0bb5f",
   "metadata": {},
   "outputs": [],
   "source": [
    "fig = px.line(df_aux, x ='Packet', y='intensity',  color='ScanHeader', title=f\"{concentracao} ppm\" )\n",
    "\n",
    "fig.update_layout(template='simple_white', margin={\"r\":0,\"l\":0,\"b\":0, 't':30},\n",
    "                  title={'y':0.98,'x':0.5,'xanchor': 'center','yanchor': 'top'})                  \n",
    "                 \n",
    "fig.add_hline(y=0, line_width=1, line_color=\"black\")\n",
    "fig.add_vline(x=0, line_width=1, line_color=\"black\")\n",
    "fig.update_xaxes(showline=True, linewidth=1, linecolor='black', mirror=True) # adicionando linhas no eixo x do grafico\n",
    "fig.update_yaxes(showline=True, linewidth=1, linecolor='black', mirror=True) # adicionando linhas no eixo y do gráfico\n",
    "fig.show()"
   ]
  },
  {
   "cell_type": "markdown",
   "id": "3d6cf33b",
   "metadata": {},
   "source": [
    "<a id='intensity-18-45'></a>\n",
    "#### 18.45 ppm"
   ]
  },
  {
   "cell_type": "code",
   "execution_count": null,
   "id": "5f03e8bc",
   "metadata": {},
   "outputs": [],
   "source": [
    "concentracao = 18.45\n",
    "df_describe_aux = df_describe.loc[[concentracao]]['intensity'].copy()\n",
    "df_describe_aux"
   ]
  },
  {
   "cell_type": "code",
   "execution_count": null,
   "id": "b940d08c",
   "metadata": {},
   "outputs": [],
   "source": [
    "fig, (ax1, ax2) = plt.subplots(1, 2, figsize=(12,4))\n",
    "ax1.bar(df_describe_aux.index.get_level_values('ScanHeader'), df_describe_aux['mean'],)\n",
    "ax1.set_xlabel('ScanHeader')\n",
    "ax1.set_ylabel('Intensity mean')\n",
    "ax2.bar(df_describe_aux.index.get_level_values('ScanHeader'), df_describe_aux['std'],)    \n",
    "ax2.set_xlabel('ScanHeader')\n",
    "ax2.set_ylabel('Intensity std')\n",
    "plt.suptitle(f\"{concentracao} ppm\")\n",
    "plt.show()"
   ]
  },
  {
   "cell_type": "code",
   "execution_count": null,
   "id": "3f811d99",
   "metadata": {},
   "outputs": [],
   "source": [
    "df_aux = df_data[df_data['compound_concentration'] == concentracao].copy()\n",
    "\n",
    "df_aux = df_aux[df_aux['ScanHeader'].isin(amostra)]\n",
    "df_aux.reset_index(inplace=True, drop=True)\n",
    "df_aux['ScanHeader'] = df_aux['ScanHeader'].astype(str)\n",
    "df_aux.head(2)"
   ]
  },
  {
   "cell_type": "code",
   "execution_count": null,
   "id": "a7e17be8",
   "metadata": {},
   "outputs": [],
   "source": [
    "fig = px.line(df_aux, x ='Packet', y='intensity', color='ScanHeader', title=f\"{concentracao} ppm\" )\n",
    "\n",
    "fig.update_layout(template='simple_white', margin={\"r\":0,\"l\":0,\"b\":0, 't':30},\n",
    "                  title={'y':0.98,'x':0.5,'xanchor': 'center','yanchor': 'top'})                  \n",
    "                 \n",
    "fig.add_hline(y=0, line_width=1, line_color=\"black\")\n",
    "fig.add_vline(x=0, line_width=1, line_color=\"black\")\n",
    "fig.update_xaxes(showline=True, linewidth=1, linecolor='black', mirror=True) # adicionando linhas no eixo x do grafico\n",
    "fig.update_yaxes(showline=True, linewidth=1, linecolor='black', mirror=True) # adicionando linhas no eixo y do gráfico\n",
    "fig.show()"
   ]
  },
  {
   "cell_type": "markdown",
   "id": "6d4af5db",
   "metadata": {},
   "source": [
    "<a id='intensity-22-05'></a>\n",
    "#### 22.05 ppm"
   ]
  },
  {
   "cell_type": "code",
   "execution_count": null,
   "id": "2df15973",
   "metadata": {},
   "outputs": [],
   "source": [
    "concentracao = 22.05\n",
    "df_describe_aux = df_describe.loc[[concentracao]]['intensity'].copy()\n",
    "df_describe_aux"
   ]
  },
  {
   "cell_type": "code",
   "execution_count": null,
   "id": "d3c6b72e",
   "metadata": {},
   "outputs": [],
   "source": [
    "fig, (ax1, ax2) = plt.subplots(1, 2, figsize=(12,4))\n",
    "ax1.bar(df_describe_aux.index.get_level_values('ScanHeader'), df_describe_aux['mean'],)\n",
    "ax1.set_xlabel('ScanHeader')\n",
    "ax1.set_ylabel('Intensity mean')\n",
    "ax2.bar(df_describe_aux.index.get_level_values('ScanHeader'), df_describe_aux['std'],)    \n",
    "ax2.set_xlabel('ScanHeader')\n",
    "ax2.set_ylabel('Intensity std')\n",
    "plt.suptitle(f\"{concentracao} ppm\")\n",
    "plt.show()"
   ]
  },
  {
   "cell_type": "code",
   "execution_count": null,
   "id": "bdf07445",
   "metadata": {},
   "outputs": [],
   "source": [
    "df_aux = df_data[df_data['compound_concentration'] == concentracao].copy()\n",
    "\n",
    "df_aux = df_aux[df_aux['ScanHeader'].isin(amostra)]\n",
    "df_aux.reset_index(inplace=True, drop=True)\n",
    "df_aux['ScanHeader'] = df_aux['ScanHeader'].astype(str)\n",
    "df_aux.head(2)"
   ]
  },
  {
   "cell_type": "code",
   "execution_count": null,
   "id": "c5be2b59",
   "metadata": {},
   "outputs": [],
   "source": [
    "fig = px.line(df_aux, x ='Packet', y='intensity', color='ScanHeader', title=f\"{concentracao} ppm\" )\n",
    "\n",
    "fig.update_layout(template='simple_white', margin={\"r\":0,\"l\":0,\"b\":0, 't':30},\n",
    "                  title={'y':0.98,'x':0.5,'xanchor': 'center','yanchor': 'top'})                  \n",
    "                 \n",
    "fig.add_hline(y=0, line_width=1, line_color=\"black\")\n",
    "fig.add_vline(x=0, line_width=1, line_color=\"black\")\n",
    "fig.update_xaxes(showline=True, linewidth=1, linecolor='black', mirror=True) # adicionando linhas no eixo x do grafico\n",
    "fig.update_yaxes(showline=True, linewidth=1, linecolor='black', mirror=True) # adicionando linhas no eixo y do gráfico\n",
    "fig.show()"
   ]
  },
  {
   "cell_type": "markdown",
   "id": "82144f08",
   "metadata": {},
   "source": [
    "<a id='intensity-25-63'></a>\n",
    "#### 25.63 ppm"
   ]
  },
  {
   "cell_type": "code",
   "execution_count": null,
   "id": "564947c9",
   "metadata": {},
   "outputs": [],
   "source": [
    "concentracao = 25.63\n",
    "df_describe_aux = df_describe.loc[[concentracao]]['intensity'].copy()\n",
    "df_describe_aux"
   ]
  },
  {
   "cell_type": "code",
   "execution_count": null,
   "id": "158c4536",
   "metadata": {},
   "outputs": [],
   "source": [
    "fig, (ax1, ax2) = plt.subplots(1, 2, figsize=(12,4))\n",
    "ax1.bar(df_describe_aux.index.get_level_values('ScanHeader'), df_describe_aux['mean'],)\n",
    "ax1.set_xlabel('ScanHeader')\n",
    "ax1.set_ylabel('Intensity mean')\n",
    "ax2.bar(df_describe_aux.index.get_level_values('ScanHeader'), df_describe_aux['std'],)    \n",
    "ax2.set_xlabel('ScanHeader')\n",
    "ax2.set_ylabel('Intensity std')\n",
    "plt.suptitle(f\"{concentracao} ppm\")\n",
    "plt.show()"
   ]
  },
  {
   "cell_type": "markdown",
   "id": "d94c6ef8",
   "metadata": {},
   "source": [
    "A amostra com `25.63` ppm novamente traz um resultado bastante diferente dos demais. Para descobrir quais são os extremos, basta utilizar filtros da seguinte forma:"
   ]
  },
  {
   "cell_type": "code",
   "execution_count": null,
   "id": "17255795",
   "metadata": {},
   "outputs": [],
   "source": [
    "df_describe_aux[df_describe_aux['mean'] == df_describe_aux['mean'].min()]"
   ]
  },
  {
   "cell_type": "code",
   "execution_count": null,
   "id": "0c3eb0cb",
   "metadata": {},
   "outputs": [],
   "source": [
    "df_describe_aux[df_describe_aux['mean'] == df_describe_aux['mean'].max()]"
   ]
  },
  {
   "cell_type": "markdown",
   "id": "3b708bad",
   "metadata": {},
   "source": [
    "Além destas duas amostras, vou adicionar outras duas amostras (obtidas aleatoriamente) para fins de comparação"
   ]
  },
  {
   "cell_type": "code",
   "execution_count": null,
   "id": "28cc26dc",
   "metadata": {},
   "outputs": [],
   "source": [
    "ams = list(range(26)) + list(range(27,34)) + list(range(35,50))\n",
    "random.seed(42)\n",
    "ams = random.sample(ams, k=2)\n",
    "ams.append(26)\n",
    "ams.append(34)\n",
    "ams"
   ]
  },
  {
   "cell_type": "markdown",
   "id": "dbc8248a",
   "metadata": {},
   "source": [
    "Mas plotar estas duas amostras:"
   ]
  },
  {
   "cell_type": "code",
   "execution_count": null,
   "id": "54aff2db",
   "metadata": {},
   "outputs": [],
   "source": [
    "df_aux = df_data[df_data['compound_concentration'] == concentracao].copy()\n",
    "\n",
    "df_aux = df_aux[df_aux['ScanHeader'].isin(ams)]\n",
    "df_aux.reset_index(inplace=True, drop=True)\n",
    "df_aux['ScanHeader'] = df_aux['ScanHeader'].astype(str)\n",
    "df_aux.head(2)"
   ]
  },
  {
   "cell_type": "code",
   "execution_count": null,
   "id": "1f651c2e",
   "metadata": {},
   "outputs": [],
   "source": [
    "fig = px.line(df_aux, x ='Packet', y='intensity', color='ScanHeader', title=f\"{concentracao} ppm\" )\n",
    "\n",
    "fig.update_layout(template='simple_white', margin={\"r\":0,\"l\":0,\"b\":0, 't':30},\n",
    "                  title={'y':0.98,'x':0.5,'xanchor': 'center','yanchor': 'top'})                  \n",
    "                 \n",
    "fig.add_hline(y=0, line_width=1, line_color=\"black\")\n",
    "fig.add_vline(x=0, line_width=1, line_color=\"black\")\n",
    "fig.update_xaxes(showline=True, linewidth=1, linecolor='black', mirror=True) # adicionando linhas no eixo x do grafico\n",
    "fig.update_yaxes(showline=True, linewidth=1, linecolor='black', mirror=True) # adicionando linhas no eixo y do gráfico\n",
    "fig.show()"
   ]
  },
  {
   "cell_type": "markdown",
   "id": "b5a9e281",
   "metadata": {},
   "source": [
    "Por fins de padronização:"
   ]
  },
  {
   "cell_type": "code",
   "execution_count": null,
   "id": "e05c02fd",
   "metadata": {},
   "outputs": [],
   "source": [
    "df_aux = df_data[df_data['compound_concentration'] == concentracao].copy()\n",
    "\n",
    "df_aux = df_aux[df_aux['ScanHeader'].isin(amostra)]\n",
    "df_aux.reset_index(inplace=True, drop=True)\n",
    "df_aux['ScanHeader'] = df_aux['ScanHeader'].astype(str)\n",
    "df_aux.head(2)"
   ]
  },
  {
   "cell_type": "code",
   "execution_count": null,
   "id": "5e5606a3",
   "metadata": {},
   "outputs": [],
   "source": [
    "fig = px.line(df_aux, x ='Packet', y='intensity', color='ScanHeader', title=f\"{concentracao} ppm\" )\n",
    "\n",
    "fig.update_layout(template='simple_white', margin={\"r\":0,\"l\":0,\"b\":0, 't':30},\n",
    "                  title={'y':0.98,'x':0.5,'xanchor': 'center','yanchor': 'top'})                  \n",
    "                 \n",
    "fig.add_hline(y=0, line_width=1, line_color=\"black\")\n",
    "fig.add_vline(x=0, line_width=1, line_color=\"black\")\n",
    "fig.update_xaxes(showline=True, linewidth=1, linecolor='black', mirror=True) # adicionando linhas no eixo x do grafico\n",
    "fig.update_yaxes(showline=True, linewidth=1, linecolor='black', mirror=True) # adicionando linhas no eixo y do gráfico\n",
    "fig.show()"
   ]
  },
  {
   "cell_type": "markdown",
   "id": "66233e69",
   "metadata": {},
   "source": [
    "<a id='intensity-29-23'></a>\n",
    "#### 29.23 ppm"
   ]
  },
  {
   "cell_type": "code",
   "execution_count": null,
   "id": "511633af",
   "metadata": {},
   "outputs": [],
   "source": [
    "concentracao = 29.23\n",
    "df_describe_aux = df_describe.loc[[concentracao]]['intensity'].copy()\n",
    "df_describe_aux"
   ]
  },
  {
   "cell_type": "code",
   "execution_count": null,
   "id": "1159d47b",
   "metadata": {},
   "outputs": [],
   "source": [
    "fig, (ax1, ax2) = plt.subplots(1, 2, figsize=(12,4))\n",
    "ax1.bar(df_describe_aux.index.get_level_values('ScanHeader'), df_describe_aux['mean'],)\n",
    "ax1.set_xlabel('ScanHeader')\n",
    "ax1.set_ylabel('Intensity mean')\n",
    "ax2.bar(df_describe_aux.index.get_level_values('ScanHeader'), df_describe_aux['std'],)    \n",
    "ax2.set_xlabel('ScanHeader')\n",
    "ax2.set_ylabel('Intensity std')\n",
    "plt.suptitle(f\"{concentracao} ppm\")\n",
    "plt.show()"
   ]
  },
  {
   "cell_type": "code",
   "execution_count": null,
   "id": "d5733c4d",
   "metadata": {},
   "outputs": [],
   "source": [
    "df_aux = df_data[df_data['compound_concentration'] == concentracao].copy()\n",
    "\n",
    "df_aux = df_aux[df_aux['ScanHeader'].isin(amostra)]\n",
    "df_aux.reset_index(inplace=True, drop=True)\n",
    "df_aux['ScanHeader'] = df_aux['ScanHeader'].astype(str)\n",
    "df_aux.head(2)"
   ]
  },
  {
   "cell_type": "code",
   "execution_count": null,
   "id": "6629f97f",
   "metadata": {},
   "outputs": [],
   "source": [
    "fig = px.line(df_aux, x ='Packet', y='intensity', color='ScanHeader', title=f\"{concentracao} ppm\" )\n",
    "\n",
    "fig.update_layout(template='simple_white', margin={\"r\":0,\"l\":0,\"b\":0, 't':30},\n",
    "                  title={'y':0.98,'x':0.5,'xanchor': 'center','yanchor': 'top'})                  \n",
    "                 \n",
    "fig.add_hline(y=0, line_width=1, line_color=\"black\")\n",
    "fig.add_vline(x=0, line_width=1, line_color=\"black\")\n",
    "fig.update_xaxes(showline=True, linewidth=1, linecolor='black', mirror=True) # adicionando linhas no eixo x do grafico\n",
    "fig.update_yaxes(showline=True, linewidth=1, linecolor='black', mirror=True) # adicionando linhas no eixo y do gráfico\n",
    "fig.show()"
   ]
  },
  {
   "cell_type": "markdown",
   "id": "50c60e9a",
   "metadata": {},
   "source": [
    "<a id='intensity-32-82'></a>\n",
    "#### 32.82 ppm"
   ]
  },
  {
   "cell_type": "code",
   "execution_count": null,
   "id": "79de07c0",
   "metadata": {},
   "outputs": [],
   "source": [
    "concentracao = 32.82\n",
    "df_describe_aux = df_describe.loc[[concentracao]]['intensity'].copy()\n",
    "df_describe_aux"
   ]
  },
  {
   "cell_type": "code",
   "execution_count": null,
   "id": "abaf0abf",
   "metadata": {},
   "outputs": [],
   "source": [
    "fig, (ax1, ax2) = plt.subplots(1, 2, figsize=(12,4))\n",
    "ax1.bar(df_describe_aux.index.get_level_values('ScanHeader'), df_describe_aux['mean'],)\n",
    "ax1.set_xlabel('ScanHeader')\n",
    "ax1.set_ylabel('Intensity mean')\n",
    "ax2.bar(df_describe_aux.index.get_level_values('ScanHeader'), df_describe_aux['std'],)    \n",
    "ax2.set_xlabel('ScanHeader')\n",
    "ax2.set_ylabel('Intensity std')\n",
    "plt.suptitle(f\"{concentracao} ppm\")\n",
    "plt.show()"
   ]
  },
  {
   "cell_type": "code",
   "execution_count": null,
   "id": "d2c42b34",
   "metadata": {},
   "outputs": [],
   "source": [
    "df_aux = df_data[df_data['compound_concentration'] == concentracao].copy()\n",
    "\n",
    "df_aux = df_aux[df_aux['ScanHeader'].isin(amostra)]\n",
    "df_aux.reset_index(inplace=True, drop=True)\n",
    "df_aux['ScanHeader'] = df_aux['ScanHeader'].astype(str)\n",
    "df_aux.head(2)"
   ]
  },
  {
   "cell_type": "code",
   "execution_count": null,
   "id": "18385a81",
   "metadata": {},
   "outputs": [],
   "source": [
    "fig = px.line(df_aux, x ='Packet', y='intensity', color='ScanHeader', title=f\"{concentracao} ppm\" )\n",
    "\n",
    "fig.update_layout(template='simple_white', margin={\"r\":0,\"l\":0,\"b\":0, 't':30},\n",
    "                  title={'y':0.98,'x':0.5,'xanchor': 'center','yanchor': 'top'})                  \n",
    "                 \n",
    "fig.add_hline(y=0, line_width=1, line_color=\"black\")\n",
    "fig.add_vline(x=0, line_width=1, line_color=\"black\")\n",
    "fig.update_xaxes(showline=True, linewidth=1, linecolor='black', mirror=True) # adicionando linhas no eixo x do grafico\n",
    "fig.update_yaxes(showline=True, linewidth=1, linecolor='black', mirror=True) # adicionando linhas no eixo y do gráfico\n",
    "fig.show()"
   ]
  },
  {
   "cell_type": "markdown",
   "id": "67442935",
   "metadata": {},
   "source": [
    "<a id='intensity-36-41'></a>\n",
    "#### 36.41 ppm"
   ]
  },
  {
   "cell_type": "code",
   "execution_count": null,
   "id": "76bef7d7",
   "metadata": {},
   "outputs": [],
   "source": [
    "concentracao = 36.41\n",
    "df_describe_aux = df_describe.loc[[concentracao]]['intensity'].copy()\n",
    "df_describe_aux"
   ]
  },
  {
   "cell_type": "code",
   "execution_count": null,
   "id": "135e42c8",
   "metadata": {},
   "outputs": [],
   "source": [
    "fig, (ax1, ax2) = plt.subplots(1, 2, figsize=(12,4))\n",
    "ax1.bar(df_describe_aux.index.get_level_values('ScanHeader'), df_describe_aux['mean'],)\n",
    "ax1.set_xlabel('ScanHeader')\n",
    "ax1.set_ylabel('Intensity mean')\n",
    "ax2.bar(df_describe_aux.index.get_level_values('ScanHeader'), df_describe_aux['std'],)    \n",
    "ax2.set_xlabel('ScanHeader')\n",
    "ax2.set_ylabel('Intensity std')\n",
    "plt.suptitle(f\"{concentracao} ppm\")\n",
    "plt.show()"
   ]
  },
  {
   "cell_type": "code",
   "execution_count": null,
   "id": "f75a5efc",
   "metadata": {},
   "outputs": [],
   "source": [
    "df_aux = df_data[df_data['compound_concentration'] == concentracao].copy()\n",
    "\n",
    "df_aux = df_aux[df_aux['ScanHeader'].isin(amostra)]\n",
    "df_aux.reset_index(inplace=True, drop=True)\n",
    "df_aux['ScanHeader'] = df_aux['ScanHeader'].astype(str)\n",
    "df_aux.head(2)"
   ]
  },
  {
   "cell_type": "code",
   "execution_count": null,
   "id": "93cae9bf",
   "metadata": {},
   "outputs": [],
   "source": [
    "fig = px.line(df_aux, x ='Packet', y='intensity', color='ScanHeader', title=f\"{concentracao} ppm\" )\n",
    "\n",
    "fig.update_layout(template='simple_white', margin={\"r\":0,\"l\":0,\"b\":0, 't':30},\n",
    "                  title={'y':0.98,'x':0.5,'xanchor': 'center','yanchor': 'top'})                  \n",
    "                 \n",
    "fig.add_hline(y=0, line_width=1, line_color=\"black\")\n",
    "fig.add_vline(x=0, line_width=1, line_color=\"black\")\n",
    "fig.update_xaxes(showline=True, linewidth=1, linecolor='black', mirror=True) # adicionando linhas no eixo x do grafico\n",
    "fig.update_yaxes(showline=True, linewidth=1, linecolor='black', mirror=True) # adicionando linhas no eixo y do gráfico\n",
    "fig.show()"
   ]
  },
  {
   "cell_type": "markdown",
   "id": "a6a8beb4",
   "metadata": {},
   "source": [
    "<a id='intensity-40-00'></a>\n",
    "#### 40.00 ppm"
   ]
  },
  {
   "cell_type": "code",
   "execution_count": null,
   "id": "ae9a6322",
   "metadata": {},
   "outputs": [],
   "source": [
    "concentracao = 40.00\n",
    "df_describe_aux = df_describe.loc[[concentracao]]['intensity'].copy()\n",
    "df_describe_aux"
   ]
  },
  {
   "cell_type": "code",
   "execution_count": null,
   "id": "34a909f4",
   "metadata": {},
   "outputs": [],
   "source": [
    "fig, (ax1, ax2) = plt.subplots(1, 2, figsize=(12,4))\n",
    "ax1.bar(df_describe_aux.index.get_level_values('ScanHeader'), df_describe_aux['mean'],)\n",
    "ax1.set_xlabel('ScanHeader')\n",
    "ax1.set_ylabel('Intensity mean')\n",
    "ax2.bar(df_describe_aux.index.get_level_values('ScanHeader'), df_describe_aux['std'],)    \n",
    "ax2.set_xlabel('ScanHeader')\n",
    "ax2.set_ylabel('Intensity std')\n",
    "plt.suptitle(f\"{concentracao} ppm\")\n",
    "plt.show()"
   ]
  },
  {
   "cell_type": "code",
   "execution_count": null,
   "id": "91a38cfc",
   "metadata": {},
   "outputs": [],
   "source": [
    "df_aux = df_data[df_data['compound_concentration'] == concentracao].copy()\n",
    "\n",
    "df_aux = df_aux[df_aux['ScanHeader'].isin(amostra)]\n",
    "df_aux.reset_index(inplace=True, drop=True)\n",
    "df_aux['ScanHeader'] = df_aux['ScanHeader'].astype(str)\n",
    "df_aux.head(2)"
   ]
  },
  {
   "cell_type": "code",
   "execution_count": null,
   "id": "9949e752",
   "metadata": {},
   "outputs": [],
   "source": [
    "fig = px.line(df_aux, x ='Packet', y='intensity', color='ScanHeader', title=f\"{concentracao} ppm\" )\n",
    "\n",
    "fig.update_layout(template='simple_white', margin={\"r\":0,\"l\":0,\"b\":0, 't':30},\n",
    "                  title={'y':0.98,'x':0.5,'xanchor': 'center','yanchor': 'top'})                  \n",
    "                 \n",
    "fig.add_hline(y=0, line_width=1, line_color=\"black\")\n",
    "fig.add_vline(x=0, line_width=1, line_color=\"black\")\n",
    "fig.update_xaxes(showline=True, linewidth=1, linecolor='black', mirror=True) # adicionando linhas no eixo x do grafico\n",
    "fig.update_yaxes(showline=True, linewidth=1, linecolor='black', mirror=True) # adicionando linhas no eixo y do gráfico\n",
    "fig.show()"
   ]
  },
  {
   "cell_type": "markdown",
   "id": "b73eccc1",
   "metadata": {},
   "source": [
    "<a id='intensity-resumo'></a>\n",
    "#### Resumo\n",
    "\n",
    "Neste arquivo esta resumido a análise dos dados referente ao Intensity (que provavelmente é a intensidade do sinal obtido).\n",
    "\n",
    "\n",
    "Em relação a análise utilizando os Scans, os resultados são muito similares aos obtidos com a variávei Packet. A maioria das concentrações apresenta distribuição de médias e desvio padrão semelhante a distribuição Binomial. Contudo, algumas amostras não são bem assim. Novamente, as amosttras de concentrações de `4.1, 25.6, e  36.41` ppm, especialmente a de `25.6` ppm, tem um comportamento bastante irregular. Este comportamento me leva a acreditar que nestas concentrações, a técnica esta conseguindo identificar uma maior quantidade de compostos químicos. \n",
    "\n",
    "Também foram gerados gráficos interativos relacionando o Packet com a respectiva intensidade para 5 ScanHeader distintos e as 11 concentrações. Visualmente, estes gráficos são muito semelhates; mas acredito que um analísta mais experiente conseguiria retirar informações mais interessantes. Por exemplo, para a amostra de 25.6 ppm, temos 2 condições bastante peculiares: no Scan 34 foi obtido a menor intensidade média 65.545287, enquanto que no Scan 26 foi obtido a maior intensidade médida 179459.652654.\n",
    "\n",
    "De forma geral, temos que as leituras tem um comportamento muito similar entre si, onde as principais diferenças provavelmente ocorrem nos picos de baixa intensidade. Provavelmente é nesta região que estamos interessados."
   ]
  },
  {
   "cell_type": "markdown",
   "id": "90a86447",
   "metadata": {},
   "source": [
    "<a id='mass-position'></a>\n",
    "### mass_position"
   ]
  },
  {
   "cell_type": "markdown",
   "id": "63411fbf",
   "metadata": {},
   "source": [
    "<a id='mass-position-0-5'></a>\n",
    "#### 0.5 ppm"
   ]
  },
  {
   "cell_type": "code",
   "execution_count": null,
   "id": "e2f7fffb",
   "metadata": {},
   "outputs": [],
   "source": [
    "concentracao = 0.5\n",
    "df_describe_aux = df_describe.loc[[concentracao]]['mass_position'].copy()\n",
    "df_describe_aux"
   ]
  },
  {
   "cell_type": "markdown",
   "id": "f76ef33d",
   "metadata": {},
   "source": [
    "Visualmente, podemos observar que os valores tem baixa variância. Vamos desenhar um gráfico de disersão com barras de erro"
   ]
  },
  {
   "cell_type": "code",
   "execution_count": null,
   "id": "c0ac0f99",
   "metadata": {},
   "outputs": [],
   "source": [
    "fig, ax1 = plt.subplots(figsize=(12,4))\n",
    "ax1.errorbar(df_describe_aux.index.get_level_values('ScanHeader'), \n",
    "             df_describe_aux['mean'], \n",
    "             yerr=df_describe_aux['std'], \n",
    "            capsize=5, linestyle=\"none\", marker='o', barsabove=True,)\n",
    "ax1.set_xlabel('ScanHeader')\n",
    "ax1.set_ylabel('mass_position')\n",
    "\n",
    "ax1.set_ylim(bottom=0)\n",
    "ax1.set_title(f\"{concentracao} ppm\")\n",
    "plt.show()"
   ]
  },
  {
   "cell_type": "markdown",
   "id": "b7badfd6",
   "metadata": {},
   "source": [
    "Vamos plotar estes dados em relação ao Packet, novamente obtendo uma amostra. Mas, vou obter uma amostra diferente para aumentar o número de dados que estou observando"
   ]
  },
  {
   "cell_type": "code",
   "execution_count": null,
   "id": "f8efb668",
   "metadata": {},
   "outputs": [],
   "source": [
    "amostra = range(50)\n",
    "random.seed(31416)\n",
    "amostra = random.sample(amostra, k=5)\n",
    "amostra"
   ]
  },
  {
   "cell_type": "code",
   "execution_count": null,
   "id": "aa175002",
   "metadata": {},
   "outputs": [],
   "source": [
    "df_aux = df_data[df_data['compound_concentration'] == concentracao].copy()\n",
    "\n",
    "df_aux = df_aux[df_aux['ScanHeader'].isin(amostra)]\n",
    "df_aux.reset_index(inplace=True, drop=True)\n",
    "df_aux['ScanHeader'] = df_aux['ScanHeader'].astype(str)\n",
    "df_aux.head(2)"
   ]
  },
  {
   "cell_type": "code",
   "execution_count": null,
   "id": "fc289a1d",
   "metadata": {},
   "outputs": [],
   "source": [
    "fig = px.line(df_aux, x ='Packet', y='mass_position', color='ScanHeader', title=f\"{concentracao} ppm\" )\n",
    "\n",
    "fig.update_layout(template='simple_white', margin={\"r\":0,\"l\":0,\"b\":0, 't':30},\n",
    "                  title={'y':0.98,'x':0.5,'xanchor': 'center','yanchor': 'top'})                  \n",
    "                 \n",
    "fig.add_hline(y=0, line_width=1, line_color=\"black\")\n",
    "fig.add_vline(x=0, line_width=1, line_color=\"black\")\n",
    "fig.update_xaxes(showline=True, linewidth=1, linecolor='black', mirror=True) # adicionando linhas no eixo x do grafico\n",
    "fig.update_yaxes(showline=True, linewidth=1, linecolor='black', mirror=True) # adicionando linhas no eixo y do gráfico\n",
    "fig.show()"
   ]
  },
  {
   "cell_type": "markdown",
   "id": "5f5ad75a",
   "metadata": {},
   "source": [
    "Achei, suspeitamente interessante"
   ]
  },
  {
   "cell_type": "markdown",
   "id": "c9ad1b73",
   "metadata": {},
   "source": [
    "<a id='mass-position-4-10'></a>\n",
    "#### 4.10 ppm"
   ]
  },
  {
   "cell_type": "code",
   "execution_count": null,
   "id": "cf116eb9",
   "metadata": {},
   "outputs": [],
   "source": [
    "concentracao = 4.10\n",
    "df_describe_aux = df_describe.loc[[concentracao]]['mass_position'].copy()\n",
    "df_describe_aux"
   ]
  },
  {
   "cell_type": "code",
   "execution_count": null,
   "id": "e3be456d",
   "metadata": {},
   "outputs": [],
   "source": [
    "fig, ax1 = plt.subplots(figsize=(12,4))\n",
    "ax1.errorbar(df_describe_aux.index.get_level_values('ScanHeader'), \n",
    "             df_describe_aux['mean'], \n",
    "             yerr=df_describe_aux['std'], \n",
    "            capsize=5, linestyle=\"none\", marker='o', barsabove=True,)\n",
    "ax1.set_xlabel('ScanHeader')\n",
    "ax1.set_ylabel('mass_position')\n",
    "\n",
    "ax1.set_ylim(bottom=0)\n",
    "ax1.set_title(f\"{concentracao} ppm\")\n",
    "plt.show()"
   ]
  },
  {
   "cell_type": "code",
   "execution_count": null,
   "id": "7d833840",
   "metadata": {},
   "outputs": [],
   "source": [
    "df_aux = df_data[df_data['compound_concentration'] == concentracao].copy()\n",
    "\n",
    "df_aux = df_aux[df_aux['ScanHeader'].isin(amostra)]\n",
    "df_aux.reset_index(inplace=True, drop=True)\n",
    "df_aux['ScanHeader'] = df_aux['ScanHeader'].astype(str)\n",
    "df_aux.head(2)"
   ]
  },
  {
   "cell_type": "code",
   "execution_count": null,
   "id": "310d0893",
   "metadata": {},
   "outputs": [],
   "source": [
    "fig = px.line(df_aux, x ='Packet', y='mass_position', color='ScanHeader', title=f\"{concentracao} ppm\" )\n",
    "\n",
    "fig.update_layout(template='simple_white', margin={\"r\":0,\"l\":0,\"b\":0, 't':30},\n",
    "                  title={'y':0.98,'x':0.5,'xanchor': 'center','yanchor': 'top'})                  \n",
    "                 \n",
    "fig.add_hline(y=0, line_width=1, line_color=\"black\")\n",
    "fig.add_vline(x=0, line_width=1, line_color=\"black\")\n",
    "fig.update_xaxes(showline=True, linewidth=1, linecolor='black', mirror=True) # adicionando linhas no eixo x do grafico\n",
    "fig.update_yaxes(showline=True, linewidth=1, linecolor='black', mirror=True) # adicionando linhas no eixo y do gráfico\n",
    "fig.show()"
   ]
  },
  {
   "cell_type": "markdown",
   "id": "294a690f",
   "metadata": {},
   "source": [
    "<a id='mass-position-7-68'></a>\n",
    "#### 7.68 ppm"
   ]
  },
  {
   "cell_type": "code",
   "execution_count": null,
   "id": "dd26e4e8",
   "metadata": {},
   "outputs": [],
   "source": [
    "concentracao = 7.68\n",
    "df_describe_aux = df_describe.loc[[concentracao]]['mass_position'].copy()\n",
    "df_describe_aux"
   ]
  },
  {
   "cell_type": "code",
   "execution_count": null,
   "id": "e8da1601",
   "metadata": {},
   "outputs": [],
   "source": [
    "fig, ax1 = plt.subplots(figsize=(12,4))\n",
    "ax1.errorbar(df_describe_aux.index.get_level_values('ScanHeader'), \n",
    "             df_describe_aux['mean'], \n",
    "             yerr=df_describe_aux['std'], \n",
    "            capsize=5, linestyle=\"none\", marker='o', barsabove=True,)\n",
    "ax1.set_xlabel('ScanHeader')\n",
    "ax1.set_ylabel('mass_position')\n",
    "\n",
    "ax1.set_ylim(bottom=0)\n",
    "ax1.set_title(f\"{concentracao} ppm\")\n",
    "plt.show()"
   ]
  },
  {
   "cell_type": "code",
   "execution_count": null,
   "id": "6f5f3ee9",
   "metadata": {},
   "outputs": [],
   "source": [
    "df_aux = df_data[df_data['compound_concentration'] == concentracao].copy()\n",
    "\n",
    "df_aux = df_aux[df_aux['ScanHeader'].isin(amostra)]\n",
    "df_aux.reset_index(inplace=True, drop=True)\n",
    "df_aux['ScanHeader'] = df_aux['ScanHeader'].astype(str)\n",
    "df_aux.head(2)"
   ]
  },
  {
   "cell_type": "code",
   "execution_count": null,
   "id": "d30bd080",
   "metadata": {},
   "outputs": [],
   "source": [
    "fig = px.line(df_aux, x ='Packet', y='mass_position', color='ScanHeader', title=f\"{concentracao} ppm\" )\n",
    "\n",
    "fig.update_layout(template='simple_white', margin={\"r\":0,\"l\":0,\"b\":0, 't':30},\n",
    "                  title={'y':0.98,'x':0.5,'xanchor': 'center','yanchor': 'top'})                  \n",
    "                 \n",
    "fig.add_hline(y=0, line_width=1, line_color=\"black\")\n",
    "fig.add_vline(x=0, line_width=1, line_color=\"black\")\n",
    "fig.update_xaxes(showline=True, linewidth=1, linecolor='black', mirror=True) # adicionando linhas no eixo x do grafico\n",
    "fig.update_yaxes(showline=True, linewidth=1, linecolor='black', mirror=True) # adicionando linhas no eixo y do gráfico\n",
    "fig.show()"
   ]
  },
  {
   "cell_type": "markdown",
   "id": "17e46272",
   "metadata": {},
   "source": [
    "<a id='mass-position-11-27'></a>\n",
    "#### 11.27 ppm"
   ]
  },
  {
   "cell_type": "code",
   "execution_count": null,
   "id": "28c15c9f",
   "metadata": {},
   "outputs": [],
   "source": [
    "concentracao = 11.27\n",
    "df_describe_aux = df_describe.loc[[concentracao]]['mass_position'].copy()\n",
    "df_describe_aux"
   ]
  },
  {
   "cell_type": "code",
   "execution_count": null,
   "id": "8644c6d6",
   "metadata": {},
   "outputs": [],
   "source": [
    "fig, ax1 = plt.subplots(figsize=(12,4))\n",
    "ax1.errorbar(df_describe_aux.index.get_level_values('ScanHeader'), \n",
    "             df_describe_aux['mean'], \n",
    "             yerr=df_describe_aux['std'], \n",
    "            capsize=5, linestyle=\"none\", marker='o', barsabove=True,)\n",
    "ax1.set_xlabel('ScanHeader')\n",
    "ax1.set_ylabel('mass_position')\n",
    "\n",
    "ax1.set_ylim(bottom=0)\n",
    "ax1.set_title(f\"{concentracao} ppm\")\n",
    "plt.show()"
   ]
  },
  {
   "cell_type": "code",
   "execution_count": null,
   "id": "89a0863b",
   "metadata": {},
   "outputs": [],
   "source": [
    "df_aux = df_data[df_data['compound_concentration'] == concentracao].copy()\n",
    "\n",
    "df_aux = df_aux[df_aux['ScanHeader'].isin(amostra)]\n",
    "df_aux.reset_index(inplace=True, drop=True)\n",
    "df_aux['ScanHeader'] = df_aux['ScanHeader'].astype(str)\n",
    "df_aux.head(2)"
   ]
  },
  {
   "cell_type": "code",
   "execution_count": null,
   "id": "abc53065",
   "metadata": {},
   "outputs": [],
   "source": [
    "fig = px.line(df_aux, x ='Packet', y='mass_position', color='ScanHeader', title=f\"{concentracao} ppm\" )\n",
    "\n",
    "fig.update_layout(template='simple_white', margin={\"r\":0,\"l\":0,\"b\":0, 't':30},\n",
    "                  title={'y':0.98,'x':0.5,'xanchor': 'center','yanchor': 'top'})                  \n",
    "                 \n",
    "fig.add_hline(y=0, line_width=1, line_color=\"black\")\n",
    "fig.add_vline(x=0, line_width=1, line_color=\"black\")\n",
    "fig.update_xaxes(showline=True, linewidth=1, linecolor='black', mirror=True) # adicionando linhas no eixo x do grafico\n",
    "fig.update_yaxes(showline=True, linewidth=1, linecolor='black', mirror=True) # adicionando linhas no eixo y do gráfico\n",
    "fig.show()"
   ]
  },
  {
   "cell_type": "markdown",
   "id": "bf3e21a6",
   "metadata": {},
   "source": [
    "<a id='mass-position-14-86'></a>\n",
    "#### 14.86 ppm"
   ]
  },
  {
   "cell_type": "code",
   "execution_count": null,
   "id": "f2d1c6e1",
   "metadata": {},
   "outputs": [],
   "source": [
    "concentracao = 14.86\n",
    "df_describe_aux = df_describe.loc[[concentracao]]['mass_position'].copy()\n",
    "df_describe_aux"
   ]
  },
  {
   "cell_type": "code",
   "execution_count": null,
   "id": "a3d0b7a5",
   "metadata": {},
   "outputs": [],
   "source": [
    "fig, ax1 = plt.subplots(figsize=(12,4))\n",
    "ax1.errorbar(df_describe_aux.index.get_level_values('ScanHeader'), \n",
    "             df_describe_aux['mean'], \n",
    "             yerr=df_describe_aux['std'], \n",
    "            capsize=5, linestyle=\"none\", marker='o', barsabove=True,)\n",
    "ax1.set_xlabel('ScanHeader')\n",
    "ax1.set_ylabel('mass_position')\n",
    "\n",
    "ax1.set_ylim(bottom=0)\n",
    "ax1.set_title(f\"{concentracao} ppm\")\n",
    "plt.show()"
   ]
  },
  {
   "cell_type": "code",
   "execution_count": null,
   "id": "6187059c",
   "metadata": {},
   "outputs": [],
   "source": [
    "df_aux = df_data[df_data['compound_concentration'] == concentracao].copy()\n",
    "\n",
    "df_aux = df_aux[df_aux['ScanHeader'].isin(amostra)]\n",
    "df_aux.reset_index(inplace=True, drop=True)\n",
    "df_aux['ScanHeader'] = df_aux['ScanHeader'].astype(str)\n",
    "df_aux.head(2)"
   ]
  },
  {
   "cell_type": "code",
   "execution_count": null,
   "id": "9827bebc",
   "metadata": {},
   "outputs": [],
   "source": [
    "fig = px.line(df_aux, x ='Packet', y='mass_position', color='ScanHeader', title=f\"{concentracao} ppm\" )\n",
    "\n",
    "fig.update_layout(template='simple_white', margin={\"r\":0,\"l\":0,\"b\":0, 't':30},\n",
    "                  title={'y':0.98,'x':0.5,'xanchor': 'center','yanchor': 'top'})                  \n",
    "                 \n",
    "fig.add_hline(y=0, line_width=1, line_color=\"black\")\n",
    "fig.add_vline(x=0, line_width=1, line_color=\"black\")\n",
    "fig.update_xaxes(showline=True, linewidth=1, linecolor='black', mirror=True) # adicionando linhas no eixo x do grafico\n",
    "fig.update_yaxes(showline=True, linewidth=1, linecolor='black', mirror=True) # adicionando linhas no eixo y do gráfico\n",
    "fig.show()"
   ]
  },
  {
   "cell_type": "markdown",
   "id": "bb466cfd",
   "metadata": {},
   "source": [
    "<a id='mass-position-18-45'></a>\n",
    "#### 18.45 ppm"
   ]
  },
  {
   "cell_type": "code",
   "execution_count": null,
   "id": "977fc70f",
   "metadata": {},
   "outputs": [],
   "source": [
    "concentracao = 18.45\n",
    "df_describe_aux = df_describe.loc[[concentracao]]['mass_position'].copy()\n",
    "df_describe_aux"
   ]
  },
  {
   "cell_type": "code",
   "execution_count": null,
   "id": "ef45d023",
   "metadata": {},
   "outputs": [],
   "source": [
    "fig, ax1 = plt.subplots(figsize=(12,4))\n",
    "ax1.errorbar(df_describe_aux.index.get_level_values('ScanHeader'), \n",
    "             df_describe_aux['mean'], \n",
    "             yerr=df_describe_aux['std'], \n",
    "            capsize=5, linestyle=\"none\", marker='o', barsabove=True,)\n",
    "ax1.set_xlabel('ScanHeader')\n",
    "ax1.set_ylabel('mass_position')\n",
    "\n",
    "ax1.set_ylim(bottom=0)\n",
    "ax1.set_title(f\"{concentracao} ppm\")\n",
    "plt.show()"
   ]
  },
  {
   "cell_type": "code",
   "execution_count": null,
   "id": "762e05a3",
   "metadata": {},
   "outputs": [],
   "source": [
    "df_aux = df_data[df_data['compound_concentration'] == concentracao].copy()\n",
    "\n",
    "df_aux = df_aux[df_aux['ScanHeader'].isin(amostra)]\n",
    "df_aux.reset_index(inplace=True, drop=True)\n",
    "df_aux['ScanHeader'] = df_aux['ScanHeader'].astype(str)\n",
    "df_aux.head(2)"
   ]
  },
  {
   "cell_type": "code",
   "execution_count": null,
   "id": "206c6933",
   "metadata": {},
   "outputs": [],
   "source": [
    "fig = px.line(df_aux, x ='Packet', y='mass_position', color='ScanHeader', title=f\"{concentracao} ppm\" )\n",
    "\n",
    "fig.update_layout(template='simple_white', margin={\"r\":0,\"l\":0,\"b\":0, 't':30},\n",
    "                  title={'y':0.98,'x':0.5,'xanchor': 'center','yanchor': 'top'})                  \n",
    "                 \n",
    "fig.add_hline(y=0, line_width=1, line_color=\"black\")\n",
    "fig.add_vline(x=0, line_width=1, line_color=\"black\")\n",
    "fig.update_xaxes(showline=True, linewidth=1, linecolor='black', mirror=True) # adicionando linhas no eixo x do grafico\n",
    "fig.update_yaxes(showline=True, linewidth=1, linecolor='black', mirror=True) # adicionando linhas no eixo y do gráfico\n",
    "fig.show()"
   ]
  },
  {
   "cell_type": "markdown",
   "id": "2d78b88f",
   "metadata": {},
   "source": [
    "<a id='mass-position-22-05'></a>\n",
    "#### 22.05 ppm"
   ]
  },
  {
   "cell_type": "code",
   "execution_count": null,
   "id": "a64c6bbc",
   "metadata": {},
   "outputs": [],
   "source": [
    "concentracao = 22.05\n",
    "df_describe_aux = df_describe.loc[[concentracao]]['mass_position'].copy()\n",
    "df_describe_aux"
   ]
  },
  {
   "cell_type": "code",
   "execution_count": null,
   "id": "0766182a",
   "metadata": {},
   "outputs": [],
   "source": [
    "fig, ax1 = plt.subplots(figsize=(12,4))\n",
    "ax1.errorbar(df_describe_aux.index.get_level_values('ScanHeader'), \n",
    "             df_describe_aux['mean'], \n",
    "             yerr=df_describe_aux['std'], \n",
    "            capsize=5, linestyle=\"none\", marker='o', barsabove=True,)\n",
    "ax1.set_xlabel('ScanHeader')\n",
    "ax1.set_ylabel('mass_position')\n",
    "\n",
    "ax1.set_ylim(bottom=0)\n",
    "ax1.set_title(f\"{concentracao} ppm\")\n",
    "plt.show()"
   ]
  },
  {
   "cell_type": "code",
   "execution_count": null,
   "id": "ac557c35",
   "metadata": {},
   "outputs": [],
   "source": [
    "df_aux = df_data[df_data['compound_concentration'] == concentracao].copy()\n",
    "\n",
    "df_aux = df_aux[df_aux['ScanHeader'].isin(amostra)]\n",
    "df_aux.reset_index(inplace=True, drop=True)\n",
    "df_aux['ScanHeader'] = df_aux['ScanHeader'].astype(str)\n",
    "df_aux.head(2)"
   ]
  },
  {
   "cell_type": "code",
   "execution_count": null,
   "id": "d4e0ff34",
   "metadata": {},
   "outputs": [],
   "source": [
    "fig = px.line(df_aux, x ='Packet', y='mass_position', color='ScanHeader', title=f\"{concentracao} ppm\" )\n",
    "\n",
    "fig.update_layout(template='simple_white', margin={\"r\":0,\"l\":0,\"b\":0, 't':30},\n",
    "                  title={'y':0.98,'x':0.5,'xanchor': 'center','yanchor': 'top'})                  \n",
    "                 \n",
    "fig.add_hline(y=0, line_width=1, line_color=\"black\")\n",
    "fig.add_vline(x=0, line_width=1, line_color=\"black\")\n",
    "fig.update_xaxes(showline=True, linewidth=1, linecolor='black', mirror=True) # adicionando linhas no eixo x do grafico\n",
    "fig.update_yaxes(showline=True, linewidth=1, linecolor='black', mirror=True) # adicionando linhas no eixo y do gráfico\n",
    "fig.show()"
   ]
  },
  {
   "cell_type": "markdown",
   "id": "600f71a5",
   "metadata": {},
   "source": [
    "<a id='mass-position-25-63'></a>\n",
    "#### 25.63 ppm"
   ]
  },
  {
   "cell_type": "code",
   "execution_count": null,
   "id": "982a6057",
   "metadata": {},
   "outputs": [],
   "source": [
    "concentracao = 25.63\n",
    "df_describe_aux = df_describe.loc[[concentracao]]['mass_position'].copy()\n",
    "df_describe_aux"
   ]
  },
  {
   "cell_type": "code",
   "execution_count": null,
   "id": "e0d9467a",
   "metadata": {},
   "outputs": [],
   "source": [
    "fig, ax1 = plt.subplots(figsize=(12,4))\n",
    "ax1.errorbar(df_describe_aux.index.get_level_values('ScanHeader'), \n",
    "             df_describe_aux['mean'], \n",
    "             yerr=df_describe_aux['std'], \n",
    "            capsize=5, linestyle=\"none\", marker='o', barsabove=True,)\n",
    "ax1.set_xlabel('ScanHeader')\n",
    "ax1.set_ylabel('mass_position')\n",
    "\n",
    "ax1.set_ylim(bottom=0)\n",
    "ax1.set_title(f\"{concentracao} ppm\")\n",
    "plt.show()"
   ]
  },
  {
   "cell_type": "markdown",
   "id": "6cb91ecb",
   "metadata": {},
   "source": [
    "A amostra com `25.63` ppm no scan 34 ai outra vez."
   ]
  },
  {
   "cell_type": "code",
   "execution_count": null,
   "id": "8742bc03",
   "metadata": {},
   "outputs": [],
   "source": [
    "df_aux = df_data[df_data['compound_concentration'] == concentracao].copy()\n",
    "\n",
    "df_aux = df_aux[df_aux['ScanHeader'].isin(amostra)]\n",
    "df_aux.reset_index(inplace=True, drop=True)\n",
    "df_aux['ScanHeader'] = df_aux['ScanHeader'].astype(str)\n",
    "df_aux.head(2)"
   ]
  },
  {
   "cell_type": "code",
   "execution_count": null,
   "id": "4c7d2b4a",
   "metadata": {},
   "outputs": [],
   "source": [
    "fig = px.line(df_aux, x ='Packet', y='mass_position', color='ScanHeader', title=f\"{concentracao} ppm\" )\n",
    "\n",
    "fig.update_layout(template='simple_white', margin={\"r\":0,\"l\":0,\"b\":0, 't':30},\n",
    "                  title={'y':0.98,'x':0.5,'xanchor': 'center','yanchor': 'top'})                  \n",
    "                 \n",
    "fig.add_hline(y=0, line_width=1, line_color=\"black\")\n",
    "fig.add_vline(x=0, line_width=1, line_color=\"black\")\n",
    "fig.update_xaxes(showline=True, linewidth=1, linecolor='black', mirror=True) # adicionando linhas no eixo x do grafico\n",
    "fig.update_yaxes(showline=True, linewidth=1, linecolor='black', mirror=True) # adicionando linhas no eixo y do gráfico\n",
    "fig.show()"
   ]
  },
  {
   "cell_type": "markdown",
   "id": "0f596625",
   "metadata": {},
   "source": [
    "Para este caso específico, vamos observar os pontos atipicos encontrados vistos anteriormente (com duas amostras de referência)"
   ]
  },
  {
   "cell_type": "code",
   "execution_count": null,
   "id": "197d4f5b",
   "metadata": {},
   "outputs": [],
   "source": [
    "df_aux = df_data[df_data['compound_concentration'] == concentracao].copy()\n",
    "\n",
    "df_aux = df_aux[df_aux['ScanHeader'].isin(ams)]\n",
    "df_aux.reset_index(inplace=True, drop=True)\n",
    "df_aux['ScanHeader'] = df_aux['ScanHeader'].astype(str)\n",
    "df_aux.head(2)"
   ]
  },
  {
   "cell_type": "code",
   "execution_count": null,
   "id": "5fcceb60",
   "metadata": {},
   "outputs": [],
   "source": [
    "fig = px.line(df_aux, x ='Packet', y='mass_position', color='ScanHeader', title=f\"{concentracao} ppm\" )\n",
    "\n",
    "fig.update_layout(template='simple_white', margin={\"r\":0,\"l\":0,\"b\":0, 't':30},\n",
    "                  title={'y':0.98,'x':0.5,'xanchor': 'center','yanchor': 'top'})                  \n",
    "                 \n",
    "fig.add_hline(y=0, line_width=1, line_color=\"black\")\n",
    "fig.add_vline(x=0, line_width=1, line_color=\"black\")\n",
    "fig.update_xaxes(showline=True, linewidth=1, linecolor='black', mirror=True) # adicionando linhas no eixo x do grafico\n",
    "fig.update_yaxes(showline=True, linewidth=1, linecolor='black', mirror=True) # adicionando linhas no eixo y do gráfico\n",
    "fig.show()"
   ]
  },
  {
   "cell_type": "markdown",
   "id": "99fdbe8b",
   "metadata": {},
   "source": [
    "<a id='mass-position-29-23'></a>\n",
    "#### 29.23 ppm"
   ]
  },
  {
   "cell_type": "code",
   "execution_count": null,
   "id": "8035120b",
   "metadata": {},
   "outputs": [],
   "source": [
    "concentracao = 29.23\n",
    "df_describe_aux = df_describe.loc[[concentracao]]['mass_position'].copy()\n",
    "df_describe_aux"
   ]
  },
  {
   "cell_type": "code",
   "execution_count": null,
   "id": "a379477d",
   "metadata": {},
   "outputs": [],
   "source": [
    "fig, ax1 = plt.subplots(figsize=(12,4))\n",
    "ax1.errorbar(df_describe_aux.index.get_level_values('ScanHeader'), \n",
    "             df_describe_aux['mean'], \n",
    "             yerr=df_describe_aux['std'], \n",
    "            capsize=5, linestyle=\"none\", marker='o', barsabove=True,)\n",
    "ax1.set_xlabel('ScanHeader')\n",
    "ax1.set_ylabel('mass_position')\n",
    "\n",
    "ax1.set_ylim(bottom=0)\n",
    "ax1.set_title(f\"{concentracao} ppm\")\n",
    "plt.show()"
   ]
  },
  {
   "cell_type": "code",
   "execution_count": null,
   "id": "be6f36b5",
   "metadata": {},
   "outputs": [],
   "source": [
    "df_aux = df_data[df_data['compound_concentration'] == concentracao].copy()\n",
    "\n",
    "df_aux = df_aux[df_aux['ScanHeader'].isin(amostra)]\n",
    "df_aux.reset_index(inplace=True, drop=True)\n",
    "df_aux['ScanHeader'] = df_aux['ScanHeader'].astype(str)\n",
    "df_aux.head(2)"
   ]
  },
  {
   "cell_type": "code",
   "execution_count": null,
   "id": "8d1416ca",
   "metadata": {},
   "outputs": [],
   "source": [
    "fig = px.line(df_aux, x ='Packet', y='mass_position', color='ScanHeader', title=f\"{concentracao} ppm\" )\n",
    "\n",
    "fig.update_layout(template='simple_white', margin={\"r\":0,\"l\":0,\"b\":0, 't':30},\n",
    "                  title={'y':0.98,'x':0.5,'xanchor': 'center','yanchor': 'top'})                  \n",
    "                 \n",
    "fig.add_hline(y=0, line_width=1, line_color=\"black\")\n",
    "fig.add_vline(x=0, line_width=1, line_color=\"black\")\n",
    "fig.update_xaxes(showline=True, linewidth=1, linecolor='black', mirror=True) # adicionando linhas no eixo x do grafico\n",
    "fig.update_yaxes(showline=True, linewidth=1, linecolor='black', mirror=True) # adicionando linhas no eixo y do gráfico\n",
    "fig.show()"
   ]
  },
  {
   "cell_type": "markdown",
   "id": "4e8c3509",
   "metadata": {},
   "source": [
    "<a id='mass-position-32-82'></a>\n",
    "#### 32.82 ppm"
   ]
  },
  {
   "cell_type": "code",
   "execution_count": null,
   "id": "7fc66d64",
   "metadata": {},
   "outputs": [],
   "source": [
    "concentracao = 32.82\n",
    "df_describe_aux = df_describe.loc[[concentracao]]['mass_position'].copy()\n",
    "df_describe_aux"
   ]
  },
  {
   "cell_type": "code",
   "execution_count": null,
   "id": "c8b020ea",
   "metadata": {},
   "outputs": [],
   "source": [
    "fig, ax1 = plt.subplots(figsize=(12,4))\n",
    "ax1.errorbar(df_describe_aux.index.get_level_values('ScanHeader'), \n",
    "             df_describe_aux['mean'], \n",
    "             yerr=df_describe_aux['std'], \n",
    "            capsize=5, linestyle=\"none\", marker='o', barsabove=True,)\n",
    "ax1.set_xlabel('ScanHeader')\n",
    "ax1.set_ylabel('mass_position')\n",
    "\n",
    "ax1.set_ylim(bottom=0)\n",
    "ax1.set_title(f\"{concentracao} ppm\")\n",
    "plt.show()"
   ]
  },
  {
   "cell_type": "code",
   "execution_count": null,
   "id": "7304b6ba",
   "metadata": {},
   "outputs": [],
   "source": [
    "df_aux = df_data[df_data['compound_concentration'] == concentracao].copy()\n",
    "\n",
    "df_aux = df_aux[df_aux['ScanHeader'].isin(amostra)]\n",
    "df_aux.reset_index(inplace=True, drop=True)\n",
    "df_aux['ScanHeader'] = df_aux['ScanHeader'].astype(str)\n",
    "df_aux.head(2)"
   ]
  },
  {
   "cell_type": "code",
   "execution_count": null,
   "id": "58244df1",
   "metadata": {},
   "outputs": [],
   "source": [
    "fig = px.line(df_aux, x ='Packet', y='mass_position', color='ScanHeader', title=f\"{concentracao} ppm\" )\n",
    "\n",
    "fig.update_layout(template='simple_white', margin={\"r\":0,\"l\":0,\"b\":0, 't':30},\n",
    "                  title={'y':0.98,'x':0.5,'xanchor': 'center','yanchor': 'top'})                  \n",
    "                 \n",
    "fig.add_hline(y=0, line_width=1, line_color=\"black\")\n",
    "fig.add_vline(x=0, line_width=1, line_color=\"black\")\n",
    "fig.update_xaxes(showline=True, linewidth=1, linecolor='black', mirror=True) # adicionando linhas no eixo x do grafico\n",
    "fig.update_yaxes(showline=True, linewidth=1, linecolor='black', mirror=True) # adicionando linhas no eixo y do gráfico\n",
    "fig.show()"
   ]
  },
  {
   "cell_type": "markdown",
   "id": "f0f23d53",
   "metadata": {},
   "source": [
    "<a id='mass-position-36-41'></a>\n",
    "#### 36.41 ppm"
   ]
  },
  {
   "cell_type": "code",
   "execution_count": null,
   "id": "b8fbb26f",
   "metadata": {},
   "outputs": [],
   "source": [
    "concentracao = 36.41\n",
    "df_describe_aux = df_describe.loc[[concentracao]]['mass_position'].copy()\n",
    "df_describe_aux"
   ]
  },
  {
   "cell_type": "code",
   "execution_count": null,
   "id": "ffdf13e5",
   "metadata": {},
   "outputs": [],
   "source": [
    "fig, ax1 = plt.subplots(figsize=(12,4))\n",
    "ax1.errorbar(df_describe_aux.index.get_level_values('ScanHeader'), \n",
    "             df_describe_aux['mean'], \n",
    "             yerr=df_describe_aux['std'], \n",
    "            capsize=5, linestyle=\"none\", marker='o', barsabove=True,)\n",
    "ax1.set_xlabel('ScanHeader')\n",
    "ax1.set_ylabel('mass_position')\n",
    "\n",
    "ax1.set_ylim(bottom=0)\n",
    "ax1.set_title(f\"{concentracao} ppm\")\n",
    "plt.show()"
   ]
  },
  {
   "cell_type": "code",
   "execution_count": null,
   "id": "43b061d8",
   "metadata": {},
   "outputs": [],
   "source": [
    "df_aux = df_data[df_data['compound_concentration'] == concentracao].copy()\n",
    "\n",
    "df_aux = df_aux[df_aux['ScanHeader'].isin(amostra)]\n",
    "df_aux.reset_index(inplace=True, drop=True)\n",
    "df_aux['ScanHeader'] = df_aux['ScanHeader'].astype(str)\n",
    "df_aux.head(2)"
   ]
  },
  {
   "cell_type": "code",
   "execution_count": null,
   "id": "77ac2925",
   "metadata": {},
   "outputs": [],
   "source": [
    "fig = px.line(df_aux, x ='Packet', y='mass_position', color='ScanHeader', title=f\"{concentracao} ppm\" )\n",
    "\n",
    "fig.update_layout(template='simple_white', margin={\"r\":0,\"l\":0,\"b\":0, 't':30},\n",
    "                  title={'y':0.98,'x':0.5,'xanchor': 'center','yanchor': 'top'})                  \n",
    "                 \n",
    "fig.add_hline(y=0, line_width=1, line_color=\"black\")\n",
    "fig.add_vline(x=0, line_width=1, line_color=\"black\")\n",
    "fig.update_xaxes(showline=True, linewidth=1, linecolor='black', mirror=True) # adicionando linhas no eixo x do grafico\n",
    "fig.update_yaxes(showline=True, linewidth=1, linecolor='black', mirror=True) # adicionando linhas no eixo y do gráfico\n",
    "fig.show()"
   ]
  },
  {
   "cell_type": "markdown",
   "id": "6b1c27b8",
   "metadata": {},
   "source": [
    "<a id='mass-position-40-00'></a>\n",
    "#### 40.00 ppm"
   ]
  },
  {
   "cell_type": "code",
   "execution_count": null,
   "id": "300beddd",
   "metadata": {},
   "outputs": [],
   "source": [
    "concentracao = 40.00\n",
    "df_describe_aux = df_describe.loc[[concentracao]]['mass_position'].copy()\n",
    "df_describe_aux"
   ]
  },
  {
   "cell_type": "code",
   "execution_count": null,
   "id": "bc7d660c",
   "metadata": {},
   "outputs": [],
   "source": [
    "fig, ax1 = plt.subplots(figsize=(12,4))\n",
    "ax1.errorbar(df_describe_aux.index.get_level_values('ScanHeader'), \n",
    "             df_describe_aux['mean'], \n",
    "             yerr=df_describe_aux['std'], \n",
    "            capsize=5, linestyle=\"none\", marker='o', barsabove=True,)\n",
    "ax1.set_xlabel('ScanHeader')\n",
    "ax1.set_ylabel('mass_position')\n",
    "\n",
    "ax1.set_ylim(bottom=0)\n",
    "ax1.set_title(f\"{concentracao} ppm\")\n",
    "plt.show()"
   ]
  },
  {
   "cell_type": "code",
   "execution_count": null,
   "id": "ac09ce94",
   "metadata": {},
   "outputs": [],
   "source": [
    "df_aux = df_data[df_data['compound_concentration'] == concentracao].copy()\n",
    "\n",
    "df_aux = df_aux[df_aux['ScanHeader'].isin(amostra)]\n",
    "df_aux.reset_index(inplace=True, drop=True)\n",
    "df_aux['ScanHeader'] = df_aux['ScanHeader'].astype(str)\n",
    "df_aux.head(2)"
   ]
  },
  {
   "cell_type": "code",
   "execution_count": null,
   "id": "b1f042f6",
   "metadata": {},
   "outputs": [],
   "source": [
    "fig = px.line(df_aux, x ='Packet', y='mass_position', color='ScanHeader', title=f\"{concentracao} ppm\" )\n",
    "\n",
    "fig.update_layout(template='simple_white', margin={\"r\":0,\"l\":0,\"b\":0, 't':30},\n",
    "                  title={'y':0.98,'x':0.5,'xanchor': 'center','yanchor': 'top'})                  \n",
    "                 \n",
    "fig.add_hline(y=0, line_width=1, line_color=\"black\")\n",
    "fig.add_vline(x=0, line_width=1, line_color=\"black\")\n",
    "fig.update_xaxes(showline=True, linewidth=1, linecolor='black', mirror=True) # adicionando linhas no eixo x do grafico\n",
    "fig.update_yaxes(showline=True, linewidth=1, linecolor='black', mirror=True) # adicionando linhas no eixo y do gráfico\n",
    "fig.show()"
   ]
  },
  {
   "cell_type": "markdown",
   "id": "9df57a7e",
   "metadata": {},
   "source": [
    "<a id='mass-position-resumo'></a>\n",
    "#### Resumo\n",
    "\n",
    "Neste arquivo foi avaliada a medida de `mass_position`. Em geral, observamos através das métricas estatísticas que o `mass_position` tem um comportamento constante. Mas, ao observar a evolução deste valor em relação ao Packet, é possível observar uma mudança de tendência no última quarto dos dados. Esta mudança passa de um aumento linear para um aumento exponencial. Isto foi observado em todos os casos.\n",
    "\n",
    "Foi possível observar que a amostra de `25.63` ppm tem alguma diferença das demais, especialmente no `ScanHeader` número 34, que foi observado sua diferença no dois gráficos gerados."
   ]
  },
  {
   "cell_type": "markdown",
   "id": "6472dd55",
   "metadata": {},
   "source": [
    "<a id='mass-position-intensity'></a>\n",
    "### mass_position versus intensity\n",
    "\n",
    "Provavelmente é este o resultado mais importante de que temos de observar. Vamos comparar os resultados obtidos dentro de cada concentração para 5 `ScanHeader` obtdos aleatóriamente. Depois, vamos comparar todas as concentrações com outros cinco `ScanHeader` (um em cada gráfico). \n",
    "\n",
    "Vamos começar obtendo os valores aleatórios para comparar os resultados dentro das concentrações"
   ]
  },
  {
   "cell_type": "code",
   "execution_count": null,
   "id": "cdd26328",
   "metadata": {},
   "outputs": [],
   "source": [
    "conc_aleatorio = range(50)\n",
    "random.seed(12)\n",
    "conc_aleatorio = random.sample(conc_aleatorio, k=5)\n",
    "conc_aleatorio"
   ]
  },
  {
   "cell_type": "markdown",
   "id": "25673eec",
   "metadata": {},
   "source": [
    "<a id='mass-position-intensity-0-5'></a>\n",
    "#### 0.5 ppm"
   ]
  },
  {
   "cell_type": "code",
   "execution_count": null,
   "id": "5e95abc5",
   "metadata": {},
   "outputs": [],
   "source": [
    "concentracao = 0.5\n",
    "\n",
    "df_aux = df_data[df_data['compound_concentration'] == concentracao].copy()\n",
    "df_aux = df_aux[df_aux['ScanHeader'].isin(conc_aleatorio)]\n",
    "df_aux.reset_index(inplace=True, drop=True)\n",
    "df_aux['ScanHeader'] = df_aux['ScanHeader'].astype(str)\n",
    "df_aux.head(2)"
   ]
  },
  {
   "cell_type": "code",
   "execution_count": null,
   "id": "f51e98a2",
   "metadata": {},
   "outputs": [],
   "source": [
    "fig = px.line(df_aux, x ='mass_position', y='intensity', color='ScanHeader', title=f\"{concentracao} ppm\" )\n",
    "\n",
    "fig.update_layout(template='simple_white', margin={\"r\":0,\"l\":0,\"b\":0, 't':30},\n",
    "                  title={'y':0.98,'x':0.5,'xanchor': 'center','yanchor': 'top'})                  \n",
    "                 \n",
    "fig.add_hline(y=0, line_width=1, line_color=\"black\")\n",
    "fig.update_xaxes(showline=True, linewidth=1, linecolor='black', mirror=True) # adicionando linhas no eixo x do grafico\n",
    "fig.update_yaxes(showline=True, linewidth=1, linecolor='black', mirror=True) # adicionando linhas no eixo y do gráfico\n",
    "fig.show()"
   ]
  },
  {
   "cell_type": "markdown",
   "id": "c89953e8",
   "metadata": {},
   "source": [
    "<a id='mass-position-intensity-4-10'></a>\n",
    "#### 4.10 ppm"
   ]
  },
  {
   "cell_type": "code",
   "execution_count": null,
   "id": "c778b723",
   "metadata": {},
   "outputs": [],
   "source": [
    "concentracao = 4.10\n",
    "\n",
    "df_aux = df_data[df_data['compound_concentration'] == concentracao].copy()\n",
    "df_aux = df_aux[df_aux['ScanHeader'].isin(conc_aleatorio)]\n",
    "df_aux.reset_index(inplace=True, drop=True)\n",
    "df_aux['ScanHeader'] = df_aux['ScanHeader'].astype(str)\n",
    "df_aux.head(2)"
   ]
  },
  {
   "cell_type": "code",
   "execution_count": null,
   "id": "f6189443",
   "metadata": {},
   "outputs": [],
   "source": [
    "fig = px.line(df_aux, x ='mass_position', y='intensity', color='ScanHeader', title=f\"{concentracao} ppm\" )\n",
    "\n",
    "fig.update_layout(template='simple_white', margin={\"r\":0,\"l\":0,\"b\":0, 't':30},\n",
    "                  title={'y':0.98,'x':0.5,'xanchor': 'center','yanchor': 'top'})                  \n",
    "                 \n",
    "fig.add_hline(y=0, line_width=1, line_color=\"black\")\n",
    "fig.update_xaxes(showline=True, linewidth=1, linecolor='black', mirror=True) # adicionando linhas no eixo x do grafico\n",
    "fig.update_yaxes(showline=True, linewidth=1, linecolor='black', mirror=True) # adicionando linhas no eixo y do gráfico\n",
    "fig.show()"
   ]
  },
  {
   "cell_type": "markdown",
   "id": "adeb6ca0",
   "metadata": {},
   "source": [
    "<a id='mass-position-intensity-7-68'></a>\n",
    "#### 7.68 ppm"
   ]
  },
  {
   "cell_type": "code",
   "execution_count": null,
   "id": "b6abd75b",
   "metadata": {},
   "outputs": [],
   "source": [
    "concentracao = 7.68\n",
    "\n",
    "df_aux = df_data[df_data['compound_concentration'] == concentracao].copy()\n",
    "df_aux = df_aux[df_aux['ScanHeader'].isin(conc_aleatorio)]\n",
    "df_aux.reset_index(inplace=True, drop=True)\n",
    "df_aux['ScanHeader'] = df_aux['ScanHeader'].astype(str)\n",
    "df_aux.head(2)"
   ]
  },
  {
   "cell_type": "code",
   "execution_count": null,
   "id": "9bc66903",
   "metadata": {},
   "outputs": [],
   "source": [
    "fig = px.line(df_aux, x ='mass_position', y='intensity', color='ScanHeader', title=f\"{concentracao} ppm\" )\n",
    "\n",
    "fig.update_layout(template='simple_white', margin={\"r\":0,\"l\":0,\"b\":0, 't':30},\n",
    "                  title={'y':0.98,'x':0.5,'xanchor': 'center','yanchor': 'top'})                  \n",
    "                 \n",
    "fig.add_hline(y=0, line_width=1, line_color=\"black\")\n",
    "fig.update_xaxes(showline=True, linewidth=1, linecolor='black', mirror=True) # adicionando linhas no eixo x do grafico\n",
    "fig.update_yaxes(showline=True, linewidth=1, linecolor='black', mirror=True) # adicionando linhas no eixo y do gráfico\n",
    "fig.show()"
   ]
  },
  {
   "cell_type": "markdown",
   "id": "981a7e49",
   "metadata": {},
   "source": [
    "<a id='mass-position-intensity-11-27'></a>\n",
    "#### 11.27 ppm"
   ]
  },
  {
   "cell_type": "code",
   "execution_count": null,
   "id": "d6c53a5f",
   "metadata": {},
   "outputs": [],
   "source": [
    "concentracao = 11.27\n",
    "\n",
    "df_aux = df_data[df_data['compound_concentration'] == concentracao].copy()\n",
    "df_aux = df_aux[df_aux['ScanHeader'].isin(conc_aleatorio)]\n",
    "df_aux.reset_index(inplace=True, drop=True)\n",
    "df_aux['ScanHeader'] = df_aux['ScanHeader'].astype(str)\n",
    "df_aux.head(2)"
   ]
  },
  {
   "cell_type": "code",
   "execution_count": null,
   "id": "7ac201ca",
   "metadata": {},
   "outputs": [],
   "source": [
    "fig = px.line(df_aux, x ='mass_position', y='intensity', color='ScanHeader', title=f\"{concentracao} ppm\" )\n",
    "\n",
    "fig.update_layout(template='simple_white', margin={\"r\":0,\"l\":0,\"b\":0, 't':30},\n",
    "                  title={'y':0.98,'x':0.5,'xanchor': 'center','yanchor': 'top'})                  \n",
    "                 \n",
    "fig.add_hline(y=0, line_width=1, line_color=\"black\")\n",
    "fig.update_xaxes(showline=True, linewidth=1, linecolor='black', mirror=True) # adicionando linhas no eixo x do grafico\n",
    "fig.update_yaxes(showline=True, linewidth=1, linecolor='black', mirror=True) # adicionando linhas no eixo y do gráfico\n",
    "fig.show()"
   ]
  },
  {
   "cell_type": "markdown",
   "id": "4a5ea731",
   "metadata": {},
   "source": [
    "<a id='mass-position-intensity-14-86'></a>\n",
    "#### 14.86 ppm"
   ]
  },
  {
   "cell_type": "code",
   "execution_count": null,
   "id": "05146ccd",
   "metadata": {},
   "outputs": [],
   "source": [
    "concentracao = 14.86\n",
    "\n",
    "df_aux = df_data[df_data['compound_concentration'] == concentracao].copy()\n",
    "df_aux = df_aux[df_aux['ScanHeader'].isin(conc_aleatorio)]\n",
    "df_aux.reset_index(inplace=True, drop=True)\n",
    "df_aux['ScanHeader'] = df_aux['ScanHeader'].astype(str)\n",
    "df_aux.head(2)"
   ]
  },
  {
   "cell_type": "code",
   "execution_count": null,
   "id": "9d80a671",
   "metadata": {},
   "outputs": [],
   "source": [
    "fig = px.line(df_aux, x ='mass_position', y='intensity', color='ScanHeader', title=f\"{concentracao} ppm\" )\n",
    "\n",
    "fig.update_layout(template='simple_white', margin={\"r\":0,\"l\":0,\"b\":0, 't':30},\n",
    "                  title={'y':0.98,'x':0.5,'xanchor': 'center','yanchor': 'top'})                  \n",
    "                 \n",
    "fig.add_hline(y=0, line_width=1, line_color=\"black\")\n",
    "fig.update_xaxes(showline=True, linewidth=1, linecolor='black', mirror=True) # adicionando linhas no eixo x do grafico\n",
    "fig.update_yaxes(showline=True, linewidth=1, linecolor='black', mirror=True) # adicionando linhas no eixo y do gráfico\n",
    "fig.show()"
   ]
  },
  {
   "cell_type": "markdown",
   "id": "7b2e0c0e",
   "metadata": {},
   "source": [
    "<a id='mass-position-intensity-18-45'></a>\n",
    "#### 18.45 ppm"
   ]
  },
  {
   "cell_type": "code",
   "execution_count": null,
   "id": "9611f6cd",
   "metadata": {},
   "outputs": [],
   "source": [
    "concentracao = 18.45\n",
    "\n",
    "df_aux = df_data[df_data['compound_concentration'] == concentracao].copy()\n",
    "df_aux = df_aux[df_aux['ScanHeader'].isin(conc_aleatorio)]\n",
    "df_aux.reset_index(inplace=True, drop=True)\n",
    "df_aux['ScanHeader'] = df_aux['ScanHeader'].astype(str)\n",
    "df_aux.head(2)"
   ]
  },
  {
   "cell_type": "code",
   "execution_count": null,
   "id": "6b0a6eb2",
   "metadata": {},
   "outputs": [],
   "source": [
    "fig = px.line(df_aux, x ='mass_position', y='intensity', color='ScanHeader', title=f\"{concentracao} ppm\" )\n",
    "\n",
    "fig.update_layout(template='simple_white', margin={\"r\":0,\"l\":0,\"b\":0, 't':30},\n",
    "                  title={'y':0.98,'x':0.5,'xanchor': 'center','yanchor': 'top'})                  \n",
    "                 \n",
    "fig.add_hline(y=0, line_width=1, line_color=\"black\")\n",
    "fig.update_xaxes(showline=True, linewidth=1, linecolor='black', mirror=True) # adicionando linhas no eixo x do grafico\n",
    "fig.update_yaxes(showline=True, linewidth=1, linecolor='black', mirror=True) # adicionando linhas no eixo y do gráfico\n",
    "fig.show()"
   ]
  },
  {
   "cell_type": "markdown",
   "id": "f3b64a2e",
   "metadata": {},
   "source": [
    "<a id='mass-position-intensity-22-05'></a>\n",
    "#### 22.05 ppm"
   ]
  },
  {
   "cell_type": "code",
   "execution_count": null,
   "id": "d40bfe44",
   "metadata": {},
   "outputs": [],
   "source": [
    "concentracao = 22.05\n",
    "\n",
    "df_aux = df_data[df_data['compound_concentration'] == concentracao].copy()\n",
    "df_aux = df_aux[df_aux['ScanHeader'].isin(conc_aleatorio)]\n",
    "df_aux.reset_index(inplace=True, drop=True)\n",
    "df_aux['ScanHeader'] = df_aux['ScanHeader'].astype(str)\n",
    "df_aux.head(2)"
   ]
  },
  {
   "cell_type": "code",
   "execution_count": null,
   "id": "a6e0f05e",
   "metadata": {},
   "outputs": [],
   "source": [
    "fig = px.line(df_aux, x ='mass_position', y='intensity', color='ScanHeader', title=f\"{concentracao} ppm\" )\n",
    "\n",
    "fig.update_layout(template='simple_white', margin={\"r\":0,\"l\":0,\"b\":0, 't':30},\n",
    "                  title={'y':0.98,'x':0.5,'xanchor': 'center','yanchor': 'top'})                  \n",
    "                 \n",
    "fig.add_hline(y=0, line_width=1, line_color=\"black\")\n",
    "fig.update_xaxes(showline=True, linewidth=1, linecolor='black', mirror=True) # adicionando linhas no eixo x do grafico\n",
    "fig.update_yaxes(showline=True, linewidth=1, linecolor='black', mirror=True) # adicionando linhas no eixo y do gráfico\n",
    "fig.show()"
   ]
  },
  {
   "cell_type": "markdown",
   "id": "3a206f03",
   "metadata": {},
   "source": [
    "<a id='mass-position-intensity-25-63'></a>\n",
    "#### 25.63 ppm"
   ]
  },
  {
   "cell_type": "code",
   "execution_count": null,
   "id": "9c409566",
   "metadata": {},
   "outputs": [],
   "source": [
    "concentracao = 25.63\n",
    "\n",
    "df_aux = df_data[df_data['compound_concentration'] == concentracao].copy()\n",
    "df_aux = df_aux[df_aux['ScanHeader'].isin(conc_aleatorio)]\n",
    "df_aux.reset_index(inplace=True, drop=True)\n",
    "df_aux['ScanHeader'] = df_aux['ScanHeader'].astype(str)\n",
    "df_aux.head(2)"
   ]
  },
  {
   "cell_type": "code",
   "execution_count": null,
   "id": "86fb8eee",
   "metadata": {},
   "outputs": [],
   "source": [
    "fig = px.line(df_aux, x ='mass_position', y='intensity', color='ScanHeader', title=f\"{concentracao} ppm\" )\n",
    "\n",
    "fig.update_layout(template='simple_white', margin={\"r\":0,\"l\":0,\"b\":0, 't':30},\n",
    "                  title={'y':0.98,'x':0.5,'xanchor': 'center','yanchor': 'top'})                  \n",
    "                 \n",
    "fig.add_hline(y=0, line_width=1, line_color=\"black\")\n",
    "fig.update_xaxes(showline=True, linewidth=1, linecolor='black', mirror=True) # adicionando linhas no eixo x do grafico\n",
    "fig.update_yaxes(showline=True, linewidth=1, linecolor='black', mirror=True) # adicionando linhas no eixo y do gráfico\n",
    "fig.show()"
   ]
  },
  {
   "cell_type": "code",
   "execution_count": null,
   "id": "85f73024",
   "metadata": {},
   "outputs": [],
   "source": [
    "concentracao = 25.63\n",
    "\n",
    "df_aux = df_data[df_data['compound_concentration'] == concentracao].copy()\n",
    "df_aux = df_aux[df_aux['ScanHeader'].isin(ams)]\n",
    "df_aux.reset_index(inplace=True, drop=True)\n",
    "df_aux['ScanHeader'] = df_aux['ScanHeader'].astype(str)\n",
    "df_aux.head(2)"
   ]
  },
  {
   "cell_type": "code",
   "execution_count": null,
   "id": "48853ea6",
   "metadata": {},
   "outputs": [],
   "source": [
    "fig = px.line(df_aux, x ='mass_position', y='intensity', color='ScanHeader', title=f\"{concentracao} ppm\" )\n",
    "\n",
    "fig.update_layout(template='simple_white', margin={\"r\":0,\"l\":0,\"b\":0, 't':30},\n",
    "                  title={'y':0.98,'x':0.5,'xanchor': 'center','yanchor': 'top'})                  \n",
    "                 \n",
    "fig.add_hline(y=0, line_width=1, line_color=\"black\")\n",
    "fig.update_xaxes(showline=True, linewidth=1, linecolor='black', mirror=True) # adicionando linhas no eixo x do grafico\n",
    "fig.update_yaxes(showline=True, linewidth=1, linecolor='black', mirror=True) # adicionando linhas no eixo y do gráfico\n",
    "fig.show()"
   ]
  },
  {
   "cell_type": "markdown",
   "id": "d3c4b169",
   "metadata": {},
   "source": [
    "<a id='mass-position-intensity-29-23'></a>\n",
    "#### 29.23 ppm"
   ]
  },
  {
   "cell_type": "code",
   "execution_count": null,
   "id": "e879d050",
   "metadata": {},
   "outputs": [],
   "source": [
    "concentracao = 29.23\n",
    "\n",
    "df_aux = df_data[df_data['compound_concentration'] == concentracao].copy()\n",
    "df_aux = df_aux[df_aux['ScanHeader'].isin(conc_aleatorio)]\n",
    "df_aux.reset_index(inplace=True, drop=True)\n",
    "df_aux['ScanHeader'] = df_aux['ScanHeader'].astype(str)\n",
    "df_aux.head(2)"
   ]
  },
  {
   "cell_type": "code",
   "execution_count": null,
   "id": "b3bffb97",
   "metadata": {},
   "outputs": [],
   "source": [
    "fig = px.line(df_aux, x ='mass_position', y='intensity', color='ScanHeader', title=f\"{concentracao} ppm\" )\n",
    "\n",
    "fig.update_layout(template='simple_white', margin={\"r\":0,\"l\":0,\"b\":0, 't':30},\n",
    "                  title={'y':0.98,'x':0.5,'xanchor': 'center','yanchor': 'top'})                  \n",
    "                 \n",
    "fig.add_hline(y=0, line_width=1, line_color=\"black\")\n",
    "fig.update_xaxes(showline=True, linewidth=1, linecolor='black', mirror=True) # adicionando linhas no eixo x do grafico\n",
    "fig.update_yaxes(showline=True, linewidth=1, linecolor='black', mirror=True) # adicionando linhas no eixo y do gráfico\n",
    "fig.show()"
   ]
  },
  {
   "cell_type": "markdown",
   "id": "982e13a6",
   "metadata": {},
   "source": [
    "<a id='mass-position-intensity-32-82'></a>\n",
    "#### 32.82 ppm"
   ]
  },
  {
   "cell_type": "code",
   "execution_count": null,
   "id": "2e260ddd",
   "metadata": {},
   "outputs": [],
   "source": [
    "concentracao = 32.82\n",
    "\n",
    "df_aux = df_data[df_data['compound_concentration'] == concentracao].copy()\n",
    "df_aux = df_aux[df_aux['ScanHeader'].isin(conc_aleatorio)]\n",
    "df_aux.reset_index(inplace=True, drop=True)\n",
    "df_aux['ScanHeader'] = df_aux['ScanHeader'].astype(str)\n",
    "df_aux.head(2)"
   ]
  },
  {
   "cell_type": "code",
   "execution_count": null,
   "id": "bc26b867",
   "metadata": {},
   "outputs": [],
   "source": [
    "fig = px.line(df_aux, x ='mass_position', y='intensity', color='ScanHeader', title=f\"{concentracao} ppm\" )\n",
    "\n",
    "fig.update_layout(template='simple_white', margin={\"r\":0,\"l\":0,\"b\":0, 't':30},\n",
    "                  title={'y':0.98,'x':0.5,'xanchor': 'center','yanchor': 'top'})                  \n",
    "                 \n",
    "fig.add_hline(y=0, line_width=1, line_color=\"black\")\n",
    "fig.update_xaxes(showline=True, linewidth=1, linecolor='black', mirror=True) # adicionando linhas no eixo x do grafico\n",
    "fig.update_yaxes(showline=True, linewidth=1, linecolor='black', mirror=True) # adicionando linhas no eixo y do gráfico\n",
    "fig.show()"
   ]
  },
  {
   "cell_type": "markdown",
   "id": "1f7330f9",
   "metadata": {},
   "source": [
    "<a id='mass-position-intensity-36-41'></a>\n",
    "#### 36.41 ppm"
   ]
  },
  {
   "cell_type": "code",
   "execution_count": null,
   "id": "19c047dd",
   "metadata": {},
   "outputs": [],
   "source": [
    "concentracao = 36.41\n",
    "\n",
    "df_aux = df_data[df_data['compound_concentration'] == concentracao].copy()\n",
    "df_aux = df_aux[df_aux['ScanHeader'].isin(conc_aleatorio)]\n",
    "df_aux.reset_index(inplace=True, drop=True)\n",
    "df_aux['ScanHeader'] = df_aux['ScanHeader'].astype(str)\n",
    "df_aux.head(2)"
   ]
  },
  {
   "cell_type": "code",
   "execution_count": null,
   "id": "efe802f5",
   "metadata": {},
   "outputs": [],
   "source": [
    "fig = px.line(df_aux, x ='mass_position', y='intensity', color='ScanHeader', title=f\"{concentracao} ppm\" )\n",
    "\n",
    "fig.update_layout(template='simple_white', margin={\"r\":0,\"l\":0,\"b\":0, 't':30},\n",
    "                  title={'y':0.98,'x':0.5,'xanchor': 'center','yanchor': 'top'})                  \n",
    "                 \n",
    "fig.add_hline(y=0, line_width=1, line_color=\"black\")\n",
    "fig.update_xaxes(showline=True, linewidth=1, linecolor='black', mirror=True) # adicionando linhas no eixo x do grafico\n",
    "fig.update_yaxes(showline=True, linewidth=1, linecolor='black', mirror=True) # adicionando linhas no eixo y do gráfico\n",
    "fig.show()"
   ]
  },
  {
   "cell_type": "markdown",
   "id": "dc29c9e4",
   "metadata": {},
   "source": [
    "<a id='mass-position-intensity-40-00'></a>\n",
    "#### 40.00 ppm"
   ]
  },
  {
   "cell_type": "code",
   "execution_count": null,
   "id": "dbaac21d",
   "metadata": {},
   "outputs": [],
   "source": [
    "concentracao =  40.00\n",
    "\n",
    "df_aux = df_data[df_data['compound_concentration'] == concentracao].copy()\n",
    "df_aux = df_aux[df_aux['ScanHeader'].isin(conc_aleatorio)]\n",
    "df_aux.reset_index(inplace=True, drop=True)\n",
    "df_aux['ScanHeader'] = df_aux['ScanHeader'].astype(str)\n",
    "df_aux.head(2)"
   ]
  },
  {
   "cell_type": "code",
   "execution_count": null,
   "id": "156b4597",
   "metadata": {},
   "outputs": [],
   "source": [
    "fig = px.line(df_aux, x ='mass_position', y='intensity', color='ScanHeader', title=f\"{concentracao} ppm\" )\n",
    "\n",
    "fig.update_layout(template='simple_white', margin={\"r\":0,\"l\":0,\"b\":0, 't':30},\n",
    "                  title={'y':0.98,'x':0.5,'xanchor': 'center','yanchor': 'top'})                  \n",
    "                 \n",
    "fig.add_hline(y=0, line_width=1, line_color=\"black\")\n",
    "fig.update_xaxes(showline=True, linewidth=1, linecolor='black', mirror=True) # adicionando linhas no eixo x do grafico\n",
    "fig.update_yaxes(showline=True, linewidth=1, linecolor='black', mirror=True) # adicionando linhas no eixo y do gráfico\n",
    "fig.show()"
   ]
  },
  {
   "cell_type": "markdown",
   "id": "f6f06e31",
   "metadata": {},
   "source": [
    "<a id='mass-position-intensity-out'></a>\n",
    "### mass_position versus intensity - entre concentrações\n",
    "\n",
    "Agora vamos plotar os gráficos comparando a mass-position e intensity entre as 11 concentrações."
   ]
  },
  {
   "cell_type": "code",
   "execution_count": null,
   "id": "9db97106",
   "metadata": {},
   "outputs": [],
   "source": [
    "conc_alea = range(50)\n",
    "random.seed(98)\n",
    "conc_alea = random.sample(conc_alea, k=5)\n",
    "conc_alea"
   ]
  },
  {
   "cell_type": "markdown",
   "id": "33da5895",
   "metadata": {},
   "source": [
    "<a id='mass-position-intensity-out-22'></a>\n",
    "#### ScanHeader 22"
   ]
  },
  {
   "cell_type": "code",
   "execution_count": null,
   "id": "0c529a4b",
   "metadata": {},
   "outputs": [],
   "source": [
    "df_aux = df_data.copy()\n",
    "df_aux = df_aux[df_aux['ScanHeader'] == 22]\n",
    "df_aux.reset_index(inplace=True, drop=True)\n",
    "df_aux['compound_concentration'] = df_aux['compound_concentration'].astype(str)\n",
    "df_aux.head(2)"
   ]
  },
  {
   "cell_type": "code",
   "execution_count": null,
   "id": "fefc6a1a",
   "metadata": {},
   "outputs": [],
   "source": [
    "fig = px.line(df_aux, x ='mass_position', y='intensity', color='compound_concentration', hover_name=\"ScanHeader\")\n",
    "\n",
    "fig.update_layout(template='simple_white', margin={\"r\":0,\"l\":0,\"b\":0, 't':30},\n",
    "                  title={'y':0.98,'x':0.5,'xanchor': 'center','yanchor': 'top'})                  \n",
    "                 \n",
    "fig.add_hline(y=0, line_width=1, line_color=\"black\")\n",
    "fig.update_xaxes(showline=True, linewidth=1, linecolor='black', mirror=True) # adicionando linhas no eixo x do grafico\n",
    "fig.update_yaxes(showline=True, linewidth=1, linecolor='black', mirror=True) # adicionando linhas no eixo y do gráfico\n",
    "fig.show()"
   ]
  },
  {
   "cell_type": "markdown",
   "id": "42831da0",
   "metadata": {},
   "source": [
    "<a id='mass-position-intensity-out-36'></a>\n",
    "#### ScanHeader 36"
   ]
  },
  {
   "cell_type": "code",
   "execution_count": null,
   "id": "ef216fe0",
   "metadata": {},
   "outputs": [],
   "source": [
    "df_aux = df_data.copy()\n",
    "df_aux = df_aux[df_aux['ScanHeader'] == 36]\n",
    "df_aux.reset_index(inplace=True, drop=True)\n",
    "df_aux['compound_concentration'] = df_aux['compound_concentration'].astype(str)\n",
    "df_aux.head(2)"
   ]
  },
  {
   "cell_type": "code",
   "execution_count": null,
   "id": "24456508",
   "metadata": {},
   "outputs": [],
   "source": [
    "fig = px.line(df_aux, x ='mass_position', y='intensity', color='compound_concentration', hover_name=\"ScanHeader\")\n",
    "\n",
    "fig.update_layout(template='simple_white', margin={\"r\":0,\"l\":0,\"b\":0, 't':30},\n",
    "                  title={'y':0.98,'x':0.5,'xanchor': 'center','yanchor': 'top'})                  \n",
    "                 \n",
    "fig.add_hline(y=0, line_width=1, line_color=\"black\")\n",
    "fig.update_xaxes(showline=True, linewidth=1, linecolor='black', mirror=True) # adicionando linhas no eixo x do grafico\n",
    "fig.update_yaxes(showline=True, linewidth=1, linecolor='black', mirror=True) # adicionando linhas no eixo y do gráfico\n",
    "fig.show()"
   ]
  },
  {
   "cell_type": "markdown",
   "id": "82c87985",
   "metadata": {},
   "source": [
    "<a id='mass-position-intensity-out-2'></a>\n",
    "#### ScanHeader 2"
   ]
  },
  {
   "cell_type": "code",
   "execution_count": null,
   "id": "8e869af6",
   "metadata": {},
   "outputs": [],
   "source": [
    "df_aux = df_data.copy()\n",
    "df_aux = df_aux[df_aux['ScanHeader'] == 2]\n",
    "df_aux.reset_index(inplace=True, drop=True)\n",
    "df_aux['compound_concentration'] = df_aux['compound_concentration'].astype(str)\n",
    "df_aux.head(2)"
   ]
  },
  {
   "cell_type": "code",
   "execution_count": null,
   "id": "0d67b5b0",
   "metadata": {},
   "outputs": [],
   "source": [
    "fig = px.line(df_aux, x ='mass_position', y='intensity', color='compound_concentration', hover_name=\"ScanHeader\")\n",
    "\n",
    "fig.update_layout(template='simple_white', margin={\"r\":0,\"l\":0,\"b\":0, 't':30},\n",
    "                  title={'y':0.98,'x':0.5,'xanchor': 'center','yanchor': 'top'})                  \n",
    "                 \n",
    "fig.add_hline(y=0, line_width=1, line_color=\"black\")\n",
    "fig.update_xaxes(showline=True, linewidth=1, linecolor='black', mirror=True) # adicionando linhas no eixo x do grafico\n",
    "fig.update_yaxes(showline=True, linewidth=1, linecolor='black', mirror=True) # adicionando linhas no eixo y do gráfico\n",
    "fig.show()"
   ]
  },
  {
   "cell_type": "markdown",
   "id": "9f70a5de",
   "metadata": {},
   "source": [
    "<a id='mass-position-intensity-out-26'></a>\n",
    "#### ScanHeader 26"
   ]
  },
  {
   "cell_type": "code",
   "execution_count": null,
   "id": "9af74f18",
   "metadata": {},
   "outputs": [],
   "source": [
    "df_aux = df_data.copy()\n",
    "df_aux = df_aux[df_aux['ScanHeader'] == 26]\n",
    "df_aux.reset_index(inplace=True, drop=True)\n",
    "df_aux['compound_concentration'] = df_aux['compound_concentration'].astype(str)\n",
    "df_aux.head(2)"
   ]
  },
  {
   "cell_type": "code",
   "execution_count": null,
   "id": "e54df80d",
   "metadata": {},
   "outputs": [],
   "source": [
    "fig = px.line(df_aux, x ='mass_position', y='intensity', color='compound_concentration', hover_name=\"ScanHeader\")\n",
    "\n",
    "fig.update_layout(template='simple_white', margin={\"r\":0,\"l\":0,\"b\":0, 't':30},\n",
    "                  title={'y':0.98,'x':0.5,'xanchor': 'center','yanchor': 'top'})                  \n",
    "                 \n",
    "fig.add_hline(y=0, line_width=1, line_color=\"black\")\n",
    "fig.update_xaxes(showline=True, linewidth=1, linecolor='black', mirror=True) # adicionando linhas no eixo x do grafico\n",
    "fig.update_yaxes(showline=True, linewidth=1, linecolor='black', mirror=True) # adicionando linhas no eixo y do gráfico\n",
    "fig.show()"
   ]
  },
  {
   "cell_type": "markdown",
   "id": "40fa3784",
   "metadata": {},
   "source": [
    "<a id='mass-position-intensity-out-3'></a>\n",
    "#### ScanHeader 3"
   ]
  },
  {
   "cell_type": "code",
   "execution_count": null,
   "id": "c1cf5d67",
   "metadata": {},
   "outputs": [],
   "source": [
    "df_aux = df_data.copy()\n",
    "df_aux = df_aux[df_aux['ScanHeader'] == 3]\n",
    "df_aux.reset_index(inplace=True, drop=True)\n",
    "df_aux['compound_concentration'] = df_aux['compound_concentration'].astype(str)\n",
    "df_aux.head(2)"
   ]
  },
  {
   "cell_type": "code",
   "execution_count": null,
   "id": "d60e0ead",
   "metadata": {},
   "outputs": [],
   "source": [
    "fig = px.line(df_aux, x ='mass_position', y='intensity', color='compound_concentration', hover_name=\"ScanHeader\")\n",
    "\n",
    "fig.update_layout(template='simple_white', margin={\"r\":0,\"l\":0,\"b\":0, 't':30},\n",
    "                  title={'y':0.98,'x':0.5,'xanchor': 'center','yanchor': 'top'})                  \n",
    "                 \n",
    "fig.add_hline(y=0, line_width=1, line_color=\"black\")\n",
    "fig.update_xaxes(showline=True, linewidth=1, linecolor='black', mirror=True) # adicionando linhas no eixo x do grafico\n",
    "fig.update_yaxes(showline=True, linewidth=1, linecolor='black', mirror=True) # adicionando linhas no eixo y do gráfico\n",
    "fig.show()"
   ]
  },
  {
   "cell_type": "markdown",
   "id": "6e6af165",
   "metadata": {},
   "source": [
    "<a id='mass-position-intensity-out-42'></a>\n",
    "#### ScanHeader 42"
   ]
  },
  {
   "cell_type": "code",
   "execution_count": null,
   "id": "faa67157",
   "metadata": {},
   "outputs": [],
   "source": [
    "df_aux = df_data.copy()\n",
    "df_aux = df_aux[df_aux['ScanHeader'] == 42]\n",
    "df_aux.reset_index(inplace=True, drop=True)\n",
    "df_aux['compound_concentration'] = df_aux['compound_concentration'].astype(str)\n",
    "df_aux.head(2)"
   ]
  },
  {
   "cell_type": "code",
   "execution_count": null,
   "id": "668e4c2c",
   "metadata": {},
   "outputs": [],
   "source": [
    "fig = px.line(df_aux, x ='mass_position', y='intensity', color='compound_concentration', hover_name=\"ScanHeader\")\n",
    "\n",
    "fig.update_layout(template='simple_white', margin={\"r\":0,\"l\":0,\"b\":0, 't':30},\n",
    "                  title={'y':0.98,'x':0.5,'xanchor': 'center','yanchor': 'top'})                  \n",
    "                 \n",
    "fig.add_hline(y=0, line_width=1, line_color=\"black\")\n",
    "fig.update_xaxes(showline=True, linewidth=1, linecolor='black', mirror=True) # adicionando linhas no eixo x do grafico\n",
    "fig.update_yaxes(showline=True, linewidth=1, linecolor='black', mirror=True) # adicionando linhas no eixo y do gráfico\n",
    "fig.show()"
   ]
  },
  {
   "cell_type": "markdown",
   "id": "bc7d03ee",
   "metadata": {},
   "source": [
    "<a id='mass-position-intensity-out-7'></a>\n",
    "#### ScanHeader 7"
   ]
  },
  {
   "cell_type": "code",
   "execution_count": null,
   "id": "957a8b16",
   "metadata": {},
   "outputs": [],
   "source": [
    "df_aux = df_data.copy()\n",
    "df_aux = df_aux[df_aux['ScanHeader'] == 7]\n",
    "df_aux.reset_index(inplace=True, drop=True)\n",
    "df_aux['compound_concentration'] = df_aux['compound_concentration'].astype(str)\n",
    "df_aux.head(2)"
   ]
  },
  {
   "cell_type": "code",
   "execution_count": null,
   "id": "55f3cb96",
   "metadata": {},
   "outputs": [],
   "source": [
    "fig = px.line(df_aux, x ='mass_position', y='intensity', color='compound_concentration', hover_name=\"ScanHeader\")\n",
    "\n",
    "fig.update_layout(template='simple_white', margin={\"r\":0,\"l\":0,\"b\":0, 't':30},\n",
    "                  title={'y':0.98,'x':0.5,'xanchor': 'center','yanchor': 'top'})                  \n",
    "                 \n",
    "fig.add_hline(y=0, line_width=1, line_color=\"black\")\n",
    "fig.update_xaxes(showline=True, linewidth=1, linecolor='black', mirror=True) # adicionando linhas no eixo x do grafico\n",
    "fig.update_yaxes(showline=True, linewidth=1, linecolor='black', mirror=True) # adicionando linhas no eixo y do gráfico\n",
    "fig.show()"
   ]
  },
  {
   "cell_type": "markdown",
   "id": "28937f51",
   "metadata": {},
   "source": [
    "<a id='mass-position-intensity-resumo'></a>\n",
    "#### Resumo\n",
    "\n",
    "Neste arquivo, analiso o gráfico obtido relacionando a `intensity` com a `mass_position`. Este provavelmente é o resultado mais importante. \n",
    "\n",
    "Como a quantidade de dados é muito grande, optei por trabalhar com apenas 5 amostras por gráfico. Inicialmente, eu fixei 5 Scans, e obtive os gráficos. Neste caso, os resultados são muito semelhantes entre si. Eu consigo apenas verificar que a complexidade dos dados é muito grande, especialmente nos picos de baixa intensidade. Neste ponto, poder dar zoom no gráfico é muito útil. \n",
    "\n",
    "Após esta análise, eu escolhi aleatóriamente 5 scans, e plotei as 11 concentrações juntas para cada scan. Contudo, os dados mais gerais tendem a ser muito semelhantes.\n",
    "\n",
    "A excessão é a amostra de `25.63` ppm no Scan `26`. Esta amostra tem uma intensidade muito maior do que todas as demais."
   ]
  },
  {
   "cell_type": "code",
   "execution_count": null,
   "id": "b802afa3",
   "metadata": {},
   "outputs": [],
   "source": [
    "print(f\"Tempo de execução total: {(time.time() - start_time)/60} minutos\")"
   ]
  }
 ],
 "metadata": {
  "kernelspec": {
   "display_name": "Python 3 (ipykernel)",
   "language": "python",
   "name": "python3"
  },
  "language_info": {
   "codemirror_mode": {
    "name": "ipython",
    "version": 3
   },
   "file_extension": ".py",
   "mimetype": "text/x-python",
   "name": "python",
   "nbconvert_exporter": "python",
   "pygments_lexer": "ipython3",
   "version": "3.9.10"
  }
 },
 "nbformat": 4,
 "nbformat_minor": 5
}
