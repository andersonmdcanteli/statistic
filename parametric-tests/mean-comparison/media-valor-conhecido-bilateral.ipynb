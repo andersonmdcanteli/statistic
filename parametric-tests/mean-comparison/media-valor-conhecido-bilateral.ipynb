{
 "cells": [
  {
   "cell_type": "markdown",
   "id": "2bafd21e",
   "metadata": {},
   "source": [
    "# Teste de comparação de uma média com um valor conhecido (bilateral)\n",
    "\n",
    "Neste script você obtém:\n",
    "\n",
    "- Verficação da suposição de Normalidade dos dados;\n",
    "- Estatística do teste;\n",
    "- Valor crítico do teste;\n",
    "- p-valor do teste;\n",
    "- Gráfico da distribuição t-Student\n",
    "    - Gráfico estatico Formatado para publicações (colorido)\n",
    "    - Gráfico estatico Formatado XKCD (to be funny)\n",
    "    - Gráfico interativo (para apresentações)"
   ]
  },
  {
   "cell_type": "markdown",
   "id": "2e9fe2f3",
   "metadata": {},
   "source": [
    "## Importações"
   ]
  },
  {
   "cell_type": "code",
   "execution_count": null,
   "id": "a125ba26",
   "metadata": {},
   "outputs": [],
   "source": [
    "import numpy as np\n",
    "from scipy import stats\n",
    "import matplotlib.pyplot as plt\n",
    "import plotly.express as px\n",
    "import plotly.graph_objects as go"
   ]
  },
  {
   "cell_type": "markdown",
   "id": "b716e6b8",
   "metadata": {},
   "source": [
    "## Teste Bilateral"
   ]
  },
  {
   "cell_type": "markdown",
   "id": "7c3e3296",
   "metadata": {},
   "source": [
    "### Entrada de dados"
   ]
  },
  {
   "cell_type": "code",
   "execution_count": null,
   "id": "b25965cf",
   "metadata": {},
   "outputs": [],
   "source": [
    "alfa = 0.05 \n",
    "known_value = 750\n",
    "dec_places = 3\n",
    "x_exp = np.array([767.8, 764.1, 716.8, 750.2, 756.0, 692.5, 736.1, 746.1, 731.4])"
   ]
  },
  {
   "cell_type": "markdown",
   "id": "e5ef7545",
   "metadata": {},
   "source": [
    "### Verificando Normalidade dos dados"
   ]
  },
  {
   "cell_type": "code",
   "execution_count": null,
   "id": "74988332",
   "metadata": {},
   "outputs": [],
   "source": [
    "sw = stats.shapiro(x_exp)\n",
    "if sw.pvalue < alfa:\n",
    "    print(f\"Os dados NÃO são Normais ({sw.pvalue})\")\n",
    "else:\n",
    "    print(f\"Os dados são Normais ({sw.pvalue})\")"
   ]
  },
  {
   "cell_type": "markdown",
   "id": "bcda9130",
   "metadata": {},
   "source": [
    "### Aplicando o teste"
   ]
  },
  {
   "cell_type": "code",
   "execution_count": null,
   "id": "0851b9f4",
   "metadata": {},
   "outputs": [],
   "source": [
    "t_calc = (x_exp.mean()-known_value)/(x_exp.std(ddof=1)/np.sqrt(x_exp.size))\n",
    "print(f\"A estatística do teste é : {t_calc}\")"
   ]
  },
  {
   "cell_type": "code",
   "execution_count": null,
   "id": "55e94010",
   "metadata": {},
   "outputs": [],
   "source": [
    "t_tab = stats.t.ppf(1-alfa/2, x_exp.size-1)\n",
    "print(f\"O valor crítico do teste é : {t_tab}\")"
   ]
  },
  {
   "cell_type": "code",
   "execution_count": null,
   "id": "f096a65d",
   "metadata": {},
   "outputs": [],
   "source": [
    "p_valor = (1 - stats.t.cdf(np.abs(t_calc), x_exp.size-1))*2\n",
    "print(f\"O p-valor do teste é {p_valor}\")"
   ]
  },
  {
   "cell_type": "markdown",
   "id": "12d9e3ee",
   "metadata": {},
   "source": [
    "#### Conclusão:"
   ]
  },
  {
   "cell_type": "code",
   "execution_count": null,
   "id": "780e8c81",
   "metadata": {},
   "outputs": [],
   "source": [
    "if p_valor > alfa:\n",
    "    print(f\"A média {x_exp.mean()} é diferente de {known_value} (com {100*(1-alfa)}% de confiança)\")\n",
    "else:\n",
    "    print(f\"A média {x_exp.mean()} é igual de {known_value} (com {100*(1-alfa)}% de confiança)\")"
   ]
  },
  {
   "cell_type": "markdown",
   "id": "8a47fee7",
   "metadata": {},
   "source": [
    "### Gráfico estático (para publicações)"
   ]
  },
  {
   "cell_type": "code",
   "execution_count": null,
   "id": "ff00b7a1",
   "metadata": {},
   "outputs": [],
   "source": [
    "if p_valor < alfa:\n",
    "    x_lim = np.abs(t_calc)*1.5\n",
    "else:\n",
    "    x_lim = np.abs(t_tab)*1.5\n",
    "    \n",
    "    \n",
    "plt.figure(figsize=(12,6))    \n",
    "\n",
    "# adding t distribution\n",
    "x = np.linspace(-1*x_lim, x_lim, 1000)\n",
    "y = stats.t.pdf(x, x_exp.size-1, loc=0, scale=1)\n",
    "plt.plot(x,y, label=\"Distribuição t de Student\", c='k')\n",
    "\n",
    "\n",
    "# adding fill probablility\n",
    "x = np.linspace(-1*x_lim, -1*np.abs(t_calc), 1000)\n",
    "y = stats.t.pdf(x, x_exp.size-1, loc=0, scale=1)\n",
    "\n",
    "plt.fill_between(x,y, color='moccasin', label='Probabilidade')\n",
    "\n",
    "\n",
    "# adding fill probablility\n",
    "x = np.linspace(np.abs(t_calc), x_lim, 1000)\n",
    "y = stats.t.pdf(x, x_exp.size-1, loc=0, scale=1)\n",
    "\n",
    "plt.fill_between(x,y, color='moccasin')\n",
    "\n",
    "# adding critical t right tail\n",
    "x = [t_tab, t_tab]\n",
    "plt.plot(x, [0, stats.t.pdf(0, x_exp.size-1, loc=0, scale=1)], label='t-crítico', c='b', ls='--')\n",
    "\n",
    "# adding critical t left tail\n",
    "x = [-1*t_tab, -1*t_tab]\n",
    "plt.plot(x, [0, stats.t.pdf(0, x_exp.size-1, loc=0, scale=1)], c='b', ls='--')\n",
    "\n",
    "# adding t calc\n",
    "x = [t_calc, t_calc]\n",
    "\n",
    "plt.plot(x, [0, stats.t.pdf(np.abs(t_calc), x_exp.size-1, loc=0, scale=1)], c='r', ls='--', label='t-calculado')\n",
    "\n",
    "plt.axhline(0, c='gray')\n",
    "\n",
    "plt.legend(loc=1, framealpha=1)\n",
    "# plt.savefig(\"test-t-bilateral.png\", bbox_inches='tight')\n",
    "plt.show()"
   ]
  },
  {
   "cell_type": "markdown",
   "id": "300bc1a7",
   "metadata": {},
   "source": [
    "### Plot for fun"
   ]
  },
  {
   "cell_type": "code",
   "execution_count": null,
   "id": "7643c93d",
   "metadata": {},
   "outputs": [],
   "source": [
    "with plt.xkcd():\n",
    "    plt.logging.getLogger('matplotlib.font_manager').disabled = True\n",
    "    plt.figure(figsize=(12,6))    \n",
    "\n",
    "    # adding t distribution\n",
    "    x = np.linspace(-1*x_lim, x_lim, 1000)\n",
    "    y = stats.t.pdf(x, x_exp.size-1, loc=0, scale=1)\n",
    "    plt.plot(x,y, label=\"Distribuição t de Student\", c='k')\n",
    "\n",
    "\n",
    "    # adding fill probablility\n",
    "    x = np.linspace(-1*x_lim, -1*np.abs(t_calc), 1000)\n",
    "    y = stats.t.pdf(x, x_exp.size-1, loc=0, scale=1)\n",
    "\n",
    "    plt.fill_between(x,y, color='moccasin', label='Probabilidade')\n",
    "\n",
    "\n",
    "    # adding fill probablility\n",
    "    x = np.linspace(np.abs(t_calc), x_lim, 1000)\n",
    "    y = stats.t.pdf(x, x_exp.size-1, loc=0, scale=1)\n",
    "\n",
    "    plt.fill_between(x,y, color='moccasin')\n",
    "\n",
    "    # adding critical t right tail\n",
    "    x = [t_tab, t_tab]\n",
    "    plt.plot(x, [0, stats.t.pdf(0, x_exp.size-1, loc=0, scale=1)], label='t-crítico', c='b', ls='--')\n",
    "\n",
    "    # adding critical t left tail\n",
    "    x = [-1*t_tab, -1*t_tab]\n",
    "    plt.plot(x, [0, stats.t.pdf(0, x_exp.size-1, loc=0, scale=1)], c='b', ls='--')\n",
    "\n",
    "    # adding t calc\n",
    "    x = [t_calc, t_calc]\n",
    "\n",
    "    plt.plot(x, [0, stats.t.pdf(np.abs(t_calc), x_exp.size-1, loc=0, scale=1)], c='r', ls='--', label='t-calculado')\n",
    "\n",
    "    plt.axhline(0, c='gray')\n",
    "\n",
    "    plt.legend(loc=1, framealpha=1)\n",
    "#     plt.savefig(\"test-t-bilateral-funny.png\", bbox_inches='tight')\n",
    "    plt.show()"
   ]
  },
  {
   "cell_type": "markdown",
   "id": "674f76b1",
   "metadata": {},
   "source": [
    "### Gráfico interativo (para apresentações)"
   ]
  },
  {
   "cell_type": "code",
   "execution_count": null,
   "id": "1b7fe1d0",
   "metadata": {},
   "outputs": [],
   "source": [
    "if p_valor < alfa:\n",
    "    x_lim = np.abs(t_calc)*1.5\n",
    "else:\n",
    "    x_lim = np.abs(t_tab)*1.5\n",
    "\n",
    "x = np.linspace(-1*x_lim, x_lim, 1000)\n",
    "y = stats.t.pdf(x, x_exp.size-1, loc=0, scale=1)\n",
    "\n",
    "try:\n",
    "    fig = px.line(x=x, y=y).update_traces(line=dict(color='black'))\n",
    "except:\n",
    "    fig = px.line(x=x, y=y).update_traces(line=dict(color='black'))\n",
    "fig['data'][0]['showlegend'] = True\n",
    "fig['data'][0]['name'] = \"Distribuição t de Student\"\n",
    "\n",
    "\n",
    "# adding fill probablility\n",
    "x = np.linspace(-1*x_lim, -1*np.abs(t_calc), 1000)\n",
    "y = stats.t.pdf(x, x_exp.size-1, loc=0, scale=1)\n",
    "\n",
    "fig.add_trace(\n",
    "    go.Scatter(\n",
    "        x = x, y=y, fill='tozeroy', mode='none',\n",
    "        name=\"Probabilidade\", legendgroup='1', showlegend=True, fillcolor='moccasin',\n",
    "        hovertemplate = 'p-valor' + f\" = {np.round(p_valor, dec_places)}<extra></extra>\"\n",
    "    )\n",
    ")\n",
    "# adding fill probablility\n",
    "x = np.linspace(np.abs(t_calc), x_lim, 1000)\n",
    "y = stats.t.pdf(x, x_exp.size-1, loc=0, scale=1)\n",
    "\n",
    "fig.add_trace(\n",
    "    go.Scatter(\n",
    "        x = x, y=y, fill='tozeroy', mode='none',\n",
    "        name='Probabilidade', legendgroup='1', showlegend=False, fillcolor='moccasin',\n",
    "        hovertemplate = 'p-valor' + f\" = {np.round(p_valor, dec_places)}<extra></extra>\"\n",
    "    )\n",
    ")\n",
    "\n",
    "# adding critical t right tail\n",
    "x = [t_tab, t_tab]\n",
    "fig.add_trace(\n",
    "    go.Scatter(\n",
    "        x=x, y= [0, stats.t.pdf(0, x_exp.size-1, loc=0, scale=1)],\n",
    "        mode='lines', line = dict(color = 'blue', dash=\"dot\", width=1),\n",
    "        name='t-crítico', legendgroup='2',\n",
    "        customdata= np.round(x, dec_places),\n",
    "        hovertemplate = 't-crítico' + \" = %{customdata} <extra></extra>\"\n",
    "    )\n",
    ")\n",
    "# adding critical t left tail\n",
    "x = [-1*t_tab, -1*t_tab]\n",
    "fig.add_trace(\n",
    "    go.Scatter(\n",
    "        x=x, y= [0, stats.t.pdf(0, x_exp.size-1, loc=0, scale=1)],\n",
    "        mode='lines', line = dict(color = 'blue', dash=\"dot\", width=1),\n",
    "        name='t-crítico', legendgroup='2', showlegend=False,\n",
    "        customdata= np.round(x, dec_places),\n",
    "        hovertemplate = 't-crítico' + \" = %{customdata} <extra></extra>\"\n",
    "    )\n",
    ")\n",
    "# adding t calc\n",
    "x = [t_calc, t_calc]\n",
    "fig.add_trace(\n",
    "    go.Scatter(\n",
    "        x=x, y= [0, stats.t.pdf(np.abs(t_calc), x_exp.size-1, loc=0, scale=1)],\n",
    "        mode='lines', line = dict(color = 'red', dash=\"dot\", width=2),\n",
    "        name='t-calculado', legendgroup='3', showlegend=True,\n",
    "        customdata= np.round(x, dec_places),\n",
    "        hovertemplate =  't-calculado' + \" = %{customdata} <extra></extra>\"\n",
    "    )\n",
    ")\n",
    "\n",
    "        \n",
    "\n",
    "fig.update_layout(\n",
    "                legend = dict(\n",
    "                    yanchor=\"top\",\n",
    "                    y=0.99,\n",
    "                    xanchor=\"left\",\n",
    "                    x=0.01,\n",
    "\n",
    "                )\n",
    "            )\n",
    "fig.add_hline(y=0, line_width=2, line_dash=\"solid\", line_color=\"black\")\n",
    "\n",
    "# ajustando o layout\n",
    "fig.update_layout(\n",
    "                template='simple_white',\n",
    "                hoverlabel = dict(\n",
    "                    font_size = 16,\n",
    "                    font_family = \"Rockwell\"\n",
    "                ),\n",
    "                legend = dict(\n",
    "                    font_size = 12,\n",
    "                    font_family = \"Rockwell\",\n",
    "                    bordercolor=\"Black\", borderwidth=1\n",
    "                ),\n",
    "                margin={\"r\":0,\"l\":0,\"b\":0, 't':30}, # removendo margens desnecessárias\n",
    "            )\n",
    "fig.update_xaxes(showline=True, linewidth=1, linecolor='black', mirror=True, title=None)\n",
    "fig.update_yaxes(showline=True, linewidth=1, linecolor='black', mirror=True, title=None)\n",
    "# fig.write_html(\"test-t-bilateral-interactive.html\")\n",
    "fig.show()"
   ]
  },
  {
   "cell_type": "code",
   "execution_count": null,
   "id": "416b10eb",
   "metadata": {},
   "outputs": [],
   "source": []
  },
  {
   "cell_type": "code",
   "execution_count": null,
   "id": "2d73e1da",
   "metadata": {},
   "outputs": [],
   "source": []
  }
 ],
 "metadata": {
  "kernelspec": {
   "display_name": "Python 3 (ipykernel)",
   "language": "python",
   "name": "python3"
  },
  "language_info": {
   "codemirror_mode": {
    "name": "ipython",
    "version": 3
   },
   "file_extension": ".py",
   "mimetype": "text/x-python",
   "name": "python",
   "nbconvert_exporter": "python",
   "pygments_lexer": "ipython3",
   "version": "3.9.10"
  }
 },
 "nbformat": 4,
 "nbformat_minor": 5
}
