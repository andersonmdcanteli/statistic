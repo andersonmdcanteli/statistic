{
 "cells": [
  {
   "cell_type": "code",
   "execution_count": 1,
   "id": "a2c88da1",
   "metadata": {},
   "outputs": [],
   "source": [
    "import numpy as np\n",
    "import matplotlib.pyplot as plt\n",
    "from scipy import stats\n"
   ]
  },
  {
   "cell_type": "markdown",
   "id": "6a74bee7",
   "metadata": {},
   "source": [
    "### Entrada de dados"
   ]
  },
  {
   "cell_type": "code",
   "execution_count": 2,
   "id": "fcd1bf5e",
   "metadata": {},
   "outputs": [],
   "source": [
    "alfa = 0.05 \n",
    "dec_places = 3\n",
    "grupo_A = np.array([5.873, 5.984, 5.891, 5.851, 5.901, 5.95, 5.888])\n",
    "grupo_B = np.array([5.721, 5.685, 5.746, 5.699, 5.725, 5.719, 5.781])"
   ]
  },
  {
   "cell_type": "markdown",
   "id": "e3adc828",
   "metadata": {},
   "source": [
    "### Verificando Normalidade dos dados"
   ]
  },
  {
   "cell_type": "code",
   "execution_count": 3,
   "id": "9de0368b",
   "metadata": {},
   "outputs": [],
   "source": [
    "def check_normality(x_exp, alfa):\n",
    "    sw = stats.shapiro(x_exp)\n",
    "    if sw.pvalue < alfa:\n",
    "        print(f\"Os dados NÃO são Normais (p-valor={sw.pvalue})\")\n",
    "    else:\n",
    "        print(f\"Os dados são Normais (p-valor={sw.pvalue})\")"
   ]
  },
  {
   "cell_type": "code",
   "execution_count": 4,
   "id": "10b57fbf",
   "metadata": {},
   "outputs": [
    {
     "name": "stdout",
     "output_type": "stream",
     "text": [
      "Os dados são Normais (p-valor=0.45935532450675964)\n"
     ]
    }
   ],
   "source": [
    "check_normality(grupo_A, alfa)        "
   ]
  },
  {
   "cell_type": "code",
   "execution_count": 5,
   "id": "e5da54aa",
   "metadata": {},
   "outputs": [
    {
     "name": "stdout",
     "output_type": "stream",
     "text": [
      "Os dados são Normais (p-valor=0.7319142818450928)\n"
     ]
    }
   ],
   "source": [
    "check_normality(grupo_B, alfa)        "
   ]
  },
  {
   "cell_type": "markdown",
   "id": "71a9d2a8",
   "metadata": {},
   "source": [
    "### Aplicando o teste"
   ]
  },
  {
   "cell_type": "code",
   "execution_count": 6,
   "id": "bdcdfc27",
   "metadata": {},
   "outputs": [
    {
     "name": "stdout",
     "output_type": "stream",
     "text": [
      "A estatística do teste é : 2.151739488072767\n",
      "O valor crítico do teste é : 4.283865713822639\n",
      "O p-valor do teste é 0.18668715538486247\n"
     ]
    }
   ],
   "source": [
    "var_grupo_A = grupo_A.var(ddof=1)\n",
    "var_grupo_B = grupo_B.var(ddof=1)\n",
    "if var_grupo_A > var_grupo_B:\n",
    "    F_calc = var_grupo_A/var_grupo_B\n",
    "    F_tab = stats.f.ppf(1-alfa, grupo_A.size-1, grupo_B.size-1)\n",
    "    p_valor = 1 - stats.f.cdf(np.abs(F_calc), grupo_A.size-1, grupo_B.size-1)\n",
    "else:\n",
    "    F_calc = var_grupo_B/var_grupo_A\n",
    "    F_tab = stats.f.ppf(1-alfa, grupo_B.size-1, grupo_A.size-1)\n",
    "    p_valor = 1 - stats.f.cdf(np.abs(F_calc), grupo_B.size-1, grupo_A.size-1)\n",
    "    \n",
    "print(f\"A estatística do teste é : {F_calc}\")\n",
    "print(f\"O valor crítico do teste é : {F_tab}\")\n",
    "print(f\"O p-valor do teste é {p_valor}\")"
   ]
  },
  {
   "cell_type": "markdown",
   "id": "a1c742f3",
   "metadata": {},
   "source": [
    "#### Conclusão:"
   ]
  },
  {
   "cell_type": "code",
   "execution_count": 7,
   "id": "dfe5757e",
   "metadata": {},
   "outputs": [
    {
     "name": "stdout",
     "output_type": "stream",
     "text": [
      "As variâncias são iguais (com 95.0% de confiança)\n"
     ]
    }
   ],
   "source": [
    "if p_valor < alfa:\n",
    "    print(f\"As variâncias são diferentes (com {100*(1-alfa)}% de confiança)\")\n",
    "else:\n",
    "    print(f\"As variâncias são iguais (com {100*(1-alfa)}% de confiança)\")"
   ]
  },
  {
   "cell_type": "code",
   "execution_count": null,
   "id": "aba1fbcc",
   "metadata": {},
   "outputs": [],
   "source": []
  }
 ],
 "metadata": {
  "kernelspec": {
   "display_name": "Python 3 (ipykernel)",
   "language": "python",
   "name": "python3"
  },
  "language_info": {
   "codemirror_mode": {
    "name": "ipython",
    "version": 3
   },
   "file_extension": ".py",
   "mimetype": "text/x-python",
   "name": "python",
   "nbconvert_exporter": "python",
   "pygments_lexer": "ipython3",
   "version": "3.9.10"
  }
 },
 "nbformat": 4,
 "nbformat_minor": 5
}
